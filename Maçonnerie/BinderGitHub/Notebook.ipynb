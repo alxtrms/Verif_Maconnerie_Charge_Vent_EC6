{
 "cells": [
  {
   "cell_type": "markdown",
   "id": "bc067e99",
   "metadata": {},
   "source": [
    "# Vérification façade en maçonnerie porteuse chargée au vent "
   ]
  },
  {
   "cell_type": "markdown",
   "id": "f0b76821",
   "metadata": {},
   "source": [
    "## 1. Données générales"
   ]
  },
  {
   "cell_type": "markdown",
   "id": "c0f8a7b0",
   "metadata": {},
   "source": [
    "### 1.1. Références normatives\n",
    "\n",
    "*- NF EN 1996 + AN : Calcul des ouvrages en maçonnerie*\n",
    "\n",
    "*- DTU 20.1 : Ouvrages en maçonnerie de petits éléments*"
   ]
  },
  {
   "cell_type": "markdown",
   "id": "cba383de",
   "metadata": {},
   "source": [
    "### 1.2. Matériau"
   ]
  },
  {
   "cell_type": "code",
   "execution_count": 1,
   "id": "0a35d085",
   "metadata": {
    "scrolled": true
   },
   "outputs": [
    {
     "data": {
      "application/vnd.jupyter.widget-view+json": {
       "model_id": "201c95c95cee4fa39cc3da58d09fd446",
       "version_major": 2,
       "version_minor": 0
      },
      "text/plain": [
       "Dropdown(description='Matériau :', options=('Terre cuite', 'Silico-calcaire', 'Béton de granulats courants ou …"
      ]
     },
     "metadata": {},
     "output_type": "display_data"
    }
   ],
   "source": [
    "import ipywidgets as widgets\n",
    "from tkinter import *\n",
    "\n",
    "materiau=widgets.Dropdown(\n",
    "    options=['Terre cuite','Silico-calcaire','Béton de granulats courants ou légers','Béton cellulaire autoclave', 'Pierre reconstituee','Pierre naturelle dimensionnee'],\n",
    "    value='Terre cuite',\n",
    "    description='Matériau :',\n",
    "    disabled=False,\n",
    ")\n",
    "display(materiau)\n"
   ]
  },
  {
   "cell_type": "markdown",
   "id": "61cafada",
   "metadata": {},
   "source": [
    "#### Poids volumique [kN/m3]"
   ]
  },
  {
   "cell_type": "code",
   "execution_count": 100,
   "id": "047a60bd",
   "metadata": {},
   "outputs": [
    {
     "data": {
      "application/vnd.jupyter.widget-view+json": {
       "model_id": "0615c35c484647b48bd202b4de28b5b5",
       "version_major": 2,
       "version_minor": 0
      },
      "text/plain": [
       "FloatText(value=0.0, description='$$\\rho_{m} :$$')"
      ]
     },
     "metadata": {},
     "output_type": "display_data"
    }
   ],
   "source": [
    "pv=widgets.FloatText(\n",
    "    value=0,\n",
    "    description='$$\\rho_{m} :$$',\n",
    "    disabled=False\n",
    ")\n",
    "display(pv)"
   ]
  },
  {
   "cell_type": "markdown",
   "id": "c4a0aed0",
   "metadata": {},
   "source": [
    "#### Type depose du mur"
   ]
  },
  {
   "cell_type": "code",
   "execution_count": 3,
   "id": "84c92f08",
   "metadata": {
    "scrolled": true
   },
   "outputs": [
    {
     "data": {
      "application/vnd.jupyter.widget-view+json": {
       "model_id": "d5da0718dc2048d6a36afdefed111bd0",
       "version_major": 2,
       "version_minor": 0
      },
      "text/plain": [
       "Dropdown(description='Montage :', options=('au mortier courant ou au mortier allégé (joints épais)', 'à joints…"
      ]
     },
     "metadata": {},
     "output_type": "display_data"
    }
   ],
   "source": [
    "montage=widgets.Dropdown(\n",
    "    options=['au mortier courant ou au mortier allégé (joints épais)','à joints minces de 1 à 3 mm','à joints minces de 1 à 3 mm (éléments de terre cuite, groupe 2 et 3'],\n",
    "    value='au mortier courant ou au mortier allégé (joints épais)',\n",
    "    description='Montage :',\n",
    "    disabled=False,\n",
    ")\n",
    "display(montage)"
   ]
  },
  {
   "cell_type": "markdown",
   "id": "db888d5b",
   "metadata": {},
   "source": [
    "#### Résistance moyenne normalisée de l'élément fb [Mpa] "
   ]
  },
  {
   "cell_type": "code",
   "execution_count": 101,
   "id": "b3aedc57",
   "metadata": {},
   "outputs": [
    {
     "data": {
      "application/vnd.jupyter.widget-view+json": {
       "model_id": "737c953c61614609932eb73ba0a44191",
       "version_major": 2,
       "version_minor": 0
      },
      "text/plain": [
       "FloatText(value=0.0, description='$$f_{b} :$$')"
      ]
     },
     "metadata": {},
     "output_type": "display_data"
    }
   ],
   "source": [
    "fb=widgets.FloatText(\n",
    "    value=0,\n",
    "    description='$$f_{b} :$$',\n",
    "    disabled=False\n",
    ")\n",
    "display(fb)"
   ]
  },
  {
   "cell_type": "markdown",
   "id": "23a297df",
   "metadata": {},
   "source": [
    "#### Résistance à la compression du mortier de montage fm [Mpa]"
   ]
  },
  {
   "cell_type": "code",
   "execution_count": 102,
   "id": "75dc968b",
   "metadata": {},
   "outputs": [
    {
     "data": {
      "application/vnd.jupyter.widget-view+json": {
       "model_id": "8d625d9bd0c84dfbbabd0baccc4e81e4",
       "version_major": 2,
       "version_minor": 0
      },
      "text/plain": [
       "FloatText(value=0.0, description='$$f_{m}:$$')"
      ]
     },
     "metadata": {},
     "output_type": "display_data"
    }
   ],
   "source": [
    "fm=widgets.FloatText(\n",
    "    value=0,\n",
    "    description='$$f_{m}:$$',\n",
    "    disabled=False\n",
    ")\n",
    "display(fm)"
   ]
  },
  {
   "cell_type": "markdown",
   "id": "7c713c14",
   "metadata": {},
   "source": [
    "#### Coefficient K"
   ]
  },
  {
   "cell_type": "code",
   "execution_count": 6,
   "id": "7441e183",
   "metadata": {
    "scrolled": false
   },
   "outputs": [
    {
     "data": {
      "application/vnd.jupyter.widget-view+json": {
       "model_id": "db9b01afcb4c46b3aac72e289c6a3b13",
       "version_major": 2,
       "version_minor": 0
      },
      "text/plain": [
       "Image(value=b'\\x89PNG\\r\\n\\x1a\\n\\x00\\x00\\x00\\rIHDR\\x00\\x00\\x02\\xa0\\x00\\x00\\x02\\x1d\\x08\\x06\\x00\\x00\\x00\\xe2h\\xcf…"
      ]
     },
     "metadata": {},
     "output_type": "display_data"
    }
   ],
   "source": [
    "file = open(\"Images/Coeff_K.png\", \"rb\")\n",
    "image = file.read()\n",
    "widgets.Image(\n",
    "    value=image,\n",
    "    format='png',\n",
    "    width=400,\n",
    "    height=400,\n",
    ")"
   ]
  },
  {
   "cell_type": "code",
   "execution_count": 103,
   "id": "0f92e3c5",
   "metadata": {
    "scrolled": true
   },
   "outputs": [
    {
     "data": {
      "application/vnd.jupyter.widget-view+json": {
       "model_id": "6f070cc4e7ac4a0b9d1be279ab018d22",
       "version_major": 2,
       "version_minor": 0
      },
      "text/plain": [
       "Dropdown(description='$$k:$$', options=(0.2, 0.25, 0.3, 0.35, 0.4, 0.45, 0.5, 0.55, 0.6, 0.65, 0.7, 0.75, 0.8)…"
      ]
     },
     "metadata": {},
     "output_type": "display_data"
    }
   ],
   "source": [
    "K=widgets.Dropdown(\n",
    "    options=[0.20,0.25,0.30,0.35,0.40,0.45,0.50,0.55,0.60,0.65,0.70,0.75,0.80],\n",
    "    value=0.20,\n",
    "    description='$$k:$$',\n",
    "    disabled=False,\n",
    ")\n",
    "display(K)"
   ]
  },
  {
   "cell_type": "markdown",
   "id": "79f51111",
   "metadata": {},
   "source": [
    "#### Coefficient gamma"
   ]
  },
  {
   "cell_type": "code",
   "execution_count": 8,
   "id": "c297e9a9",
   "metadata": {
    "scrolled": false
   },
   "outputs": [
    {
     "data": {
      "application/vnd.jupyter.widget-view+json": {
       "model_id": "80f597e62365491b9f56d86aff6ca8e8",
       "version_major": 2,
       "version_minor": 0
      },
      "text/plain": [
       "Image(value=b'\\x89PNG\\r\\n\\x1a\\n\\x00\\x00\\x00\\rIHDR\\x00\\x00\\x02k\\x00\\x00\\x01\\xa5\\x08\\x06\\x00\\x00\\x00\\xa5F\\xb1\\xb…"
      ]
     },
     "metadata": {},
     "output_type": "display_data"
    }
   ],
   "source": [
    "file = open(\"Images/Gamma_m.png\", \"rb\")\n",
    "image = file.read()\n",
    "widgets.Image(\n",
    "    value=image,\n",
    "    format='png',\n",
    "    width=400,\n",
    "    height=400,\n",
    ")"
   ]
  },
  {
   "cell_type": "code",
   "execution_count": 104,
   "id": "eb9a1b73",
   "metadata": {},
   "outputs": [
    {
     "data": {
      "application/vnd.jupyter.widget-view+json": {
       "model_id": "ed86ba0536074cee9d7e5d08a7900526",
       "version_major": 2,
       "version_minor": 0
      },
      "text/plain": [
       "Dropdown(description='$$\\\\gamma_{m}:$$', index=1, options=(1.15, 1.5, 1.7, 2.0, 2.2, 2.3, 2.5, 2.7, 2.8, 3.3),…"
      ]
     },
     "metadata": {},
     "output_type": "display_data"
    }
   ],
   "source": [
    "gamma=widgets.Dropdown(\n",
    "    options=[1.15,1.5,1.7,2.0,2.2,2.3,2.5,2.7,2.8,3.3],\n",
    "    value=1.5,\n",
    "    description='$$\\gamma_{m}:$$',\n",
    "    disabled=False,\n",
    ")\n",
    "display(gamma)"
   ]
  },
  {
   "cell_type": "markdown",
   "id": "67ac88b0",
   "metadata": {},
   "source": [
    "#### Coefficient de fluage"
   ]
  },
  {
   "cell_type": "code",
   "execution_count": 80,
   "id": "8f174035",
   "metadata": {},
   "outputs": [
    {
     "data": {
      "application/vnd.jupyter.widget-view+json": {
       "model_id": "7edd0564b11649b08a87134c8abaa0f4",
       "version_major": 2,
       "version_minor": 0
      },
      "text/plain": [
       "Image(value=b'\\x89PNG\\r\\n\\x1a\\n\\x00\\x00\\x00\\rIHDR\\x00\\x00\\x02~\\x00\\x00\\x01\\xfc\\x08\\x06\\x00\\x00\\x00O@\\xa2.\\x00\\…"
      ]
     },
     "metadata": {},
     "output_type": "display_data"
    }
   ],
   "source": [
    "file = open(\"Images/Coeff_fluage.png\", \"rb\")\n",
    "image = file.read()\n",
    "widgets.Image(\n",
    "    value=image,\n",
    "    format='png',\n",
    "    width=400,\n",
    "    height=400,\n",
    ")"
   ]
  },
  {
   "cell_type": "code",
   "execution_count": 105,
   "id": "6016d5c4",
   "metadata": {},
   "outputs": [
    {
     "data": {
      "application/vnd.jupyter.widget-view+json": {
       "model_id": "bcc414e96ac54fb0a44d90f06e4869f5",
       "version_major": 2,
       "version_minor": 0
      },
      "text/plain": [
       "Dropdown(description='$$\\\\phi_{\\\\infty}:$$', options=(0, 1, 1.5, 2.0), value=0)"
      ]
     },
     "metadata": {},
     "output_type": "display_data"
    }
   ],
   "source": [
    "phif=widgets.Dropdown(\n",
    "    options=[0,1,1.5,2.0],\n",
    "    value=0,\n",
    "    description='$$\\phi_{\\infty}:$$',\n",
    "    disabled=False,\n",
    ")\n",
    "display(phif)"
   ]
  },
  {
   "cell_type": "markdown",
   "id": "2de5be6d",
   "metadata": {},
   "source": [
    "#### Résistance à la compression caractéristique fk et de calcul fd [Mpa]"
   ]
  },
  {
   "cell_type": "code",
   "execution_count": 24,
   "id": "5d9dfd4e",
   "metadata": {},
   "outputs": [],
   "source": [
    "if montage.value=='au mortier courant ou au mortier allégé (joints épais)':\n",
    "    fk=K.value*((fb.value)**0.7)*((fm.value)**0.3)\n",
    "elif montage.value=='à joints minces de 1 à 3 mm':\n",
    "    fk=K.value*((fb.value)**0.85)\n",
    "else : \n",
    "    fk=K.value*((fb.value)**0.7)\n",
    "    \n",
    "fk=round(fk,1)\n",
    "\n",
    "fd=fk/gamma.value\n",
    "fd=round(fd,1)"
   ]
  },
  {
   "cell_type": "markdown",
   "id": "543416d0",
   "metadata": {
    "variables": {
     "fd": "2.1",
     "fk": "4.6",
     "gamma.value": "1.5"
    }
   },
   "source": [
    "***Fk = {{fk}} MPa***\n",
    "\n",
    "***Fd = {{fk}}/{{gamma.value}}= {{fd}} MPa***"
   ]
  },
  {
   "cell_type": "markdown",
   "id": "6e4da623",
   "metadata": {},
   "source": [
    "### 1.2. Dimensions (longueur l; épaisseur t; hauteur h) [m]"
   ]
  },
  {
   "cell_type": "code",
   "execution_count": 99,
   "id": "941bff0f",
   "metadata": {},
   "outputs": [
    {
     "data": {
      "application/vnd.jupyter.widget-view+json": {
       "model_id": "d61c21bbed4e4da78266a4e02bae2fe1",
       "version_major": 2,
       "version_minor": 0
      },
      "text/plain": [
       "FloatText(value=0.0, description='$$l :$$')"
      ]
     },
     "metadata": {},
     "output_type": "display_data"
    }
   ],
   "source": [
    "l=widgets.FloatText(\n",
    "    value=0,\n",
    "    description='$$l :$$',\n",
    "    disabled=False\n",
    ")\n",
    "display(l)"
   ]
  },
  {
   "cell_type": "code",
   "execution_count": 106,
   "id": "48922e3e",
   "metadata": {},
   "outputs": [
    {
     "data": {
      "application/vnd.jupyter.widget-view+json": {
       "model_id": "e07523479e774db8b4a7c40b7526c5e6",
       "version_major": 2,
       "version_minor": 0
      },
      "text/plain": [
       "FloatText(value=0.0, description='$$t :$$')"
      ]
     },
     "metadata": {},
     "output_type": "display_data"
    }
   ],
   "source": [
    "t=widgets.FloatText(\n",
    "    value=0,\n",
    "    description='$$t :$$',\n",
    "    disabled=False\n",
    ")\n",
    "display(t)"
   ]
  },
  {
   "cell_type": "code",
   "execution_count": 107,
   "id": "c12bee4d",
   "metadata": {},
   "outputs": [
    {
     "data": {
      "application/vnd.jupyter.widget-view+json": {
       "model_id": "1ea0659aada24a418d4796f5ea4cb37b",
       "version_major": 2,
       "version_minor": 0
      },
      "text/plain": [
       "FloatText(value=0.0, description='$$h :$$')"
      ]
     },
     "metadata": {},
     "output_type": "display_data"
    }
   ],
   "source": [
    "h=widgets.FloatText(\n",
    "    value=0,\n",
    "    description='$$h :$$',\n",
    "    disabled=False\n",
    ")\n",
    "display(h)"
   ]
  },
  {
   "cell_type": "markdown",
   "id": "0c8cf0d1",
   "metadata": {},
   "source": [
    "## 2. Vérification en tête de mur "
   ]
  },
  {
   "cell_type": "markdown",
   "id": "4c4c0366",
   "metadata": {},
   "source": [
    "### 2.1. Caclul de la charge Nid,h et du moment Mid,h en tête de mur\n",
    "\n",
    "\n",
    " \n",
    "$$N_{id,h}=N_{id,h}+N_{ed,f}$$\n",
    "\n",
    "$$M_{id,h}=N_{edf}*\\frac{a}{2}+N_{edu}*\\frac{t+a}{4}$$"
   ]
  },
  {
   "cell_type": "code",
   "execution_count": 25,
   "id": "335cee38",
   "metadata": {
    "scrolled": true
   },
   "outputs": [
    {
     "data": {
      "application/vnd.jupyter.widget-view+json": {
       "model_id": "6e79a278e4bb4fc5b0ef78aa0aa93c06",
       "version_major": 2,
       "version_minor": 0
      },
      "text/plain": [
       "Image(value=b'\\x89PNG\\r\\n\\x1a\\n\\x00\\x00\\x00\\rIHDR\\x00\\x00\\x02X\\x00\\x00\\x02]\\x08\\x06\\x00\\x00\\x00\\xee\\xab\\to\\x00…"
      ]
     },
     "metadata": {},
     "output_type": "display_data"
    }
   ],
   "source": [
    "file = open(\"Images/Verif_tete.png\", \"rb\")\n",
    "image = file.read()\n",
    "widgets.Image(\n",
    "    value=image,\n",
    "    format='png',\n",
    "    width=300,\n",
    "    height=300,\n",
    ")"
   ]
  },
  {
   "cell_type": "markdown",
   "id": "db37c19d",
   "metadata": {},
   "source": [
    "####  Valeur de a [m]: "
   ]
  },
  {
   "cell_type": "code",
   "execution_count": 108,
   "id": "6ea6ef20",
   "metadata": {},
   "outputs": [
    {
     "data": {
      "application/vnd.jupyter.widget-view+json": {
       "model_id": "b3fc509f15cf49b7b864a02c8b2db489",
       "version_major": 2,
       "version_minor": 0
      },
      "text/plain": [
       "FloatText(value=0.0, description='$$a:$$')"
      ]
     },
     "metadata": {},
     "output_type": "display_data"
    }
   ],
   "source": [
    "a=widgets.FloatText(\n",
    "    value=0,\n",
    "    description='$$a:$$',\n",
    "    disabled=False\n",
    ")\n",
    "display(a)"
   ]
  },
  {
   "cell_type": "markdown",
   "id": "44047400",
   "metadata": {},
   "source": [
    "#### Charges en tête pour cas de charge maximal (G déf.) [kN] : "
   ]
  },
  {
   "cell_type": "markdown",
   "id": "bc7d09ae",
   "metadata": {},
   "source": [
    "*Charge due au mur supérieur :*"
   ]
  },
  {
   "cell_type": "code",
   "execution_count": 113,
   "id": "fe5fc354",
   "metadata": {
    "scrolled": true
   },
   "outputs": [
    {
     "data": {
      "application/vnd.jupyter.widget-view+json": {
       "model_id": "a5c083735b1741e1905dbdb403c551a7",
       "version_major": 2,
       "version_minor": 0
      },
      "text/plain": [
       "FloatText(value=0.0, description='$$N_{edu,h(max)}:$$')"
      ]
     },
     "metadata": {},
     "output_type": "display_data"
    }
   ],
   "source": [
    "Neduhmax=widgets.FloatText(\n",
    "    value=0,\n",
    "    description='$$N_{edu,h(max)}:$$',\n",
    "    disabled=False\n",
    ")\n",
    "display(Neduhmax)"
   ]
  },
  {
   "cell_type": "markdown",
   "id": "ce3d6580",
   "metadata": {},
   "source": [
    "*Charge due au plancher :*"
   ]
  },
  {
   "cell_type": "code",
   "execution_count": 114,
   "id": "22b612c3",
   "metadata": {
    "scrolled": true
   },
   "outputs": [
    {
     "data": {
      "application/vnd.jupyter.widget-view+json": {
       "model_id": "c09a0886b310418bae8e37c4c6c1bb83",
       "version_major": 2,
       "version_minor": 0
      },
      "text/plain": [
       "FloatText(value=0.0, description='$$N_{ed,f(max)}:$$')"
      ]
     },
     "metadata": {},
     "output_type": "display_data"
    }
   ],
   "source": [
    "Nedfmax=widgets.FloatText(\n",
    "    value=0,\n",
    "    description='$$N_{ed,f(max)}:$$',\n",
    "    disabled=False\n",
    ")\n",
    "display(Nedfmax)"
   ]
  },
  {
   "cell_type": "markdown",
   "id": "80503595",
   "metadata": {},
   "source": [
    "#### Charges en tête pour cas de charge minimal (G fav.) [kN] : "
   ]
  },
  {
   "cell_type": "markdown",
   "id": "5c847bb6",
   "metadata": {},
   "source": [
    "*Charge due au mur supérieur :*"
   ]
  },
  {
   "cell_type": "code",
   "execution_count": 115,
   "id": "91874f08",
   "metadata": {
    "scrolled": true
   },
   "outputs": [
    {
     "data": {
      "application/vnd.jupyter.widget-view+json": {
       "model_id": "c8c068cf90d14023a978467fe14ecc21",
       "version_major": 2,
       "version_minor": 0
      },
      "text/plain": [
       "FloatText(value=0.0, description='$$N_{edu,h(min)}:$$')"
      ]
     },
     "metadata": {},
     "output_type": "display_data"
    }
   ],
   "source": [
    "Neduhmin=widgets.FloatText(\n",
    "    value=0,\n",
    "    description='$$N_{edu,h(min)}:$$',\n",
    "    disabled=False\n",
    ")\n",
    "display(Neduhmin)"
   ]
  },
  {
   "cell_type": "markdown",
   "id": "65c14cac",
   "metadata": {},
   "source": [
    "*Charge due au plancher :*"
   ]
  },
  {
   "cell_type": "code",
   "execution_count": 116,
   "id": "de31b375",
   "metadata": {
    "scrolled": true
   },
   "outputs": [
    {
     "data": {
      "application/vnd.jupyter.widget-view+json": {
       "model_id": "38d1fcc967314d52b7c2d16a089ae654",
       "version_major": 2,
       "version_minor": 0
      },
      "text/plain": [
       "FloatText(value=0.0, description='$$N_{ed,f(min)}:$$')"
      ]
     },
     "metadata": {},
     "output_type": "display_data"
    }
   ],
   "source": [
    "Nedfmin=widgets.FloatText(\n",
    "    value=0,\n",
    "    description='$$N_{ed,f(min)}:$$',\n",
    "    disabled=False\n",
    ")\n",
    "display(Nedfmin)"
   ]
  },
  {
   "cell_type": "code",
   "execution_count": 27,
   "id": "98323576",
   "metadata": {},
   "outputs": [],
   "source": [
    "Nidhmax=Neduhmax.value+Nedfmax.value\n",
    "Nidhmin=Neduhmin.value+Nedfmin.value\n",
    "Midhmax=Nedfmax.value*(a.value/2)+Neduhmax.value*((t.value+a.value)/4)\n",
    "Midhmin=Nedfmin.value*(a.value/2)+Neduhmin.value*((t.value+a.value)/4)"
   ]
  },
  {
   "cell_type": "markdown",
   "id": "edac9b99",
   "metadata": {
    "variables": {
     "Nedfmax.value": "18.3",
     "Nedfmin.value": "14.2",
     "Neduhmax.value": "6.0",
     "Neduhmin.value": "4.4",
     "Nidhmax": "24.3",
     "Nidhmin": "18.6",
     "round(Midhmax,1)": "1.8",
     "round(Midhmax/Nidhmax,3)": "0.074",
     "round(Midhmin,1)": "1.4",
     "round(Midhmin/Nidhmin,3)": "0.073"
    }
   },
   "source": [
    "|  | Cas de charge maximal (G déf.) | Cas de charge minimal (G fav.) |\n",
    "|----------|----------|----------|\n",
    "|$$N_{edu,h}[kN]$$ | {{Neduhmax.value}} | {{Neduhmin.value}} |\n",
    "|$$N_{edf}[kN]$$ | {{Nedfmax.value}} | {{Nedfmin.value}} |\n",
    "|$$N_{id,h}[kN]$$| {{Nidhmax}} | {{Nidhmin}} |\n",
    "|$$M_{id,h}[kN.m]$$| {{round(Midhmax,1)}} | {{round(Midhmin,1)}} |\n",
    "|$$M_{id,h}/ N_{id,h}$$| {{round(Midhmax/Nidhmax,3)}} | {{round(Midhmin/Nidhmin,3)}} |"
   ]
  },
  {
   "cell_type": "markdown",
   "id": "d97fc548",
   "metadata": {},
   "source": [
    "### 2.2.Excentricité ei,h en tête de mur\n",
    "\n",
    "\n",
    " \n",
    "$$e_{i,h}=Max(\\frac{M_{id,h}}{N_{id,h}}+e_{init}+e_{he} ; 0,05*t)$$\n",
    "\n",
    "avec :$$e_{init}=\\frac{h_{ef}}{450}$$\n"
   ]
  },
  {
   "cell_type": "code",
   "execution_count": 32,
   "id": "8cd07f33",
   "metadata": {},
   "outputs": [],
   "source": [
    "eihmax=max((Midhmax/Nidhmax)+(h.value/450),0.05*t.value)\n",
    "eihmax=round(eihmax,4)\n",
    "\n",
    "eihmin=max((Midhmin/Nidhmin)+(h.value/450),0.05*t.value)\n",
    "eihmin=round(eihmin,4)"
   ]
  },
  {
   "cell_type": "markdown",
   "id": "fc5faca9",
   "metadata": {},
   "source": [
    "### 2.3. Coefficient de réduction phi en tête de mur\n",
    "\n",
    "\n",
    " \n",
    "$$\\phi_{i,h}=1-2 *\\frac{e_{i,h}}{t}$$"
   ]
  },
  {
   "cell_type": "code",
   "execution_count": 29,
   "id": "f6e4807a",
   "metadata": {},
   "outputs": [],
   "source": [
    "phimax=1-2*(eihmax/t.value)\n",
    "phimax=round(phimax,2)\n",
    "\n",
    "phimin=1-2*(eihmin/t.value)\n",
    "phimin=round(phimin,2)"
   ]
  },
  {
   "cell_type": "markdown",
   "id": "06281ea3",
   "metadata": {},
   "source": [
    "### 2.4. Résistance de la maçonnerie en partie supérieure\n",
    "\n",
    "\n",
    " \n",
    "$$N_{Rd,h}=\\phi_{i,h} * l * t * f_{d}$$"
   ]
  },
  {
   "cell_type": "code",
   "execution_count": 31,
   "id": "79b0ec55",
   "metadata": {},
   "outputs": [],
   "source": [
    "nrdmax=phimax*l.value*1000*t.value*fd\n",
    "nrdmin=phimin*l.value*1000*t.value*fd\n",
    "\n",
    "nrdmax=round(nrdmax,1)\n",
    "nrdmin=round(nrdmin,1)\n",
    "\n",
    "\n",
    "if nrdmax>Nidhmax : \n",
    "    nnmax='OK'\n",
    "else : \n",
    "    nnmax='NOT ok'\n",
    "    \n",
    "if nrdmin>Nidhmin : \n",
    "    nnmin='OK'\n",
    "else : \n",
    "    nnmin='NOT ok'\n"
   ]
  },
  {
   "cell_type": "markdown",
   "id": "40194bb6",
   "metadata": {
    "variables": {
     "Nidhmax": "24.3",
     "Nidhmin": "18.6",
     "eihmax": "0.078",
     "eihmin": "0.0777",
     "nnmax": "OK",
     "nnmin": "OK",
     "nrdmax": "237.3",
     "nrdmin": "237.3",
     "phimax": "0.42",
     "phimin": "0.42"
    }
   },
   "source": [
    "|  |Cas de charge maximal (G def.)|Cas de charge minimal (G fav.)|\n",
    "|------|----------|----------|\n",
    "| $$e_{i,h} [m]$$ | {{eihmax}} | {{eihmin}} |\n",
    "| $$\\phi$$ | {{phimax}} | {{phimin}} |\n",
    "| $$N_{Rd,h}[kN]$$ | {{nrdmax}} | {{nrdmin}} |\n",
    "| $$N_{id,h}[kN]$$ | {{Nidhmax}} | {{Nidhmin}} |\n",
    "| $$N_{Rd,h}>N_{id,h} $$ | {{nnmax}} | {{nnmin}} |"
   ]
  },
  {
   "cell_type": "markdown",
   "id": "711fa4db",
   "metadata": {},
   "source": [
    "## 3. Vérification en pied de mur"
   ]
  },
  {
   "cell_type": "markdown",
   "id": "e5a17e38",
   "metadata": {},
   "source": [
    "### 3.1. Caclul de la charge Nid,b et du moment Mid,b en pied de mur\n",
    "\n",
    "\n",
    " \n",
    "$$N_{id,b}=N_{id,h}+N_{ed,m}= N_{id,h}+\\gamma_{g}*G_{maçonnerie}$$\n",
    "\n",
    "$$M_{id,b}=N_{id,b}*\\frac{t-3*a}{4}$$\n",
    "\n",
    "Ned,m : poids du mur"
   ]
  },
  {
   "cell_type": "code",
   "execution_count": 33,
   "id": "19826631",
   "metadata": {},
   "outputs": [
    {
     "data": {
      "application/vnd.jupyter.widget-view+json": {
       "model_id": "782f4eeec77242b5ab76ec1c32233f88",
       "version_major": 2,
       "version_minor": 0
      },
      "text/plain": [
       "Image(value=b'\\x89PNG\\r\\n\\x1a\\n\\x00\\x00\\x00\\rIHDR\\x00\\x00\\x01\\xf6\\x00\\x00\\x01\\xa1\\x08\\x06\\x00\\x00\\x00\\x93`\\x96…"
      ]
     },
     "metadata": {},
     "output_type": "display_data"
    }
   ],
   "source": [
    "file = open(\"Images/Verif_pied.png\", \"rb\")\n",
    "image = file.read()\n",
    "widgets.Image(\n",
    "    value=image,\n",
    "    format='png',\n",
    "    width=300,\n",
    "    height=300,\n",
    ")"
   ]
  },
  {
   "cell_type": "code",
   "execution_count": 79,
   "id": "3fd4c31e",
   "metadata": {},
   "outputs": [],
   "source": [
    "nedmmax=1.35*pv.value*l.value*t.value*h.value\n",
    "nedmmin=0.9*pv.value*l.value*t.value*h.value\n",
    "\n",
    "nedmmax=round(nedmmax,1)\n",
    "nedmmin=round(nedmmin,1)\n",
    "\n",
    "Nidbmax=Nidhmax+nedmmax\n",
    "Nidbmin=Nidhmin+nedmmin\n",
    "\n",
    "Midbmax=Nidbmax*(((t.value-3)*a.value)/4)\n",
    "Midbmin=Nidbmin*(((t.value-3)*a.value)/4)\n",
    "\n",
    "Midbmax=round(Midbmax,1)\n",
    "Midbmin=round(Midbmin,1)\n",
    "\n",
    "emax=abs(Midbmax/Nidbmax)\n",
    "emin=abs(Midbmin/Nidbmin)\n",
    "\n",
    "emax=round(emax,4)\n",
    "emin=round(emin,4)"
   ]
  },
  {
   "cell_type": "markdown",
   "id": "d09f2281",
   "metadata": {
    "variables": {
     "Midbmax": "-3.3",
     "Midbmin": "-2.4",
     "Nidbmax": "37.6",
     "Nidbmin": "27.5",
     "emax": "0.0878",
     "emin": "0.0873",
     "nedmmax": "13.3",
     "nedmmin": "8.9"
    }
   },
   "source": [
    "|  |Cas de charge maximal (G def.)|Cas de charge minimal (G fav.)|\n",
    "|------|----------|----------|\n",
    "| $$N_{ed,m} [kN]$$ | {{nedmmax}} | {{nedmmin}} |\n",
    "| $$N_{i,db}[kN]$$ | {{Nidbmax}} | {{Nidbmin}} |\n",
    "| $$M_{id,b}[kN.m]$$ | {{Midbmax}} | {{Midbmin}} |\n",
    "| $$e=M_{id,h}/N_{id,h}[m]$$ | {{emax}} | {{emin}} |\n",
    "\n",
    "e : excentricité de la charge"
   ]
  },
  {
   "cell_type": "markdown",
   "id": "089f629a",
   "metadata": {},
   "source": [
    "### 3.2. Excentricité ei,b en pied\n",
    "\n",
    "\n",
    " \n",
    "$$e_{i,b}=max[\\frac{M_{id,b}}{N_{id,b}}+e_{init}+e_{he} ; 0,05*t]$$\n",
    "\n",
    "avec :$$e_{init}=\\frac{h_{ef}}{450}$$"
   ]
  },
  {
   "cell_type": "code",
   "execution_count": 37,
   "id": "a8b239e1",
   "metadata": {},
   "outputs": [],
   "source": [
    "eibmax=max((Midbmax/Nidbmax)+(h.value/450),0.05*t.value)\n",
    "eibmax=round(eibmax,4)\n",
    "\n",
    "eibmin=max((Midbmin/Nidbmin)+(h.value/450),0.05*t.value)\n",
    "eibmin=round(eibmin,4)"
   ]
  },
  {
   "cell_type": "markdown",
   "id": "f1d89939",
   "metadata": {},
   "source": [
    "### 3.3. Coefficient de réduction phi en pied\n",
    "\n",
    "\n",
    " \n",
    "$$\\phi_{i,b}=1-2 *\\frac{e_{i,b}}{t}$$"
   ]
  },
  {
   "cell_type": "code",
   "execution_count": 38,
   "id": "9e43ed2b",
   "metadata": {},
   "outputs": [],
   "source": [
    "phibmax=1-2*(eibmax/t.value)\n",
    "phibmax=round(phibmax,2)\n",
    "\n",
    "phibmin=1-2*(eibmin/t.value)\n",
    "phibmin=round(phibmin,2)"
   ]
  },
  {
   "cell_type": "markdown",
   "id": "28ae6131",
   "metadata": {},
   "source": [
    "### 3.4. Résistance de la maçonnerie en partie inférieure\n",
    "\n",
    "\n",
    " \n",
    "$$N_{Rd,b}=\\phi_{i,b} * l * t * f_{d}$$"
   ]
  },
  {
   "cell_type": "code",
   "execution_count": 44,
   "id": "a84ce204",
   "metadata": {},
   "outputs": [],
   "source": [
    "nrdbmax=phibmax*l.value*1000*t.value*fd\n",
    "nrdbmin=phibmin*l.value*1000*t.value*fd\n",
    "\n",
    "nrdbmax=round(nrdbmax,1)\n",
    "nrdbmin=round(nrdbmin,1)\n",
    "\n",
    "\n",
    "if nrdbmax>Nidbmax : \n",
    "    nnbmax='OK'\n",
    "else : \n",
    "    nnbmax='NOT ok'\n",
    "    \n",
    "if nrdbmin>Nidbmin : \n",
    "    nnbmin='OK'\n",
    "else : \n",
    "    nnbmin='NOT ok'\n"
   ]
  },
  {
   "cell_type": "markdown",
   "id": "cf62c173",
   "metadata": {
    "variables": {
     "Nidbmax": "37.6",
     "Nidbmin": "28.5",
     "eibmax": "0.0135",
     "eibmin": "0.0135",
     "nnbmax": "OK",
     "nnbmin": "OK",
     "nrdbmax": "508.4",
     "nrdbmin": "508.4",
     "phibmax": "0.9",
     "phibmin": "0.9"
    }
   },
   "source": [
    "|  |Cas de charge maximal (G def.)|Cas de charge minimal (G fav.)|\n",
    "|------|----------|----------|\n",
    "| $$e_{i,b}[m]$$ | {{eibmax}} | {{eibmin}} |\n",
    "| $$\\phi_{i,b}$$ | {{phibmax}} | {{phibmin}} |\n",
    "| $$N_{Rd,b}[kN]$$ | {{nrdbmax}} | {{nrdbmin}} |\n",
    "| $$N_{id,b}[kN]$$ | {{Nidbmax}} | {{Nidbmin}} |\n",
    "| $$N_{Rd,b}>N_{id,b} $$ | {{nnbmax}} | {{nnbmin}} |"
   ]
  },
  {
   "cell_type": "markdown",
   "id": "b63b4558",
   "metadata": {},
   "source": [
    "## 4. Vérification en partie médiane du mur"
   ]
  },
  {
   "cell_type": "markdown",
   "id": "d6fe3993",
   "metadata": {},
   "source": [
    "### 4.1. Caclul de la charge Nm,d en partie médiade\n",
    "\n",
    "\n",
    " \n",
    "$$N_{md}=N_{id,h}+\\frac{N_{ed,m}}{2}$$"
   ]
  },
  {
   "cell_type": "code",
   "execution_count": 52,
   "id": "d1d9983d",
   "metadata": {},
   "outputs": [
    {
     "data": {
      "application/vnd.jupyter.widget-view+json": {
       "model_id": "41e6aaa1850b4c5398f3c205b5f566e0",
       "version_major": 2,
       "version_minor": 0
      },
      "text/plain": [
       "Image(value=b'\\x89PNG\\r\\n\\x1a\\n\\x00\\x00\\x00\\rIHDR\\x00\\x00\\x02+\\x00\\x00\\x02L\\x08\\x06\\x00\\x00\\x00;_\\xe6\\xca\\x00\\…"
      ]
     },
     "metadata": {},
     "output_type": "display_data"
    }
   ],
   "source": [
    "file = open(\"Images/Verif_mi_h.png\", \"rb\")\n",
    "image = file.read()\n",
    "widgets.Image(\n",
    "    value=image,\n",
    "    format='png',\n",
    "    width=300,\n",
    "    height=300,\n",
    ")"
   ]
  },
  {
   "cell_type": "markdown",
   "id": "856db8aa",
   "metadata": {},
   "source": [
    "#### Valeur de la pression du vent w [kN/m2] :"
   ]
  },
  {
   "cell_type": "code",
   "execution_count": 117,
   "id": "f84f31b6",
   "metadata": {},
   "outputs": [
    {
     "data": {
      "application/vnd.jupyter.widget-view+json": {
       "model_id": "287608a6d4084580985726b3e4637083",
       "version_major": 2,
       "version_minor": 0
      },
      "text/plain": [
       "FloatText(value=0.0, description='$$w :$$')"
      ]
     },
     "metadata": {},
     "output_type": "display_data"
    }
   ],
   "source": [
    "w=widgets.FloatText(\n",
    "    value=0,\n",
    "    description='$$w :$$',\n",
    "    disabled=False\n",
    ")\n",
    "display(w)"
   ]
  },
  {
   "cell_type": "code",
   "execution_count": 49,
   "id": "cf268568",
   "metadata": {},
   "outputs": [],
   "source": [
    "Nmdmax=Nidhmax+nedmmax/2\n",
    "Nmdmin=Nidhmin+nedmmin/2\n",
    "\n",
    "Nmdmax=round(Nmdmax,1)\n",
    "Nmdmin=round(Nmdmin,1)"
   ]
  },
  {
   "cell_type": "markdown",
   "id": "1345dadc",
   "metadata": {
    "variables": {
     "Nidhmax": "24.3",
     "Nidhmin": "18.6",
     "Nmdmax": "31.0",
     "Nmdmin": "23.6",
     "nedmmax/2": "6.65",
     "nedmmin/2": "4.95"
    }
   },
   "source": [
    "|  |Cas de charge maximal (G def.)|Cas de charge minimal (G fav.)|\n",
    "|------|----------|----------|\n",
    "| $$N_{id,h}[kN]$$ | {{Nidhmax}} | {{Nidhmin}} |\n",
    "| $$N_{ed,m}/2 [kN]$$ | {{nedmmax/2}} | {{nedmmin/2}} |\n",
    "| $$N_{md}[kN]$$ | {{Nmdmax}} | {{Nmdmin}} |\n"
   ]
  },
  {
   "cell_type": "markdown",
   "id": "06af6131",
   "metadata": {},
   "source": [
    "### 4.2. Excentricité à mi-hauteur emk\n",
    "\n",
    "\n",
    " \n",
    "$$e_{mk}=max[e_{m}+e_{k} ; 0,05 * t]$$"
   ]
  },
  {
   "cell_type": "markdown",
   "id": "b813fc53",
   "metadata": {},
   "source": [
    "#### Excentricité due aux charges\n",
    "\n",
    "$$e_{m}=\\frac{M_{md}}{N_{md}}+e_{hm}+e_{init}$$\n",
    "\n",
    "avec : $$M_{md}=\\frac{|M_{id,h}-M_{id,b}|}{2}$$\n",
    "\n",
    "#### Excentricité due au vent\n",
    "\n",
    "$$e_{hm}=\\frac{M_{Ed,h}}{N_{md}}$$\n",
    "\n",
    "avec : $$M_{Ed,h}=\\frac{\\gamma_{Qw}*\\psi_{0w}*w*h^{2}}{8}$$\n",
    "\n",
    "#### Excentricité due au fluage\n",
    "\n",
    "$$e_{k}=0.002*\\phi_{\\infty}*\\frac{h_{ef}}{t}*\\sqrt{t*e_{m}}$$\n",
    "\n",
    "avec : $$M_{Ed,h}=\\frac{\\gamma_{Qw}*\\psi_{0w}*w*h^{2}}{8}$$"
   ]
  },
  {
   "cell_type": "code",
   "execution_count": 76,
   "id": "e01e407d",
   "metadata": {},
   "outputs": [],
   "source": [
    "Medh=(1.5*0.6*w.value*(h.value)**2)/8\n",
    "\n",
    "Mmdmax=round((abs(Midhmax-Midbmax)/2),2)\n",
    "Mmdmin=round((abs(Midhmin-Midbmin)/2),2)\n",
    "\n",
    "ehmmax=round(Medh/Nmdmax,4)\n",
    "ehmmin=round(Medh/Nmdmin,4)\n",
    "\n",
    "emmax=round((Mmdmax/Nmdmax)+ehmmax+(h.value/450),4)\n",
    "emmin=round((Mmdmin/Nmdmin)+ehmmin+(h.value/450),4)\n",
    "\n"
   ]
  },
  {
   "cell_type": "markdown",
   "id": "16b07a29",
   "metadata": {
    "variables": {
     "Medh": "9.0",
     "Mmdmax": "2.54",
     "Mmdmin": "1.93",
     "ehmmax": "0.2903",
     "ehmmin": "0.3814",
     "emmax": "0.3767",
     "emmin": "0.4676",
     "nnbmax": "OK",
     "nnbmin": "OK"
    }
   },
   "source": [
    "|  |Cas de charge maximal (G def.)|Cas de charge minimal (G fav.)|\n",
    "|------|----------|----------|\n",
    "| $$M_{m,d}[kN.m]$$ | {{Mmdmax}} | {{Mmdmin}} |\n",
    "| $$M_{Ed,h}[kN.m]$$ | {{Medh}} | {{Medh}} |\n",
    "| $$e_{hm}[m]$$ | {{ehmmax}} | {{ehmmin}} |\n",
    "| $$e_{m}[m]$$ | {{emmax}} | {{emmin}} |\n",
    "| $$e_{m,k}[m]$$ | {{nnbmax}} | {{nnbmin}} |"
   ]
  },
  {
   "cell_type": "code",
   "execution_count": null,
   "id": "770b66b3",
   "metadata": {},
   "outputs": [],
   "source": []
  }
 ],
 "metadata": {
  "hide_input": false,
  "kernelspec": {
   "display_name": "Python 3 (ipykernel)",
   "language": "python",
   "name": "python3"
  },
  "language_info": {
   "codemirror_mode": {
    "name": "ipython",
    "version": 3
   },
   "file_extension": ".py",
   "mimetype": "text/x-python",
   "name": "python",
   "nbconvert_exporter": "python",
   "pygments_lexer": "ipython3",
   "version": "3.10.0"
  }
 },
 "nbformat": 4,
 "nbformat_minor": 5
}
