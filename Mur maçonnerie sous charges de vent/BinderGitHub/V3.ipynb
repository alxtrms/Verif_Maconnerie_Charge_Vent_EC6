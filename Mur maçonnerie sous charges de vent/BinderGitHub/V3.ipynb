{
 "cells": [
  {
   "cell_type": "markdown",
   "id": "bc067e99",
   "metadata": {},
   "source": [
    "# Vérification façade en maçonnerie porteuse chargée au vent "
   ]
  },
  {
   "cell_type": "markdown",
   "id": "f0b76821",
   "metadata": {},
   "source": [
    "## 1. Données générales"
   ]
  },
  {
   "cell_type": "markdown",
   "id": "c0f8a7b0",
   "metadata": {},
   "source": [
    "### 1.1. Références normatives\n",
    "\n",
    "*- NF EN 1996 + AN : Calcul des ouvrages en maçonnerie*\n",
    "\n",
    "*- DTU 20.1 : Ouvrages en maçonnerie de petits éléments*"
   ]
  },
  {
   "cell_type": "markdown",
   "id": "cba383de",
   "metadata": {},
   "source": [
    "### 1.2. Matériau"
   ]
  },
  {
   "cell_type": "code",
   "execution_count": 1,
   "id": "0a35d085",
   "metadata": {
    "scrolled": true
   },
   "outputs": [
    {
     "data": {
      "application/vnd.jupyter.widget-view+json": {
       "model_id": "13d469bdea1c4ed99ed0eb34f25ff812",
       "version_major": 2,
       "version_minor": 0
      },
      "text/plain": [
       "RadioButtons(description='Matériau :', options=('Terre cuite', 'Silico-calcaire', 'Béton de granulats courants…"
      ]
     },
     "metadata": {},
     "output_type": "display_data"
    }
   ],
   "source": [
    "from math import *\n",
    "import ipywidgets as widgets\n",
    "from tkinter import *\n",
    "\n",
    "materiau=widgets.RadioButtons(\n",
    "    options=['Terre cuite','Silico-calcaire','Béton de granulats courants','Béton cellulaire autoclave', 'Pierre reconstituee','Pierre naturelle dimensionnee'],\n",
    "    value='Terre cuite',\n",
    "    description='Matériau :',\n",
    "    disabled=False,\n",
    ")\n",
    "display(materiau)\n"
   ]
  },
  {
   "cell_type": "markdown",
   "id": "61cafada",
   "metadata": {},
   "source": [
    "#### Poids volumique [kN/m3]"
   ]
  },
  {
   "cell_type": "code",
   "execution_count": 16,
   "id": "047a60bd",
   "metadata": {},
   "outputs": [
    {
     "ename": "NameError",
     "evalue": "name 'widgets' is not defined",
     "output_type": "error",
     "traceback": [
      "\u001b[1;31m---------------------------------------------------------------------------\u001b[0m",
      "\u001b[1;31mNameError\u001b[0m                                 Traceback (most recent call last)",
      "\u001b[1;32mC:\\Users\\ALEXAN~1\\AppData\\Local\\Temp/ipykernel_56316/607602434.py\u001b[0m in \u001b[0;36m<module>\u001b[1;34m\u001b[0m\n\u001b[1;32m----> 1\u001b[1;33m pv=widgets.FloatText(\n\u001b[0m\u001b[0;32m      2\u001b[0m     \u001b[0mvalue\u001b[0m\u001b[1;33m=\u001b[0m\u001b[1;36m20\u001b[0m\u001b[1;33m,\u001b[0m\u001b[1;33m\u001b[0m\u001b[1;33m\u001b[0m\u001b[0m\n\u001b[0;32m      3\u001b[0m     \u001b[0mdescription\u001b[0m\u001b[1;33m=\u001b[0m\u001b[1;34m'$$\\gamma :$$'\u001b[0m\u001b[1;33m,\u001b[0m\u001b[1;33m\u001b[0m\u001b[1;33m\u001b[0m\u001b[0m\n\u001b[0;32m      4\u001b[0m     \u001b[0mdisabled\u001b[0m\u001b[1;33m=\u001b[0m\u001b[1;32mFalse\u001b[0m\u001b[1;33m\u001b[0m\u001b[1;33m\u001b[0m\u001b[0m\n\u001b[0;32m      5\u001b[0m )\n",
      "\u001b[1;31mNameError\u001b[0m: name 'widgets' is not defined"
     ]
    }
   ],
   "source": [
    "pv=widgets.FloatText(\n",
    "    value=20,\n",
    "    description='$$\\gamma :$$',\n",
    "    disabled=False\n",
    ")\n",
    "display(pv)"
   ]
  },
  {
   "cell_type": "markdown",
   "id": "c4a0aed0",
   "metadata": {},
   "source": [
    "#### Type depose du mur"
   ]
  },
  {
   "cell_type": "code",
   "execution_count": 3,
   "id": "84c92f08",
   "metadata": {
    "scrolled": true
   },
   "outputs": [
    {
     "data": {
      "application/vnd.jupyter.widget-view+json": {
       "model_id": "ca7586ac289847f6afe9a3c4cf556b47",
       "version_major": 2,
       "version_minor": 0
      },
      "text/plain": [
       "Dropdown(description='Montage :', options=('au mortier courant ou au mortier allégé (joints épais)', 'à joints…"
      ]
     },
     "metadata": {},
     "output_type": "display_data"
    }
   ],
   "source": [
    "montage=widgets.Dropdown(\n",
    "    options=['au mortier courant ou au mortier allégé (joints épais)','à joints minces de 1 à 3 mm','à joints minces de 1 à 3 mm (éléments de terre cuite, groupe 2 et 3'],\n",
    "    value='au mortier courant ou au mortier allégé (joints épais)',\n",
    "    description='Montage :',\n",
    "    disabled=False,\n",
    ")\n",
    "display(montage)"
   ]
  },
  {
   "cell_type": "markdown",
   "id": "db888d5b",
   "metadata": {},
   "source": [
    "#### Résistance moyenne normalisée de l'élément fb [Mpa] "
   ]
  },
  {
   "cell_type": "code",
   "execution_count": 4,
   "id": "b3aedc57",
   "metadata": {},
   "outputs": [
    {
     "data": {
      "application/vnd.jupyter.widget-view+json": {
       "model_id": "f1f0820426014986bc317cbc59f117df",
       "version_major": 2,
       "version_minor": 0
      },
      "text/plain": [
       "FloatSlider(value=20.0, continuous_update=False, description='$$f_{b}:$$', max=75.0, readout_format='.1f', ste…"
      ]
     },
     "metadata": {},
     "output_type": "display_data"
    }
   ],
   "source": [
    "if montage.value=='au mortier courant ou au mortier allégé (joints épais)':\n",
    "    fb=widgets.FloatSlider(\n",
    "        value=20,\n",
    "        min=0,\n",
    "        max=75.0,\n",
    "        step=1,\n",
    "        description='$$f_{b}:$$',\n",
    "        disabled=False,\n",
    "        continuous_update=False,\n",
    "        orientation='horizontal',\n",
    "        readout=True,\n",
    "        readout_format='.1f',\n",
    "    )\n",
    "else:\n",
    "    fb=widgets.FloatSlider(\n",
    "        value=20,\n",
    "        min=0,\n",
    "        max=50.0,\n",
    "        step=1,\n",
    "        description='$$f_{b}:$$',\n",
    "        disabled=False,\n",
    "        continuous_update=False,\n",
    "        orientation='horizontal',\n",
    "        readout=True,\n",
    "        readout_format='.1f',\n",
    "    )\n",
    "\n",
    "display(fb)"
   ]
  },
  {
   "cell_type": "markdown",
   "id": "23a297df",
   "metadata": {},
   "source": [
    "#### Résistance à la compression du mortier de montage fm [Mpa]"
   ]
  },
  {
   "cell_type": "code",
   "execution_count": 5,
   "id": "75dc968b",
   "metadata": {},
   "outputs": [
    {
     "data": {
      "application/vnd.jupyter.widget-view+json": {
       "model_id": "2c4e548fa5e84d518e194ce52f2318b0",
       "version_major": 2,
       "version_minor": 0
      },
      "text/plain": [
       "FloatSlider(value=5.0, continuous_update=False, description='$$f_{m}:$$', max=20.0, readout_format='.1f', step…"
      ]
     },
     "metadata": {},
     "output_type": "display_data"
    }
   ],
   "source": [
    "if montage.value=='au mortier courant ou au mortier allégé (joints épais)':\n",
    "    fm=widgets.FloatSlider(\n",
    "        value=5,\n",
    "        min=0,\n",
    "        max=20.0,\n",
    "        step=1,\n",
    "        description='$$f_{m}:$$',\n",
    "        disabled=False,\n",
    "        continuous_update=False,\n",
    "        orientation='horizontal',\n",
    "        readout=True,\n",
    "        readout_format='.1f',\n",
    "    )\n",
    "else:\n",
    "    fm=widgets.FloatSlider(\n",
    "        value=5,\n",
    "        min=0,\n",
    "        max=50.0,\n",
    "        step=1,\n",
    "        description='$$f_{m}:$$',\n",
    "        disabled=False,\n",
    "        continuous_update=False,\n",
    "        orientation='horizontal',\n",
    "        readout=True,\n",
    "        readout_format='.1f',\n",
    "    )\n",
    "\n",
    "display(fm)"
   ]
  },
  {
   "cell_type": "markdown",
   "id": "0f71c89e",
   "metadata": {},
   "source": [
    "#### Résistance caractéristique à la flexion [MPa]"
   ]
  },
  {
   "cell_type": "code",
   "execution_count": 1,
   "id": "0b2bcb6d",
   "metadata": {},
   "outputs": [
    {
     "ename": "FileNotFoundError",
     "evalue": "[Errno 2] No such file or directory: 'Fxk_1.PNG'",
     "output_type": "error",
     "traceback": [
      "\u001b[1;31m---------------------------------------------------------------------------\u001b[0m",
      "\u001b[1;31mFileNotFoundError\u001b[0m                         Traceback (most recent call last)",
      "\u001b[1;32mC:\\Users\\ALEXAN~1\\AppData\\Local\\Temp/ipykernel_56316/3650792661.py\u001b[0m in \u001b[0;36m<module>\u001b[1;34m\u001b[0m\n\u001b[1;32m----> 1\u001b[1;33m \u001b[0mfile\u001b[0m \u001b[1;33m=\u001b[0m \u001b[0mopen\u001b[0m\u001b[1;33m(\u001b[0m\u001b[1;34m\"Fxk_1.PNG\"\u001b[0m\u001b[1;33m,\u001b[0m \u001b[1;34m\"rb\"\u001b[0m\u001b[1;33m)\u001b[0m\u001b[1;33m\u001b[0m\u001b[1;33m\u001b[0m\u001b[0m\n\u001b[0m\u001b[0;32m      2\u001b[0m \u001b[0mimage\u001b[0m \u001b[1;33m=\u001b[0m \u001b[0mfile\u001b[0m\u001b[1;33m.\u001b[0m\u001b[0mread\u001b[0m\u001b[1;33m(\u001b[0m\u001b[1;33m)\u001b[0m\u001b[1;33m\u001b[0m\u001b[1;33m\u001b[0m\u001b[0m\n\u001b[0;32m      3\u001b[0m widgets.Image(\n\u001b[0;32m      4\u001b[0m     \u001b[0mvalue\u001b[0m\u001b[1;33m=\u001b[0m\u001b[0mimage\u001b[0m\u001b[1;33m,\u001b[0m\u001b[1;33m\u001b[0m\u001b[1;33m\u001b[0m\u001b[0m\n\u001b[0;32m      5\u001b[0m     \u001b[0mformat\u001b[0m\u001b[1;33m=\u001b[0m\u001b[1;34m'png'\u001b[0m\u001b[1;33m,\u001b[0m\u001b[1;33m\u001b[0m\u001b[1;33m\u001b[0m\u001b[0m\n",
      "\u001b[1;31mFileNotFoundError\u001b[0m: [Errno 2] No such file or directory: 'Fxk_1.PNG'"
     ]
    }
   ],
   "source": [
    "file = open(\"Fxk_1.PNG\", \"rb\")\n",
    "image = file.read()\n",
    "widgets.Image(\n",
    "    value=image,\n",
    "    format='png',\n",
    "    width=500,\n",
    "    height=500,\n",
    ")"
   ]
  },
  {
   "cell_type": "code",
   "execution_count": 99,
   "id": "02d9af6f",
   "metadata": {},
   "outputs": [
    {
     "data": {
      "application/vnd.jupyter.widget-view+json": {
       "model_id": "d9b138c2d2f5495d9064f05c09bab87b",
       "version_major": 2,
       "version_minor": 0
      },
      "text/plain": [
       "Dropdown(description='$$f_{xk1}:$$', index=2, options=(0.1, 0.15, 0.2), value=0.2)"
      ]
     },
     "metadata": {},
     "output_type": "display_data"
    }
   ],
   "source": [
    "fxk1=widgets.Dropdown(\n",
    "    options=[0.10,0.15,0.20],\n",
    "    value=0.20,\n",
    "    description='$$f_{xk1}:$$',\n",
    "    disabled=False,\n",
    ")\n",
    "display(fxk1)"
   ]
  },
  {
   "cell_type": "code",
   "execution_count": 2,
   "id": "3baa5fd0",
   "metadata": {},
   "outputs": [
    {
     "ename": "FileNotFoundError",
     "evalue": "[Errno 2] No such file or directory: 'Fxk_2.PNG'",
     "output_type": "error",
     "traceback": [
      "\u001b[1;31m---------------------------------------------------------------------------\u001b[0m",
      "\u001b[1;31mFileNotFoundError\u001b[0m                         Traceback (most recent call last)",
      "\u001b[1;32mC:\\Users\\ALEXAN~1\\AppData\\Local\\Temp/ipykernel_56316/3767422962.py\u001b[0m in \u001b[0;36m<module>\u001b[1;34m\u001b[0m\n\u001b[1;32m----> 1\u001b[1;33m \u001b[0mfile\u001b[0m \u001b[1;33m=\u001b[0m \u001b[0mopen\u001b[0m\u001b[1;33m(\u001b[0m\u001b[1;34m\"Fxk_2.PNG\"\u001b[0m\u001b[1;33m,\u001b[0m \u001b[1;34m\"rb\"\u001b[0m\u001b[1;33m)\u001b[0m\u001b[1;33m\u001b[0m\u001b[1;33m\u001b[0m\u001b[0m\n\u001b[0m\u001b[0;32m      2\u001b[0m \u001b[0mimage\u001b[0m \u001b[1;33m=\u001b[0m \u001b[0mfile\u001b[0m\u001b[1;33m.\u001b[0m\u001b[0mread\u001b[0m\u001b[1;33m(\u001b[0m\u001b[1;33m)\u001b[0m\u001b[1;33m\u001b[0m\u001b[1;33m\u001b[0m\u001b[0m\n\u001b[0;32m      3\u001b[0m widgets.Image(\n\u001b[0;32m      4\u001b[0m     \u001b[0mvalue\u001b[0m\u001b[1;33m=\u001b[0m\u001b[0mimage\u001b[0m\u001b[1;33m,\u001b[0m\u001b[1;33m\u001b[0m\u001b[1;33m\u001b[0m\u001b[0m\n\u001b[0;32m      5\u001b[0m     \u001b[0mformat\u001b[0m\u001b[1;33m=\u001b[0m\u001b[1;34m'png'\u001b[0m\u001b[1;33m,\u001b[0m\u001b[1;33m\u001b[0m\u001b[1;33m\u001b[0m\u001b[0m\n",
      "\u001b[1;31mFileNotFoundError\u001b[0m: [Errno 2] No such file or directory: 'Fxk_2.PNG'"
     ]
    }
   ],
   "source": [
    "file = open(\"Fxk_2.PNG\", \"rb\")\n",
    "image = file.read()\n",
    "widgets.Image(\n",
    "    value=image,\n",
    "    format='png',\n",
    "    width=500,\n",
    "    height=500,\n",
    ")"
   ]
  },
  {
   "cell_type": "code",
   "execution_count": 3,
   "id": "25c0d03d",
   "metadata": {},
   "outputs": [
    {
     "ename": "NameError",
     "evalue": "name 'widgets' is not defined",
     "output_type": "error",
     "traceback": [
      "\u001b[1;31m---------------------------------------------------------------------------\u001b[0m",
      "\u001b[1;31mNameError\u001b[0m                                 Traceback (most recent call last)",
      "\u001b[1;32mC:\\Users\\ALEXAN~1\\AppData\\Local\\Temp/ipykernel_56316/1329802375.py\u001b[0m in \u001b[0;36m<module>\u001b[1;34m\u001b[0m\n\u001b[1;32m----> 1\u001b[1;33m fxk2=widgets.Dropdown(\n\u001b[0m\u001b[0;32m      2\u001b[0m     \u001b[0moptions\u001b[0m\u001b[1;33m=\u001b[0m\u001b[1;33m[\u001b[0m\u001b[1;36m0.10\u001b[0m\u001b[1;33m,\u001b[0m\u001b[1;36m0.15\u001b[0m\u001b[1;33m,\u001b[0m\u001b[1;36m0.20\u001b[0m\u001b[1;33m,\u001b[0m\u001b[1;36m0.30\u001b[0m\u001b[1;33m,\u001b[0m\u001b[1;36m0.40\u001b[0m\u001b[1;33m]\u001b[0m\u001b[1;33m,\u001b[0m\u001b[1;33m\u001b[0m\u001b[1;33m\u001b[0m\u001b[0m\n\u001b[0;32m      3\u001b[0m     \u001b[0mvalue\u001b[0m\u001b[1;33m=\u001b[0m\u001b[1;36m0.20\u001b[0m\u001b[1;33m,\u001b[0m\u001b[1;33m\u001b[0m\u001b[1;33m\u001b[0m\u001b[0m\n\u001b[0;32m      4\u001b[0m     \u001b[0mdescription\u001b[0m\u001b[1;33m=\u001b[0m\u001b[1;34m'$$f_{xk2}:$$'\u001b[0m\u001b[1;33m,\u001b[0m\u001b[1;33m\u001b[0m\u001b[1;33m\u001b[0m\u001b[0m\n\u001b[0;32m      5\u001b[0m     \u001b[0mdisabled\u001b[0m\u001b[1;33m=\u001b[0m\u001b[1;32mFalse\u001b[0m\u001b[1;33m,\u001b[0m\u001b[1;33m\u001b[0m\u001b[1;33m\u001b[0m\u001b[0m\n",
      "\u001b[1;31mNameError\u001b[0m: name 'widgets' is not defined"
     ]
    }
   ],
   "source": [
    "fxk2=widgets.Dropdown(\n",
    "    options=[0.10,0.15,0.20,0.30,0.40],\n",
    "    value=0.20,\n",
    "    description='$$f_{xk2}:$$',\n",
    "    disabled=False,\n",
    ")\n",
    "display(fxk2)"
   ]
  },
  {
   "cell_type": "markdown",
   "id": "7c713c14",
   "metadata": {},
   "source": [
    "#### Coefficient K"
   ]
  },
  {
   "cell_type": "code",
   "execution_count": 5,
   "id": "7441e183",
   "metadata": {
    "scrolled": false
   },
   "outputs": [
    {
     "ename": "FileNotFoundError",
     "evalue": "[Errno 2] No such file or directory: 'Coeff_K.PNG'",
     "output_type": "error",
     "traceback": [
      "\u001b[1;31m---------------------------------------------------------------------------\u001b[0m",
      "\u001b[1;31mFileNotFoundError\u001b[0m                         Traceback (most recent call last)",
      "\u001b[1;32mC:\\Users\\ALEXAN~1\\AppData\\Local\\Temp/ipykernel_56316/3564918017.py\u001b[0m in \u001b[0;36m<module>\u001b[1;34m\u001b[0m\n\u001b[1;32m----> 1\u001b[1;33m \u001b[0mfile\u001b[0m \u001b[1;33m=\u001b[0m \u001b[0mopen\u001b[0m\u001b[1;33m(\u001b[0m\u001b[1;34m\"Coeff_K.PNG\"\u001b[0m\u001b[1;33m,\u001b[0m \u001b[1;34m\"rb\"\u001b[0m\u001b[1;33m)\u001b[0m\u001b[1;33m\u001b[0m\u001b[1;33m\u001b[0m\u001b[0m\n\u001b[0m\u001b[0;32m      2\u001b[0m \u001b[0mimage\u001b[0m \u001b[1;33m=\u001b[0m \u001b[0mfile\u001b[0m\u001b[1;33m.\u001b[0m\u001b[0mread\u001b[0m\u001b[1;33m(\u001b[0m\u001b[1;33m)\u001b[0m\u001b[1;33m\u001b[0m\u001b[1;33m\u001b[0m\u001b[0m\n\u001b[0;32m      3\u001b[0m widgets.Image(\n\u001b[0;32m      4\u001b[0m     \u001b[0mvalue\u001b[0m\u001b[1;33m=\u001b[0m\u001b[0mimage\u001b[0m\u001b[1;33m,\u001b[0m\u001b[1;33m\u001b[0m\u001b[1;33m\u001b[0m\u001b[0m\n\u001b[0;32m      5\u001b[0m     \u001b[0mformat\u001b[0m\u001b[1;33m=\u001b[0m\u001b[1;34m'png'\u001b[0m\u001b[1;33m,\u001b[0m\u001b[1;33m\u001b[0m\u001b[1;33m\u001b[0m\u001b[0m\n",
      "\u001b[1;31mFileNotFoundError\u001b[0m: [Errno 2] No such file or directory: 'Coeff_K.PNG'"
     ]
    }
   ],
   "source": [
    "file = open(\"Coeff_K.PNG\", \"rb\")\n",
    "image = file.read()\n",
    "widgets.Image(\n",
    "    value=image,\n",
    "    format='png',\n",
    "    width=500,\n",
    "    height=500,\n",
    ")"
   ]
  },
  {
   "cell_type": "code",
   "execution_count": 6,
   "id": "0f92e3c5",
   "metadata": {
    "scrolled": true
   },
   "outputs": [
    {
     "ename": "NameError",
     "evalue": "name 'widgets' is not defined",
     "output_type": "error",
     "traceback": [
      "\u001b[1;31m---------------------------------------------------------------------------\u001b[0m",
      "\u001b[1;31mNameError\u001b[0m                                 Traceback (most recent call last)",
      "\u001b[1;32mC:\\Users\\ALEXAN~1\\AppData\\Local\\Temp/ipykernel_56316/4154032668.py\u001b[0m in \u001b[0;36m<module>\u001b[1;34m\u001b[0m\n\u001b[1;32m----> 1\u001b[1;33m K=widgets.Dropdown(\n\u001b[0m\u001b[0;32m      2\u001b[0m     \u001b[0moptions\u001b[0m\u001b[1;33m=\u001b[0m\u001b[1;33m[\u001b[0m\u001b[1;36m0.20\u001b[0m\u001b[1;33m,\u001b[0m\u001b[1;36m0.25\u001b[0m\u001b[1;33m,\u001b[0m\u001b[1;36m0.30\u001b[0m\u001b[1;33m,\u001b[0m\u001b[1;36m0.35\u001b[0m\u001b[1;33m,\u001b[0m\u001b[1;36m0.40\u001b[0m\u001b[1;33m,\u001b[0m\u001b[1;36m0.45\u001b[0m\u001b[1;33m,\u001b[0m\u001b[1;36m0.50\u001b[0m\u001b[1;33m,\u001b[0m\u001b[1;36m0.55\u001b[0m\u001b[1;33m,\u001b[0m\u001b[1;36m0.60\u001b[0m\u001b[1;33m,\u001b[0m\u001b[1;36m0.65\u001b[0m\u001b[1;33m,\u001b[0m\u001b[1;36m0.70\u001b[0m\u001b[1;33m,\u001b[0m\u001b[1;36m0.75\u001b[0m\u001b[1;33m,\u001b[0m\u001b[1;36m0.80\u001b[0m\u001b[1;33m]\u001b[0m\u001b[1;33m,\u001b[0m\u001b[1;33m\u001b[0m\u001b[1;33m\u001b[0m\u001b[0m\n\u001b[0;32m      3\u001b[0m     \u001b[0mvalue\u001b[0m\u001b[1;33m=\u001b[0m\u001b[1;36m0.20\u001b[0m\u001b[1;33m,\u001b[0m\u001b[1;33m\u001b[0m\u001b[1;33m\u001b[0m\u001b[0m\n\u001b[0;32m      4\u001b[0m     \u001b[0mdescription\u001b[0m\u001b[1;33m=\u001b[0m\u001b[1;34m'$$k:$$'\u001b[0m\u001b[1;33m,\u001b[0m\u001b[1;33m\u001b[0m\u001b[1;33m\u001b[0m\u001b[0m\n\u001b[0;32m      5\u001b[0m     \u001b[0mdisabled\u001b[0m\u001b[1;33m=\u001b[0m\u001b[1;32mFalse\u001b[0m\u001b[1;33m,\u001b[0m\u001b[1;33m\u001b[0m\u001b[1;33m\u001b[0m\u001b[0m\n",
      "\u001b[1;31mNameError\u001b[0m: name 'widgets' is not defined"
     ]
    }
   ],
   "source": [
    "K=widgets.Dropdown(\n",
    "    options=[0.20,0.25,0.30,0.35,0.40,0.45,0.50,0.55,0.60,0.65,0.70,0.75,0.80],\n",
    "    value=0.20,\n",
    "    description='$$k:$$',\n",
    "    disabled=False,\n",
    ")\n",
    "display(K)"
   ]
  },
  {
   "cell_type": "markdown",
   "id": "79f51111",
   "metadata": {},
   "source": [
    "#### Coefficient gamma"
   ]
  },
  {
   "cell_type": "code",
   "execution_count": 7,
   "id": "c297e9a9",
   "metadata": {
    "scrolled": false
   },
   "outputs": [
    {
     "ename": "NameError",
     "evalue": "name 'widgets' is not defined",
     "output_type": "error",
     "traceback": [
      "\u001b[1;31m---------------------------------------------------------------------------\u001b[0m",
      "\u001b[1;31mNameError\u001b[0m                                 Traceback (most recent call last)",
      "\u001b[1;32mC:\\Users\\ALEXAN~1\\AppData\\Local\\Temp/ipykernel_56316/316487776.py\u001b[0m in \u001b[0;36m<module>\u001b[1;34m\u001b[0m\n\u001b[0;32m      1\u001b[0m \u001b[0mfile\u001b[0m \u001b[1;33m=\u001b[0m \u001b[0mopen\u001b[0m\u001b[1;33m(\u001b[0m\u001b[1;34m\"Images/Gamma_m.png\"\u001b[0m\u001b[1;33m,\u001b[0m \u001b[1;34m\"rb\"\u001b[0m\u001b[1;33m)\u001b[0m\u001b[1;33m\u001b[0m\u001b[1;33m\u001b[0m\u001b[0m\n\u001b[0;32m      2\u001b[0m \u001b[0mimage\u001b[0m \u001b[1;33m=\u001b[0m \u001b[0mfile\u001b[0m\u001b[1;33m.\u001b[0m\u001b[0mread\u001b[0m\u001b[1;33m(\u001b[0m\u001b[1;33m)\u001b[0m\u001b[1;33m\u001b[0m\u001b[1;33m\u001b[0m\u001b[0m\n\u001b[1;32m----> 3\u001b[1;33m widgets.Image(\n\u001b[0m\u001b[0;32m      4\u001b[0m     \u001b[0mvalue\u001b[0m\u001b[1;33m=\u001b[0m\u001b[0mimage\u001b[0m\u001b[1;33m,\u001b[0m\u001b[1;33m\u001b[0m\u001b[1;33m\u001b[0m\u001b[0m\n\u001b[0;32m      5\u001b[0m     \u001b[0mformat\u001b[0m\u001b[1;33m=\u001b[0m\u001b[1;34m'png'\u001b[0m\u001b[1;33m,\u001b[0m\u001b[1;33m\u001b[0m\u001b[1;33m\u001b[0m\u001b[0m\n",
      "\u001b[1;31mNameError\u001b[0m: name 'widgets' is not defined"
     ]
    }
   ],
   "source": [
    "file = open(\"Gamma_m.PNG\", \"rb\")\n",
    "image = file.read()\n",
    "widgets.Image(\n",
    "    value=image,\n",
    "    format='png',\n",
    "    width=500,\n",
    "    height=500,\n",
    ")"
   ]
  },
  {
   "cell_type": "code",
   "execution_count": 108,
   "id": "eb9a1b73",
   "metadata": {},
   "outputs": [
    {
     "data": {
      "application/vnd.jupyter.widget-view+json": {
       "model_id": "b6e6508784b04fc69dcdb8cba3592d6e",
       "version_major": 2,
       "version_minor": 0
      },
      "text/plain": [
       "Dropdown(description='$$\\\\gamma_{m}:$$', index=1, options=(1.15, 1.5, 1.7, 2.0, 2.2, 2.3, 2.5, 2.7, 2.8, 3.3),…"
      ]
     },
     "metadata": {},
     "output_type": "display_data"
    }
   ],
   "source": [
    "gamma=widgets.Dropdown(\n",
    "    options=[1.15,1.5,1.7,2.0,2.2,2.3,2.5,2.7,2.8,3.3],\n",
    "    value=1.5,\n",
    "    description='$$\\gamma_{m}:$$',\n",
    "    disabled=False,\n",
    ")\n",
    "display(gamma)\n",
    "\n",
    "gamma=gamma.value"
   ]
  },
  {
   "cell_type": "markdown",
   "id": "67ac88b0",
   "metadata": {},
   "source": [
    "#### Coefficient de fluage"
   ]
  },
  {
   "cell_type": "code",
   "execution_count": 10,
   "id": "8f174035",
   "metadata": {},
   "outputs": [
    {
     "ename": "FileNotFoundError",
     "evalue": "[Errno 2] No such file or directory: 'Coeff_fluage.PNG'",
     "output_type": "error",
     "traceback": [
      "\u001b[1;31m---------------------------------------------------------------------------\u001b[0m",
      "\u001b[1;31mFileNotFoundError\u001b[0m                         Traceback (most recent call last)",
      "\u001b[1;32mC:\\Users\\ALEXAN~1\\AppData\\Local\\Temp/ipykernel_56316/3278622445.py\u001b[0m in \u001b[0;36m<module>\u001b[1;34m\u001b[0m\n\u001b[1;32m----> 1\u001b[1;33m \u001b[0mfile\u001b[0m \u001b[1;33m=\u001b[0m \u001b[0mopen\u001b[0m\u001b[1;33m(\u001b[0m\u001b[1;34m\"Coeff_fluage.PNG\"\u001b[0m\u001b[1;33m,\u001b[0m \u001b[1;34m\"rb\"\u001b[0m\u001b[1;33m)\u001b[0m\u001b[1;33m\u001b[0m\u001b[1;33m\u001b[0m\u001b[0m\n\u001b[0m\u001b[0;32m      2\u001b[0m \u001b[0mimage\u001b[0m \u001b[1;33m=\u001b[0m \u001b[0mfile\u001b[0m\u001b[1;33m.\u001b[0m\u001b[0mread\u001b[0m\u001b[1;33m(\u001b[0m\u001b[1;33m)\u001b[0m\u001b[1;33m\u001b[0m\u001b[1;33m\u001b[0m\u001b[0m\n\u001b[0;32m      3\u001b[0m widgets.Image(\n\u001b[0;32m      4\u001b[0m     \u001b[0mvalue\u001b[0m\u001b[1;33m=\u001b[0m\u001b[0mimage\u001b[0m\u001b[1;33m,\u001b[0m\u001b[1;33m\u001b[0m\u001b[1;33m\u001b[0m\u001b[0m\n\u001b[0;32m      5\u001b[0m     \u001b[0mformat\u001b[0m\u001b[1;33m=\u001b[0m\u001b[1;34m'png'\u001b[0m\u001b[1;33m,\u001b[0m\u001b[1;33m\u001b[0m\u001b[1;33m\u001b[0m\u001b[0m\n",
      "\u001b[1;31mFileNotFoundError\u001b[0m: [Errno 2] No such file or directory: 'Coeff_fluage.PNG'"
     ]
    }
   ],
   "source": [
    "file = open(\"Coeff_fluage.PNG\", \"rb\")\n",
    "image = file.read()\n",
    "widgets.Image(\n",
    "    value=image,\n",
    "    format='png',\n",
    "    width=500,\n",
    "    height=500,\n",
    ")"
   ]
  },
  {
   "cell_type": "code",
   "execution_count": 11,
   "id": "6016d5c4",
   "metadata": {},
   "outputs": [
    {
     "ename": "NameError",
     "evalue": "name 'widgets' is not defined",
     "output_type": "error",
     "traceback": [
      "\u001b[1;31m---------------------------------------------------------------------------\u001b[0m",
      "\u001b[1;31mNameError\u001b[0m                                 Traceback (most recent call last)",
      "\u001b[1;32mC:\\Users\\ALEXAN~1\\AppData\\Local\\Temp/ipykernel_56316/1121700399.py\u001b[0m in \u001b[0;36m<module>\u001b[1;34m\u001b[0m\n\u001b[1;32m----> 1\u001b[1;33m phif=widgets.Dropdown(\n\u001b[0m\u001b[0;32m      2\u001b[0m     \u001b[0moptions\u001b[0m\u001b[1;33m=\u001b[0m\u001b[1;33m[\u001b[0m\u001b[1;36m0\u001b[0m\u001b[1;33m,\u001b[0m\u001b[1;36m1\u001b[0m\u001b[1;33m,\u001b[0m\u001b[1;36m1.5\u001b[0m\u001b[1;33m,\u001b[0m\u001b[1;36m2.0\u001b[0m\u001b[1;33m]\u001b[0m\u001b[1;33m,\u001b[0m\u001b[1;33m\u001b[0m\u001b[1;33m\u001b[0m\u001b[0m\n\u001b[0;32m      3\u001b[0m     \u001b[0mvalue\u001b[0m\u001b[1;33m=\u001b[0m\u001b[1;36m0\u001b[0m\u001b[1;33m,\u001b[0m\u001b[1;33m\u001b[0m\u001b[1;33m\u001b[0m\u001b[0m\n\u001b[0;32m      4\u001b[0m     \u001b[0mdescription\u001b[0m\u001b[1;33m=\u001b[0m\u001b[1;34m'$$\\phi_{\\infty}:$$'\u001b[0m\u001b[1;33m,\u001b[0m\u001b[1;33m\u001b[0m\u001b[1;33m\u001b[0m\u001b[0m\n\u001b[0;32m      5\u001b[0m     \u001b[0mdisabled\u001b[0m\u001b[1;33m=\u001b[0m\u001b[1;32mFalse\u001b[0m\u001b[1;33m,\u001b[0m\u001b[1;33m\u001b[0m\u001b[1;33m\u001b[0m\u001b[0m\n",
      "\u001b[1;31mNameError\u001b[0m: name 'widgets' is not defined"
     ]
    }
   ],
   "source": [
    "phif=widgets.Dropdown(\n",
    "    options=[0,1,1.5,2.0],\n",
    "    value=1,\n",
    "    description='$$\\phi_{\\infty}:$$',\n",
    "    disabled=False,\n",
    ")\n",
    "display(phif)"
   ]
  },
  {
   "cell_type": "markdown",
   "id": "2de5be6d",
   "metadata": {},
   "source": [
    "#### Résistance à la compression caractéristique fk et de calcul fd [Mpa]"
   ]
  },
  {
   "cell_type": "code",
   "execution_count": 12,
   "id": "5d9dfd4e",
   "metadata": {},
   "outputs": [
    {
     "ename": "NameError",
     "evalue": "name 'montage' is not defined",
     "output_type": "error",
     "traceback": [
      "\u001b[1;31m---------------------------------------------------------------------------\u001b[0m",
      "\u001b[1;31mNameError\u001b[0m                                 Traceback (most recent call last)",
      "\u001b[1;32mC:\\Users\\ALEXAN~1\\AppData\\Local\\Temp/ipykernel_56316/2209429577.py\u001b[0m in \u001b[0;36m<module>\u001b[1;34m\u001b[0m\n\u001b[1;32m----> 1\u001b[1;33m \u001b[1;32mif\u001b[0m \u001b[0mmontage\u001b[0m\u001b[1;33m.\u001b[0m\u001b[0mvalue\u001b[0m\u001b[1;33m==\u001b[0m\u001b[1;34m'au mortier courant ou au mortier allégé (joints épais)'\u001b[0m\u001b[1;33m:\u001b[0m\u001b[1;33m\u001b[0m\u001b[1;33m\u001b[0m\u001b[0m\n\u001b[0m\u001b[0;32m      2\u001b[0m     \u001b[0mfk\u001b[0m\u001b[1;33m=\u001b[0m\u001b[0mK\u001b[0m\u001b[1;33m.\u001b[0m\u001b[0mvalue\u001b[0m\u001b[1;33m*\u001b[0m\u001b[1;33m(\u001b[0m\u001b[1;33m(\u001b[0m\u001b[0mfb\u001b[0m\u001b[1;33m.\u001b[0m\u001b[0mvalue\u001b[0m\u001b[1;33m)\u001b[0m\u001b[1;33m**\u001b[0m\u001b[1;36m0.7\u001b[0m\u001b[1;33m)\u001b[0m\u001b[1;33m*\u001b[0m\u001b[1;33m(\u001b[0m\u001b[1;33m(\u001b[0m\u001b[0mfm\u001b[0m\u001b[1;33m.\u001b[0m\u001b[0mvalue\u001b[0m\u001b[1;33m)\u001b[0m\u001b[1;33m**\u001b[0m\u001b[1;36m0.3\u001b[0m\u001b[1;33m)\u001b[0m\u001b[1;33m\u001b[0m\u001b[1;33m\u001b[0m\u001b[0m\n\u001b[0;32m      3\u001b[0m \u001b[1;32melif\u001b[0m \u001b[0mmontage\u001b[0m\u001b[1;33m.\u001b[0m\u001b[0mvalue\u001b[0m\u001b[1;33m==\u001b[0m\u001b[1;34m'à joints minces de 1 à 3 mm'\u001b[0m\u001b[1;33m:\u001b[0m\u001b[1;33m\u001b[0m\u001b[1;33m\u001b[0m\u001b[0m\n\u001b[0;32m      4\u001b[0m     \u001b[0mfk\u001b[0m\u001b[1;33m=\u001b[0m\u001b[0mK\u001b[0m\u001b[1;33m.\u001b[0m\u001b[0mvalue\u001b[0m\u001b[1;33m*\u001b[0m\u001b[1;33m(\u001b[0m\u001b[1;33m(\u001b[0m\u001b[0mfb\u001b[0m\u001b[1;33m.\u001b[0m\u001b[0mvalue\u001b[0m\u001b[1;33m)\u001b[0m\u001b[1;33m**\u001b[0m\u001b[1;36m0.85\u001b[0m\u001b[1;33m)\u001b[0m\u001b[1;33m\u001b[0m\u001b[1;33m\u001b[0m\u001b[0m\n\u001b[0;32m      5\u001b[0m \u001b[1;32melse\u001b[0m \u001b[1;33m:\u001b[0m\u001b[1;33m\u001b[0m\u001b[1;33m\u001b[0m\u001b[0m\n",
      "\u001b[1;31mNameError\u001b[0m: name 'montage' is not defined"
     ]
    }
   ],
   "source": [
    "if montage.value=='au mortier courant ou au mortier allégé (joints épais)':\n",
    "    fk=K.value*((fb.value)**0.7)*((fm.value)**0.3)\n",
    "elif montage.value=='à joints minces de 1 à 3 mm':\n",
    "    fk=K.value*((fb.value)**0.85)\n",
    "else : \n",
    "    fk=K.value*((fb.value)**0.7)\n",
    "    \n",
    "fk=round(fk,1)\n",
    "fd=fk/gamma\n",
    "fd=round(fd,1)"
   ]
  },
  {
   "cell_type": "markdown",
   "id": "543416d0",
   "metadata": {
    "variables": {
     "fd": {},
     "fk": {}
    }
   },
   "source": [
    "***Fk = {{fk}} MPa***\n",
    "\n",
    "***Fd = {{fd}} MPa***"
   ]
  },
  {
   "cell_type": "markdown",
   "id": "803683b9",
   "metadata": {},
   "source": [
    "#### Résistances à la flexion de calcul fxd [Mpa]"
   ]
  },
  {
   "cell_type": "code",
   "execution_count": 13,
   "id": "dd289094",
   "metadata": {},
   "outputs": [
    {
     "ename": "NameError",
     "evalue": "name 'fxk1' is not defined",
     "output_type": "error",
     "traceback": [
      "\u001b[1;31m---------------------------------------------------------------------------\u001b[0m",
      "\u001b[1;31mNameError\u001b[0m                                 Traceback (most recent call last)",
      "\u001b[1;32mC:\\Users\\ALEXAN~1\\AppData\\Local\\Temp/ipykernel_56316/4139326993.py\u001b[0m in \u001b[0;36m<module>\u001b[1;34m\u001b[0m\n\u001b[1;32m----> 1\u001b[1;33m \u001b[0mfxd1\u001b[0m\u001b[1;33m=\u001b[0m\u001b[0mround\u001b[0m\u001b[1;33m(\u001b[0m\u001b[0mfxk1\u001b[0m\u001b[1;33m.\u001b[0m\u001b[0mvalue\u001b[0m\u001b[1;33m/\u001b[0m\u001b[0mgamma\u001b[0m\u001b[1;33m,\u001b[0m\u001b[1;36m3\u001b[0m\u001b[1;33m)\u001b[0m\u001b[1;33m\u001b[0m\u001b[1;33m\u001b[0m\u001b[0m\n\u001b[0m\u001b[0;32m      2\u001b[0m \u001b[0mfxd2\u001b[0m\u001b[1;33m=\u001b[0m\u001b[0mround\u001b[0m\u001b[1;33m(\u001b[0m\u001b[0mfxk2\u001b[0m\u001b[1;33m.\u001b[0m\u001b[0mvalue\u001b[0m\u001b[1;33m/\u001b[0m\u001b[0mgamma\u001b[0m\u001b[1;33m,\u001b[0m\u001b[1;36m3\u001b[0m\u001b[1;33m)\u001b[0m\u001b[1;33m\u001b[0m\u001b[1;33m\u001b[0m\u001b[0m\n",
      "\u001b[1;31mNameError\u001b[0m: name 'fxk1' is not defined"
     ]
    }
   ],
   "source": [
    "fxd1=round(fxk1.value/gamma,3)\n",
    "fxd2=round(fxk2.value/gamma,3)"
   ]
  },
  {
   "cell_type": "markdown",
   "id": "c951f3cb",
   "metadata": {
    "variables": {
     "fxd1": {},
     "fxd2": {}
    }
   },
   "source": [
    "***Fxd1 = {{fxd1}} MPa***\n",
    "\n",
    "***Fxd2 = {{fxd2}} MPa***"
   ]
  },
  {
   "cell_type": "markdown",
   "id": "24e7c712",
   "metadata": {},
   "source": [
    "### 1.3. Chargements"
   ]
  },
  {
   "cell_type": "markdown",
   "id": "6cb7707b",
   "metadata": {},
   "source": [
    "#### Charges en tête pour cas de charge maximal (G déf.) [kN] : "
   ]
  },
  {
   "cell_type": "markdown",
   "id": "04e0e072",
   "metadata": {},
   "source": [
    "*Charge due au mur supérieur :*"
   ]
  },
  {
   "cell_type": "code",
   "execution_count": 13,
   "id": "aff5416e",
   "metadata": {},
   "outputs": [
    {
     "data": {
      "application/vnd.jupyter.widget-view+json": {
       "model_id": "31fd32de90e74b3e90c2489fc19dae88",
       "version_major": 2,
       "version_minor": 0
      },
      "text/plain": [
       "FloatText(value=0.0, description='$$N_{edu,h(max)}:$$')"
      ]
     },
     "metadata": {},
     "output_type": "display_data"
    }
   ],
   "source": [
    "Neduhmax=widgets.FloatText(\n",
    "    value=10,\n",
    "    description='$$N_{edu,h(max)}:$$',\n",
    "    disabled=False\n",
    ")\n",
    "display(Neduhmax)"
   ]
  },
  {
   "cell_type": "markdown",
   "id": "519f4fef",
   "metadata": {},
   "source": [
    "*Charge due au plancher :*"
   ]
  },
  {
   "cell_type": "code",
   "execution_count": 14,
   "id": "c10fe437",
   "metadata": {},
   "outputs": [
    {
     "data": {
      "application/vnd.jupyter.widget-view+json": {
       "model_id": "7af031f7eee64bc1bd6fd4d650ee35c6",
       "version_major": 2,
       "version_minor": 0
      },
      "text/plain": [
       "FloatText(value=0.0, description='$$N_{ed,f(max)}:$$')"
      ]
     },
     "metadata": {},
     "output_type": "display_data"
    }
   ],
   "source": [
    "Nedfmax=widgets.FloatText(\n",
    "    value=10,\n",
    "    description='$$N_{ed,f(max)}:$$',\n",
    "    disabled=False\n",
    ")\n",
    "display(Nedfmax)"
   ]
  },
  {
   "cell_type": "markdown",
   "id": "abeaf924",
   "metadata": {},
   "source": [
    "#### Charges en tête pour cas de charge minimal (G fav.) [kN] : "
   ]
  },
  {
   "cell_type": "markdown",
   "id": "898b75bd",
   "metadata": {},
   "source": [
    "*Charge due au mur supérieur :*"
   ]
  },
  {
   "cell_type": "code",
   "execution_count": 15,
   "id": "406950b7",
   "metadata": {},
   "outputs": [
    {
     "data": {
      "application/vnd.jupyter.widget-view+json": {
       "model_id": "0a4190c85a054366b3b5877e17fe06d1",
       "version_major": 2,
       "version_minor": 0
      },
      "text/plain": [
       "FloatText(value=0.0, description='$$N_{edu,h(min)}:$$')"
      ]
     },
     "metadata": {},
     "output_type": "display_data"
    }
   ],
   "source": [
    "Neduhmin=widgets.FloatText(\n",
    "    value=5,\n",
    "    description='$$N_{edu,h(min)}:$$',\n",
    "    disabled=False\n",
    ")\n",
    "display(Neduhmin)"
   ]
  },
  {
   "cell_type": "markdown",
   "id": "a0d89e7b",
   "metadata": {},
   "source": [
    "*Charge due au plancher :*"
   ]
  },
  {
   "cell_type": "code",
   "execution_count": 16,
   "id": "f077b46b",
   "metadata": {},
   "outputs": [
    {
     "data": {
      "application/vnd.jupyter.widget-view+json": {
       "model_id": "219978a0308942c98e986db5d2609910",
       "version_major": 2,
       "version_minor": 0
      },
      "text/plain": [
       "FloatText(value=0.0, description='$$N_{ed,f(min)}:$$')"
      ]
     },
     "metadata": {},
     "output_type": "display_data"
    }
   ],
   "source": [
    "Nedfmin=widgets.FloatText(\n",
    "    value=5,\n",
    "    description='$$N_{ed,f(min)}:$$',\n",
    "    disabled=False\n",
    ")\n",
    "display(Nedfmin)"
   ]
  },
  {
   "cell_type": "markdown",
   "id": "1d365fc0",
   "metadata": {},
   "source": [
    "#### Charge du vent w [kN/m2] :"
   ]
  },
  {
   "cell_type": "code",
   "execution_count": 17,
   "id": "0b5866f0",
   "metadata": {},
   "outputs": [
    {
     "data": {
      "application/vnd.jupyter.widget-view+json": {
       "model_id": "7a65178a251c4b00bd64990ad89409d4",
       "version_major": 2,
       "version_minor": 0
      },
      "text/plain": [
       "FloatText(value=0.0, description='$$w :$$')"
      ]
     },
     "metadata": {},
     "output_type": "display_data"
    }
   ],
   "source": [
    "w=widgets.FloatText(\n",
    "    value=1,\n",
    "    description='$$w :$$',\n",
    "    disabled=False\n",
    ")\n",
    "display(w)"
   ]
  },
  {
   "cell_type": "markdown",
   "id": "6e4da623",
   "metadata": {},
   "source": [
    "### 1.4. Dimensions (longueur l; épaisseur t; hauteur h) [m]"
   ]
  },
  {
   "cell_type": "code",
   "execution_count": 18,
   "id": "941bff0f",
   "metadata": {},
   "outputs": [
    {
     "data": {
      "application/vnd.jupyter.widget-view+json": {
       "model_id": "29284f0650a14e89accce8144b6752e3",
       "version_major": 2,
       "version_minor": 0
      },
      "text/plain": [
       "FloatText(value=0.0, description='$$l :$$')"
      ]
     },
     "metadata": {},
     "output_type": "display_data"
    }
   ],
   "source": [
    "l=widgets.FloatText(\n",
    "    value=1,\n",
    "    description='$$l :$$',\n",
    "    disabled=False\n",
    ")\n",
    "display(l)"
   ]
  },
  {
   "cell_type": "code",
   "execution_count": 19,
   "id": "48922e3e",
   "metadata": {},
   "outputs": [
    {
     "data": {
      "application/vnd.jupyter.widget-view+json": {
       "model_id": "cbb31db2285640f7829b0cc7883e3a7a",
       "version_major": 2,
       "version_minor": 0
      },
      "text/plain": [
       "FloatText(value=0.0, description='$$t :$$')"
      ]
     },
     "metadata": {},
     "output_type": "display_data"
    }
   ],
   "source": [
    "t=widgets.FloatText(\n",
    "    value=0.3,\n",
    "    description='$$t :$$',\n",
    "    disabled=False\n",
    ")\n",
    "display(t)"
   ]
  },
  {
   "cell_type": "code",
   "execution_count": 20,
   "id": "c12bee4d",
   "metadata": {},
   "outputs": [
    {
     "data": {
      "application/vnd.jupyter.widget-view+json": {
       "model_id": "da3f839cae6043ddaf073c4fcbd8c0cd",
       "version_major": 2,
       "version_minor": 0
      },
      "text/plain": [
       "FloatSlider(value=2.0, continuous_update=False, description='$$h:$$', max=10.0, readout_format='.1f')"
      ]
     },
     "metadata": {},
     "output_type": "display_data"
    }
   ],
   "source": [
    "h=widgets.FloatSlider(\n",
    "    value=2,\n",
    "    min=0,\n",
    "    max=10.0,\n",
    "    step=0.1,\n",
    "    description='$$h:$$',\n",
    "    disabled=False,\n",
    "    continuous_update=False,\n",
    "    orientation='horizontal',\n",
    "    readout=True,\n",
    "    readout_format='.1f',\n",
    ")\n",
    "display(h)"
   ]
  },
  {
   "cell_type": "code",
   "execution_count": 21,
   "id": "abf49f7f",
   "metadata": {},
   "outputs": [
    {
     "data": {
      "application/vnd.jupyter.widget-view+json": {
       "model_id": "82bdcdf4fa6645bb9f937e78533aacea",
       "version_major": 2,
       "version_minor": 0
      },
      "text/plain": [
       "FloatText(value=0.0, description='$$a :$$(cf. 2.1)')"
      ]
     },
     "metadata": {},
     "output_type": "display_data"
    }
   ],
   "source": [
    "a=widgets.FloatText(\n",
    "    value=0.1,\n",
    "    description='$$a :$$(cf. 2.1)',\n",
    "    disabled=False\n",
    ")\n",
    "display(a)"
   ]
  },
  {
   "cell_type": "markdown",
   "id": "d1b8f47d",
   "metadata": {},
   "source": [
    "#### Calcul de hef"
   ]
  },
  {
   "cell_type": "code",
   "execution_count": 14,
   "id": "a94b4da7",
   "metadata": {},
   "outputs": [
    {
     "ename": "FileNotFoundError",
     "evalue": "[Errno 2] No such file or directory: 'Hef.png'",
     "output_type": "error",
     "traceback": [
      "\u001b[1;31m---------------------------------------------------------------------------\u001b[0m",
      "\u001b[1;31mFileNotFoundError\u001b[0m                         Traceback (most recent call last)",
      "\u001b[1;32mC:\\Users\\ALEXAN~1\\AppData\\Local\\Temp/ipykernel_56316/2375780482.py\u001b[0m in \u001b[0;36m<module>\u001b[1;34m\u001b[0m\n\u001b[1;32m----> 1\u001b[1;33m \u001b[0mfile\u001b[0m \u001b[1;33m=\u001b[0m \u001b[0mopen\u001b[0m\u001b[1;33m(\u001b[0m\u001b[1;34m\"Hef.png\"\u001b[0m\u001b[1;33m,\u001b[0m \u001b[1;34m\"rb\"\u001b[0m\u001b[1;33m)\u001b[0m\u001b[1;33m\u001b[0m\u001b[1;33m\u001b[0m\u001b[0m\n\u001b[0m\u001b[0;32m      2\u001b[0m \u001b[0mimage\u001b[0m \u001b[1;33m=\u001b[0m \u001b[0mfile\u001b[0m\u001b[1;33m.\u001b[0m\u001b[0mread\u001b[0m\u001b[1;33m(\u001b[0m\u001b[1;33m)\u001b[0m\u001b[1;33m\u001b[0m\u001b[1;33m\u001b[0m\u001b[0m\n\u001b[0;32m      3\u001b[0m widgets.Image(\n\u001b[0;32m      4\u001b[0m     \u001b[0mvalue\u001b[0m\u001b[1;33m=\u001b[0m\u001b[0mimage\u001b[0m\u001b[1;33m,\u001b[0m\u001b[1;33m\u001b[0m\u001b[1;33m\u001b[0m\u001b[0m\n\u001b[0;32m      5\u001b[0m     \u001b[0mformat\u001b[0m\u001b[1;33m=\u001b[0m\u001b[1;34m'png'\u001b[0m\u001b[1;33m,\u001b[0m\u001b[1;33m\u001b[0m\u001b[1;33m\u001b[0m\u001b[0m\n",
      "\u001b[1;31mFileNotFoundError\u001b[0m: [Errno 2] No such file or directory: 'Hef.png'"
     ]
    }
   ],
   "source": [
    "file = open(\"Hef.png\", \"rb\")\n",
    "image = file.read()\n",
    "widgets.Image(\n",
    "    value=image,\n",
    "    format='png',\n",
    "    width=500,\n",
    "    height=500,\n",
    ")"
   ]
  },
  {
   "cell_type": "code",
   "execution_count": 15,
   "id": "4c886029",
   "metadata": {},
   "outputs": [
    {
     "ename": "NameError",
     "evalue": "name 'widgets' is not defined",
     "output_type": "error",
     "traceback": [
      "\u001b[1;31m---------------------------------------------------------------------------\u001b[0m",
      "\u001b[1;31mNameError\u001b[0m                                 Traceback (most recent call last)",
      "\u001b[1;32mC:\\Users\\ALEXAN~1\\AppData\\Local\\Temp/ipykernel_56316/1728079565.py\u001b[0m in \u001b[0;36m<module>\u001b[1;34m\u001b[0m\n\u001b[1;32m----> 1\u001b[1;33m disp=widgets.RadioButtons(\n\u001b[0m\u001b[0;32m      2\u001b[0m     \u001b[0moptions\u001b[0m\u001b[1;33m=\u001b[0m\u001b[1;33m[\u001b[0m\u001b[1;34m'Cas 1'\u001b[0m\u001b[1;33m,\u001b[0m\u001b[1;34m'Cas 2'\u001b[0m\u001b[1;33m]\u001b[0m\u001b[1;33m,\u001b[0m\u001b[1;33m\u001b[0m\u001b[1;33m\u001b[0m\u001b[0m\n\u001b[0;32m      3\u001b[0m     \u001b[0mvalue\u001b[0m\u001b[1;33m=\u001b[0m\u001b[1;34m'Cas 1'\u001b[0m\u001b[1;33m,\u001b[0m\u001b[1;33m\u001b[0m\u001b[1;33m\u001b[0m\u001b[0m\n\u001b[0;32m      4\u001b[0m     \u001b[0mdescription\u001b[0m\u001b[1;33m=\u001b[0m\u001b[1;34m'Disposition :'\u001b[0m\u001b[1;33m,\u001b[0m\u001b[1;33m\u001b[0m\u001b[1;33m\u001b[0m\u001b[0m\n\u001b[0;32m      5\u001b[0m     \u001b[0mdisabled\u001b[0m\u001b[1;33m=\u001b[0m\u001b[1;32mFalse\u001b[0m\u001b[1;33m,\u001b[0m\u001b[1;33m\u001b[0m\u001b[1;33m\u001b[0m\u001b[0m\n",
      "\u001b[1;31mNameError\u001b[0m: name 'widgets' is not defined"
     ]
    }
   ],
   "source": [
    "disp=widgets.RadioButtons(\n",
    "    options=['Cas 1','Cas 2'],\n",
    "    value='Cas 1',\n",
    "    description='Disposition :',\n",
    "    disabled=False,\n",
    ")\n",
    "display(disp)\n"
   ]
  },
  {
   "cell_type": "code",
   "execution_count": 24,
   "id": "1c52e056",
   "metadata": {},
   "outputs": [
    {
     "data": {
      "application/vnd.jupyter.widget-view+json": {
       "model_id": "460781af39fb49018c69567d7c9050ad",
       "version_major": 2,
       "version_minor": 0
      },
      "text/plain": [
       "RadioButtons(description='Laison :', options=('A', 'B', 'C'), value='A')"
      ]
     },
     "metadata": {},
     "output_type": "display_data"
    }
   ],
   "source": [
    "liaison=widgets.RadioButtons(\n",
    "    options=['A','B','C'],\n",
    "    value='A',\n",
    "    description='Laison :',\n",
    "    disabled=False,\n",
    ")\n",
    "display(liaison)\n"
   ]
  },
  {
   "cell_type": "code",
   "execution_count": 135,
   "id": "4315da6f",
   "metadata": {},
   "outputs": [],
   "source": [
    "hef=1\n",
    "\n",
    "hl=h.value/l.value\n",
    "\n",
    "if disp.value=='Cas 1':\n",
    "    \n",
    "    if liaison.value=='A':\n",
    "        hef=h.value\n",
    "    elif liaison.value=='B':\n",
    "        hef=h.value*min(1.5*hl,1)\n",
    "    else : \n",
    "        hef=h.value*min((l.value/(h.value*2)),1)\n",
    "\n",
    "else : \n",
    "    \n",
    "    if liaison.value=='A':\n",
    "        hef=0.75*h.value\n",
    "    elif liaison.value=='B':\n",
    "        hef=h.value*min(1.5*hl,0.75)\n",
    "    else : \n",
    "        hef=h.value*min((l.value/(h.value*2)),0.75)\n",
    "        \n",
    "hef=round(hef,1)"
   ]
  },
  {
   "cell_type": "markdown",
   "id": "bb07234b",
   "metadata": {
    "variables": {
     "hef": {}
    }
   },
   "source": [
    "***Hef = {{hef}} m***"
   ]
  },
  {
   "cell_type": "markdown",
   "id": "0c8cf0d1",
   "metadata": {},
   "source": [
    "## 2. Vérification en tête de mur "
   ]
  },
  {
   "cell_type": "markdown",
   "id": "4c4c0366",
   "metadata": {},
   "source": [
    "### 2.1. Caclul de la charge Nid,h et du moment Mid,h en tête de mur\n",
    "\n",
    "\n",
    " \n",
    "$$N_{id,h}=N_{id,h}+N_{ed,f}$$\n",
    "\n",
    "$$M_{id,h}=N_{edf}*\\frac{a}{2}+N_{edu}*\\frac{t+a}{4}$$"
   ]
  },
  {
   "cell_type": "code",
   "execution_count": 136,
   "id": "335cee38",
   "metadata": {
    "scrolled": true
   },
   "outputs": [
    {
     "data": {
      "application/vnd.jupyter.widget-view+json": {
       "model_id": "c0b2068535384e319aa3f7c0c47d6580",
       "version_major": 2,
       "version_minor": 0
      },
      "text/plain": [
       "Image(value=b'\\x89PNG\\r\\n\\x1a\\n\\x00\\x00\\x00\\rIHDR\\x00\\x00\\x02X\\x00\\x00\\x02]\\x08\\x06\\x00\\x00\\x00\\xee\\xab\\to\\x00…"
      ]
     },
     "metadata": {},
     "output_type": "display_data"
    }
   ],
   "source": [
    "file = open(\"Verif_tete.PNG\", \"rb\")\n",
    "image = file.read()\n",
    "widgets.Image(\n",
    "    value=image,\n",
    "    format='png',\n",
    "    width=300,\n",
    "    height=300,\n",
    ")"
   ]
  },
  {
   "cell_type": "code",
   "execution_count": 137,
   "id": "98323576",
   "metadata": {},
   "outputs": [],
   "source": [
    "Nidhmax=Neduhmax.value+Nedfmax.value\n",
    "Nidhmin=Neduhmin.value+Nedfmin.value\n",
    "Midhmax=Nedfmax.value*(a.value/2)+Neduhmax.value*((t.value+a.value)/4)\n",
    "Midhmin=Nedfmin.value*(a.value/2)+Neduhmin.value*((t.value+a.value)/4)"
   ]
  },
  {
   "cell_type": "markdown",
   "id": "edac9b99",
   "metadata": {
    "variables": {
     "Nedfmax.value": {},
     "Nedfmin.value": {},
     "Neduhmax.value": {},
     "Neduhmin.value": {},
     "Nidhmax": {},
     "Nidhmin": {},
     "round(Midhmax,3)": {},
     "round(Midhmax/Nidhmax,3)": {},
     "round(Midhmin,3)": {},
     "round(Midhmin/Nidhmin,3)": {}
    }
   },
   "source": [
    "|  | Cas de charge maximal (G déf.) | Cas de charge minimal (G fav.) |\n",
    "|----------|----------|----------|\n",
    "|$$N_{edu,h}[kN]$$ | {{Neduhmax.value}} | {{Neduhmin.value}} |\n",
    "|$$N_{edf}[kN]$$ | {{Nedfmax.value}} | {{Nedfmin.value}} |\n",
    "|$$N_{id,h}[kN]$$| {{Nidhmax}} | {{Nidhmin}} |\n",
    "|$$M_{id,h}[kN.m]$$| {{round(Midhmax,3)}} | {{round(Midhmin,3)}} |\n",
    "|$$M_{id,h}/ N_{id,h}$$| {{round(Midhmax/Nidhmax,3)}} | {{round(Midhmin/Nidhmin,3)}} |"
   ]
  },
  {
   "cell_type": "markdown",
   "id": "d97fc548",
   "metadata": {},
   "source": [
    "### 2.2.Excentricité ei,h en tête de mur\n",
    "\n",
    "\n",
    " \n",
    "$$e_{i,h}=Max(\\frac{M_{id,h}}{N_{id,h}}+e_{init}+e_{he} ; 0,05*t)$$\n",
    "\n",
    "avec :$$e_{init}=\\frac{h_{ef}}{450}$$\n"
   ]
  },
  {
   "cell_type": "code",
   "execution_count": 138,
   "id": "8cd07f33",
   "metadata": {},
   "outputs": [],
   "source": [
    "eihmax=max((Midhmax/Nidhmax)+(hef/450),0.05*t.value)\n",
    "eihmax=round(eihmax,3)\n",
    "\n",
    "eihmin=max((Midhmin/Nidhmin)+(hef/450),0.05*t.value)\n",
    "eihmin=round(eihmin,3)"
   ]
  },
  {
   "cell_type": "markdown",
   "id": "fc5faca9",
   "metadata": {},
   "source": [
    "### 2.3. Coefficient de réduction phi,h en tête de mur\n",
    "\n",
    "\n",
    " \n",
    "$$\\phi_{i,h}=1-2 *\\frac{e_{i,h}}{t}$$"
   ]
  },
  {
   "cell_type": "code",
   "execution_count": 139,
   "id": "f6e4807a",
   "metadata": {},
   "outputs": [],
   "source": [
    "phimax=1-2*(eihmax/t.value)\n",
    "phimax=round(phimax,4)\n",
    "\n",
    "phimin=1-2*(eihmin/t.value)\n",
    "phimin=round(phimin,4)"
   ]
  },
  {
   "cell_type": "markdown",
   "id": "06281ea3",
   "metadata": {},
   "source": [
    "### 2.4. Résistance de la maçonnerie en partie supérieure\n",
    "\n",
    "\n",
    " \n",
    "$$N_{Rd,h}=\\phi_{i,h} * l * t * f_{d}$$"
   ]
  },
  {
   "cell_type": "code",
   "execution_count": 140,
   "id": "79b0ec55",
   "metadata": {},
   "outputs": [],
   "source": [
    "nrdmax=phimax*l.value*1000*t.value*fd\n",
    "nrdmin=phimin*l.value*1000*t.value*fd\n",
    "\n",
    "nrdmax=round(nrdmax,1)\n",
    "nrdmin=round(nrdmin,1)\n",
    "\n",
    "\n",
    "if nrdmax>Nidhmax : \n",
    "    nnmax='OK'\n",
    "else : \n",
    "    nnmax='NOT ok'\n",
    "    \n",
    "if nrdmin>Nidhmin : \n",
    "    nnmin='OK'\n",
    "else : \n",
    "    nnmin='NOT ok'\n"
   ]
  },
  {
   "cell_type": "markdown",
   "id": "40194bb6",
   "metadata": {
    "variables": {
     "Nidhmax": {},
     "Nidhmin": {},
     "eihmax": {},
     "eihmin": {},
     "nnmax": {},
     "nnmin": {},
     "nrdmax": {},
     "nrdmin": {},
     "phimax": {},
     "phimin": {}
    }
   },
   "source": [
    "|  |Cas de charge maximal (G def.)|Cas de charge minimal (G fav.)|\n",
    "|------|----------|----------|\n",
    "| $$e_{i,h} [m]$$ | {{eihmax}} | {{eihmin}} |\n",
    "| $$\\phi_{i,h}$$ | {{phimax}} | {{phimin}} |\n",
    "| $$N_{id,h}[kN]$$ | {{Nidhmax}} | {{Nidhmin}} |\n",
    "| $$N_{Rd,h}[kN]$$ | {{nrdmax}} | {{nrdmin}} |\n",
    "| $$N_{Rd,h}>N_{id,h} $$ | {{nnmax}} | {{nnmin}} |"
   ]
  },
  {
   "cell_type": "markdown",
   "id": "711fa4db",
   "metadata": {},
   "source": [
    "## 3. Vérification en pied de mur"
   ]
  },
  {
   "cell_type": "markdown",
   "id": "e5a17e38",
   "metadata": {},
   "source": [
    "### 3.1. Caclul de la charge Nid,b et du moment Mid,b en pied de mur\n",
    "\n",
    "\n",
    " \n",
    "$$N_{id,b}=N_{id,h}+N_{ed,m}= N_{id,h}+\\gamma_{g}*G_{maçonnerie}$$\n",
    "\n",
    "$$M_{id,b}=N_{id,b}*\\frac{t-3*a}{4}$$\n",
    "\n",
    "Ned,m : poids du mur"
   ]
  },
  {
   "cell_type": "code",
   "execution_count": 141,
   "id": "19826631",
   "metadata": {},
   "outputs": [
    {
     "data": {
      "application/vnd.jupyter.widget-view+json": {
       "model_id": "3505feb1fef9466cbb1a2ec7fc58fbc4",
       "version_major": 2,
       "version_minor": 0
      },
      "text/plain": [
       "Image(value=b'\\x89PNG\\r\\n\\x1a\\n\\x00\\x00\\x00\\rIHDR\\x00\\x00\\x01\\xf6\\x00\\x00\\x01\\xa1\\x08\\x06\\x00\\x00\\x00\\x93`\\x96…"
      ]
     },
     "metadata": {},
     "output_type": "display_data"
    }
   ],
   "source": [
    "file = open(\"Verif_pied.PNG\", \"rb\")\n",
    "image = file.read()\n",
    "widgets.Image(\n",
    "    value=image,\n",
    "    format='png',\n",
    "    width=300,\n",
    "    height=300,\n",
    ")"
   ]
  },
  {
   "cell_type": "code",
   "execution_count": 142,
   "id": "3fd4c31e",
   "metadata": {},
   "outputs": [],
   "source": [
    "nedmmax=1.35*pv.value*l.value*t.value*h.value\n",
    "nedmmin=0.9*pv.value*l.value*t.value*h.value\n",
    "\n",
    "nedmmax=round(nedmmax,2)\n",
    "nedmmin=round(nedmmin,2)\n",
    "\n",
    "Nidbmax=round(Nidhmax+nedmmax,3)\n",
    "Nidbmin=round(Nidhmin+nedmmin,3)\n",
    "\n",
    "Midbmax=round(Nidbmax*((t.value-3*a.value)/4),3)\n",
    "Midbmin=round(Nidbmin*((t.value-3*a.value)/4),3)\n",
    "\n",
    "emax=abs(Midbmax/Nidbmax)\n",
    "emin=abs(Midbmin/Nidbmin)\n",
    "\n",
    "emax=round(emax,4)\n",
    "emin=round(emin,4)"
   ]
  },
  {
   "cell_type": "markdown",
   "id": "d09f2281",
   "metadata": {
    "variables": {
     "Midbmax": {},
     "Midbmin": {},
     "Nidbmax": {},
     "Nidbmin": {},
     "emax": {},
     "emin": {},
     "nedmmax": {},
     "nedmmin": {}
    }
   },
   "source": [
    "|  |Cas de charge maximal (G def.)|Cas de charge minimal (G fav.)|\n",
    "|------|----------|----------|\n",
    "| $$N_{ed,m} [kN]$$ | {{nedmmax}} | {{nedmmin}} |\n",
    "| $$N_{i,db}[kN]$$ | {{Nidbmax}} | {{Nidbmin}} |\n",
    "| $$M_{id,b}[kN.m]$$ | {{Midbmax}} | {{Midbmin}} |\n",
    "| $$e=M_{id,h}/N_{id,h}[m]$$ | {{emax}} | {{emin}} |\n",
    "\n",
    "e : excentricité de la charge"
   ]
  },
  {
   "cell_type": "markdown",
   "id": "089f629a",
   "metadata": {},
   "source": [
    "### 3.2. Excentricité ei,b en pied\n",
    "\n",
    "\n",
    " \n",
    "$$e_{i,b}=max[\\frac{M_{id,b}}{N_{id,b}}+e_{init}+e_{he} ; 0,05*t]$$\n",
    "\n",
    "avec :$$e_{init}=\\frac{h_{ef}}{450}$$"
   ]
  },
  {
   "cell_type": "code",
   "execution_count": 143,
   "id": "a8b239e1",
   "metadata": {},
   "outputs": [],
   "source": [
    "eibmax=max((Midbmax/Nidbmax)+(hef/450),0.05*t.value)\n",
    "eibmax=round(eibmax,4)\n",
    "\n",
    "eibmin=max((Midbmin/Nidbmin)+(hef/450),0.05*t.value)\n",
    "eibmin=round(eibmin,4)"
   ]
  },
  {
   "cell_type": "markdown",
   "id": "f1d89939",
   "metadata": {},
   "source": [
    "### 3.3. Coefficient de réduction phi,b en pied\n",
    "\n",
    "\n",
    " \n",
    "$$\\phi_{i,b}=1-2 *\\frac{e_{i,b}}{t}$$"
   ]
  },
  {
   "cell_type": "code",
   "execution_count": 144,
   "id": "9e43ed2b",
   "metadata": {},
   "outputs": [],
   "source": [
    "phibmax=1-2*(eibmax/t.value)\n",
    "phibmax=round(phibmax,2)\n",
    "\n",
    "phibmin=1-2*(eibmin/t.value)\n",
    "phibmin=round(phibmin,2)"
   ]
  },
  {
   "cell_type": "markdown",
   "id": "28ae6131",
   "metadata": {},
   "source": [
    "### 3.4. Résistance de la maçonnerie en partie inférieure\n",
    "\n",
    "\n",
    " \n",
    "$$N_{Rd,b}=\\phi_{i,b} * l * t * f_{d}$$"
   ]
  },
  {
   "cell_type": "code",
   "execution_count": 145,
   "id": "a84ce204",
   "metadata": {},
   "outputs": [],
   "source": [
    "nrdbmax=phibmax*l.value*1000*t.value*fd\n",
    "nrdbmin=phibmin*l.value*1000*t.value*fd\n",
    "\n",
    "nrdbmax=round(nrdbmax,1)\n",
    "nrdbmin=round(nrdbmin,1)\n",
    "\n",
    "\n",
    "if nrdbmax>Nidbmax : \n",
    "    nnbmax='OK'\n",
    "else : \n",
    "    nnbmax='NOT ok'\n",
    "    \n",
    "if nrdbmin>Nidbmin : \n",
    "    nnbmin='OK'\n",
    "else : \n",
    "    nnbmin='NOT ok'\n"
   ]
  },
  {
   "cell_type": "markdown",
   "id": "cf62c173",
   "metadata": {
    "variables": {
     "Nidbmax": {},
     "Nidbmin": {},
     "eibmax": {},
     "eibmin": {},
     "nnbmax": {},
     "nnbmin": {},
     "nrdbmax": {},
     "nrdbmin": {},
     "phibmax": {},
     "phibmin": {}
    }
   },
   "source": [
    "|  |Cas de charge maximal (G def.)|Cas de charge minimal (G fav.)|\n",
    "|------|----------|----------|\n",
    "| $$e_{i,b}[m]$$ | {{eibmax}} | {{eibmin}} |\n",
    "| $$\\phi_{i,b}$$ | {{phibmax}} | {{phibmin}} |\n",
    "| $$N_{id,b}[kN]$$ | {{Nidbmax}} | {{Nidbmin}} |\n",
    "| $$N_{Rd,b}[kN]$$ | {{nrdbmax}} | {{nrdbmin}} |\n",
    "| $$N_{Rd,b}>N_{id,b} $$ | {{nnbmax}} | {{nnbmin}} |"
   ]
  },
  {
   "cell_type": "markdown",
   "id": "b63b4558",
   "metadata": {},
   "source": [
    "## 4. Vérification en partie médiane du mur"
   ]
  },
  {
   "cell_type": "markdown",
   "id": "d6fe3993",
   "metadata": {},
   "source": [
    "### 4.1. Caclul de la charge Nm,d en partie médiane\n",
    "\n",
    "\n",
    " \n",
    "$$N_{md}=N_{id,h}+\\frac{N_{ed,m}}{2}$$"
   ]
  },
  {
   "cell_type": "code",
   "execution_count": 146,
   "id": "d1d9983d",
   "metadata": {},
   "outputs": [
    {
     "data": {
      "application/vnd.jupyter.widget-view+json": {
       "model_id": "bd4c003db29346c59b41478ca185b3e0",
       "version_major": 2,
       "version_minor": 0
      },
      "text/plain": [
       "Image(value=b'\\x89PNG\\r\\n\\x1a\\n\\x00\\x00\\x00\\rIHDR\\x00\\x00\\x02+\\x00\\x00\\x02L\\x08\\x06\\x00\\x00\\x00;_\\xe6\\xca\\x00\\…"
      ]
     },
     "metadata": {},
     "output_type": "display_data"
    }
   ],
   "source": [
    "file = open(\"Verif_mi_h.PNG\", \"rb\")\n",
    "image = file.read()\n",
    "widgets.Image(\n",
    "    value=image,\n",
    "    format='png',\n",
    "    width=300,\n",
    "    height=300,\n",
    ")"
   ]
  },
  {
   "cell_type": "code",
   "execution_count": 147,
   "id": "cf268568",
   "metadata": {},
   "outputs": [],
   "source": [
    "Nmdmmax=Nidhmax+nedmmax/2\n",
    "Nmdmmin=Nidhmin+nedmmin/2\n",
    "\n",
    "Nmdmmax=round(Nmdmmax,1)\n",
    "Nmdmmin=round(Nmdmmin,1)"
   ]
  },
  {
   "cell_type": "markdown",
   "id": "1345dadc",
   "metadata": {
    "variables": {
     "Nidhmax": {},
     "Nidhmin": {},
     "Nmdmmax": {},
     "Nmdmmin": {},
     "nedmmax/2": {},
     "nedmmin/2": {}
    }
   },
   "source": [
    "|  |Cas de charge maximal (G def.)|Cas de charge minimal (G fav.)|\n",
    "|------|----------|----------|\n",
    "| $$N_{id,h}[kN]$$ | {{Nidhmax}} | {{Nidhmin}} |\n",
    "| $$N_{ed,m}/2 [kN]$$ | {{nedmmax/2}} | {{nedmmin/2}} |\n",
    "| $$N_{md}[kN]$$ | {{Nmdmmax}} | {{Nmdmmin}} |\n"
   ]
  },
  {
   "cell_type": "markdown",
   "id": "06af6131",
   "metadata": {},
   "source": [
    "### 4.2. Excentricité à mi-hauteur emk\n",
    "\n",
    "\n",
    " \n",
    "$$e_{mk}=max[e_{m}+e_{k} ; 0,05 * t]$$"
   ]
  },
  {
   "cell_type": "markdown",
   "id": "b813fc53",
   "metadata": {},
   "source": [
    "#### Excentricité due aux charges\n",
    "\n",
    "$$e_{m}=\\frac{M_{md}}{N_{md}}+e_{hm}+e_{init}$$\n",
    "\n",
    "avec : $$M_{md}=\\frac{|M_{id,h}-M_{id,b}|}{2}$$\n",
    "\n",
    "#### Excentricité due au vent\n",
    "\n",
    "$$e_{hm}=\\frac{M_{Ed,h}}{N_{md}}$$\n",
    "\n",
    "avec : $$M_{Ed,h}=\\frac{\\gamma_{Qw}*\\psi_{0w}*w*h^{2}}{8}$$\n",
    "\n",
    "#### Excentricité due au fluage\n",
    "\n",
    "$$e_{k}=0.002*\\phi_{\\infty}*\\frac{h_{ef}}{t}*\\sqrt{t*e_{m}}$$\n",
    "\n",
    "avec : $$M_{Ed,h}=\\frac{\\gamma_{Qw}*\\psi_{0w}*w*h^{2}}{8}$$"
   ]
  },
  {
   "cell_type": "code",
   "execution_count": 148,
   "id": "e01e407d",
   "metadata": {},
   "outputs": [],
   "source": [
    "from math import *\n",
    "\n",
    "Medh=round((1.5*0.6*w.value*(h.value)**2)/8,2)\n",
    "\n",
    "Mmdmax=round((abs(Midhmax-Midbmax)/2),4)\n",
    "Mmdmin=round((abs(Midhmin-Midbmin)/2),4)\n",
    "\n",
    "ehmmax=round(Medh/Nmdmmax,4)\n",
    "ehmmin=round(Medh/Nmdmmin,4)\n",
    "\n",
    "emmax=round((Mmdmax/Nmdmmax)+ehmmax+(h.value/450),4)\n",
    "emmin=round((Mmdmin/Nmdmmin)+ehmmin+(h.value/450),4)\n",
    "\n",
    "ekmax=round(0.002*phif.value*(hef/t.value)*(t.value*abs(emmax))**(1/2),3)\n",
    "ekmin=round(0.002*phif.value*(hef/t.value)*(t.value*abs(emmin))**(1/2),3)\n",
    "\n",
    "emkmax=round(max(emmax+ekmax,0.05*t.value),3)\n",
    "emkmin=round(max(emmin+ekmin,0.05*t.value),3)\n"
   ]
  },
  {
   "cell_type": "markdown",
   "id": "16b07a29",
   "metadata": {
    "variables": {
     "Medh": {},
     "Mmdmax": {},
     "Mmdmin": {},
     "ehmmax": {},
     "ehmmin": {},
     "ekmax": {},
     "ekmin": {},
     "emkmax": {},
     "emkmin": {},
     "emmax": {},
     "emmin": {}
    }
   },
   "source": [
    "|  |Cas de charge maximal (G def.)|Cas de charge minimal (G fav.)|\n",
    "|------|----------|----------|\n",
    "| $$M_{m,d}[kN.m]$$ | {{Mmdmax}} | {{Mmdmin}} |\n",
    "| $$M_{Ed,h}[kN.m]$$ | {{Medh}} | {{Medh}} |\n",
    "| $$e_{hm}[m]$$ | {{ehmmax}} | {{ehmmin}} |\n",
    "| $$e_{m}[m]$$ | {{emmax}} | {{emmin}} |\n",
    "| $$e_{k}[m]$$ | {{ekmax}} | {{ekmin}} |\n",
    "| $$e_{m,k}[m]$$ | {{emkmax}} | {{emkmin}} |"
   ]
  },
  {
   "cell_type": "markdown",
   "id": "a3049c74",
   "metadata": {},
   "source": [
    "### 4.3. Coefficient de réduction phi m en partie médiane \n",
    "\n",
    " \n",
    "$$\\phi_{m}=A*2,72^{\\frac{u^2}{2}}$$\n",
    "\n",
    "Avec : $$A=1-2*\\frac{e_{m,k}}{t}$$\n",
    "et : $$u=\\frac{h_{ef}-2*t}{23*t-37*e_{mk}}$$"
   ]
  },
  {
   "cell_type": "code",
   "execution_count": 149,
   "id": "58f866ac",
   "metadata": {},
   "outputs": [],
   "source": [
    "Amax=round(1-(2*(emkmax/t.value)),3)\n",
    "Amin=round(1-(2*(emkmin/t.value)),3)\n",
    "\n",
    "umax=round((hef-2*t.value)/(23*t.value-37*emkmax),3)\n",
    "umin=round((hef-2*t.value)/(23*t.value-37*emkmin),3)\n",
    "\n",
    "phimmax=round(Amax*(2.72**(umax**2)),3)\n",
    "phimmin=round(Amin*(2.72**(umin**2)),3)"
   ]
  },
  {
   "cell_type": "markdown",
   "id": "2d7fc1e3",
   "metadata": {
    "variables": {
     "Amax": {},
     "Amin": {},
     "phimmax": {},
     "phimmin": {},
     "umax": {},
     "umin": {}
    }
   },
   "source": [
    "|  |Cas de charge maximal (G def.)|Cas de charge minimal (G fav.)|\n",
    "|------|----------|----------|\n",
    "| $$A$$ | {{Amax}} | {{Amin}} |\n",
    "| $$u$$ | {{umax}} | {{umin}} |\n",
    "| $$\\phi_{m}$$ | {{phimmax}} | {{phimmin}} |"
   ]
  },
  {
   "cell_type": "markdown",
   "id": "d8966a0d",
   "metadata": {},
   "source": [
    "### 4.4. Résistance de la maçonnerie en partie médiane \n",
    "\n",
    "$$N_{Rd,m}=\\phi_{m} * l * t * f_{d}$$"
   ]
  },
  {
   "cell_type": "code",
   "execution_count": 150,
   "id": "568736d7",
   "metadata": {},
   "outputs": [],
   "source": [
    "Nrdmmax=round(phimmax*l.value*1000*t.value*fd,1)\n",
    "Nrdmmin=round(phimin*l.value*1000*t.value*fd,1)\n",
    "\n",
    "if Nrdmmax>Nmdmmax : \n",
    "    nnmmax='OK'\n",
    "else : \n",
    "    nnmmax='NOT ok'\n",
    "    \n",
    "if Nrdmmin>Nmdmmin : \n",
    "    nnmmin='OK'\n",
    "else : \n",
    "    nnmmin='NOT ok'"
   ]
  },
  {
   "cell_type": "markdown",
   "id": "0c8976cf",
   "metadata": {},
   "source": [
    "#### Vérification de la résistance Nrd"
   ]
  },
  {
   "cell_type": "markdown",
   "id": "f74fffea",
   "metadata": {
    "variables": {
     "Nmdmmax": {},
     "Nrdmmax": {},
     "Nrdmmin": {},
     "nnmmax": {},
     "nnmmin": {}
    }
   },
   "source": [
    "|  |Cas de charge maximal (G def.)|Cas de charge minimal (G fav.)|\n",
    "|------|----------|----------|\n",
    "| $$N_{m,d}[kN]$$ | {{Nmdmmax}} | {{Nmdmmax}} |\n",
    "| $$N_{Rd}[kN]$$ | {{Nrdmmax}} | {{Nrdmmin}} |\n",
    "| $$N_{Rd}>N_{m,d}$$ | {{nnmmax}} | {{nnmmin}} |\n"
   ]
  },
  {
   "cell_type": "markdown",
   "id": "b447dea5",
   "metadata": {},
   "source": [
    "#### Vérification des contraintes"
   ]
  },
  {
   "cell_type": "markdown",
   "id": "53a6feb3",
   "metadata": {},
   "source": [
    "$$\\sigma_{d}=\\frac{0.15*N_{Rd}}{l*t}$$"
   ]
  },
  {
   "cell_type": "code",
   "execution_count": 151,
   "id": "7eda67a8",
   "metadata": {},
   "outputs": [],
   "source": [
    "sigmanmax=round(Nmdmmax/(l.value*t.value),1)*0.001\n",
    "sigmanmin=round(Nmdmmin/(l.value*t.value),1)*0.001\n",
    "\n",
    "iv=round(((l.value*t.value**3)/12)/(t.value/2),4)\n",
    "\n",
    "sigmammax=round(Mmdmax/iv,1)*0.001\n",
    "sigmammin=round(Mmdmin/iv,1)*0.001\n",
    "\n",
    "if sigmammax+sigmanmax<fd : \n",
    "    sigmaverifmax='OK'\n",
    "else : \n",
    "    sigmaverifmax='NOT ok'\n",
    "    \n",
    "if sigmammin+sigmanmin<fd :\n",
    "    sigmaverifmin='OK'\n",
    "else : \n",
    "    sigmaverifmin='NOT ok'\n",
    "    \n",
    "sigmadmax=(0.15*Nrdmmax)/(l.value*t.value)*0.001\n",
    "sigmadmin=(0.15*Nrdmmin)/(l.value*t.value)*0.001\n",
    "\n",
    "if sigmanmax-sigmammax>-(fxd1+sigmadmax):\n",
    "    sigma2verifmax='OK'\n",
    "else : \n",
    "    sigma2verifmax='NOT ok'\n",
    "    \n",
    "if sigmanmin-sigmammin>-(fxd1+sigmadmin):\n",
    "    sigma2verifmin='OK'\n",
    "else : \n",
    "    sigma2verifmin='NOT ok'"
   ]
  },
  {
   "cell_type": "markdown",
   "id": "aab77344",
   "metadata": {
    "variables": {
     "-round(fxd1+sigmadmax,3)": {},
     "-round(fxd1+sigmadmin,3)": {},
     "iv": {},
     "round(sigmanmax+sigmammax,3)": {},
     "round(sigmanmax+sigmammin,3)": {},
     "round(sigmanmax-sigmammax,3)": {},
     "round(sigmanmax-sigmammin,3)": {},
     "sigma2verifmax": {},
     "sigma2verifmin": {},
     "sigmammax": {},
     "sigmammin": {},
     "sigmanmax": {},
     "sigmanmin": {},
     "sigmaverifmax": {},
     "sigmaverifmin": {}
    }
   },
   "source": [
    "|  |Cas de charge maximal (G def.)|Cas de charge minimal (G fav.)|\n",
    "|------|----------|----------|\n",
    "| $$\\sigma(N_{m,d})[MPa]$$ | {{sigmanmax}} | {{sigmanmin}} |\n",
    "| $$I/v [m^3]$$ | {{iv}} | {{iv}} |\n",
    "| $$\\sigma(M_{m,d})[MPa]$$ | {{sigmammax}} | {{sigmammin}} |\n",
    "| $$\\sigma(N_{m,d}+M_{m,d})[MPa]$$ | {{round(sigmanmax+sigmammax,3)}} | {{round(sigmanmax+sigmammin,3)}} |\n",
    "| $$\\sigma(N_{m,d}-M_{m,d})[MPa]$$ | {{round(sigmanmax-sigmammax,3)}} | {{round(sigmanmax-sigmammin,3)}} |\n",
    "| $$\\sigma(N_{m,d}+M_{m,d})<f_{d}$$ | {{sigmaverifmax}} | {{sigmaverifmin}} |\n",
    "| $$f_{xd1,app}=f_{xd1}+\\sigma_{d}$$ | {{-round(fxd1+sigmadmax,3)}} | {{-round(fxd1+sigmadmin,3)}} |\n",
    "| $$\\sigma(N_{md}-M_{md})>f_{xd1,app}$$ | {{sigma2verifmax}} | {{sigma2verifmin}} |"
   ]
  },
  {
   "cell_type": "markdown",
   "id": "d5f54c95",
   "metadata": {},
   "source": [
    "## 5. Vérification au cisaillement des appuis \n",
    "\n",
    "Effort de cisaillement : $$N_{Ed,h}=\\gamma_{Q} * \\psi_{0,w} * w * h_{ef}$$\n",
    "\n",
    "Contrainte de cisaillement : $$\\sigma_{v}=\\frac{N_{Ed,h}}{2*A_{h}}$$"
   ]
  },
  {
   "cell_type": "code",
   "execution_count": 157,
   "id": "84aea2be",
   "metadata": {},
   "outputs": [],
   "source": [
    "Ah=(t.value-a.value)*l.value\n",
    "Nedh=1.5*0.6*w.value*hef\n",
    "sigmav=Nedh/(2*Ah)"
   ]
  },
  {
   "cell_type": "code",
   "execution_count": null,
   "id": "b909b1c2",
   "metadata": {},
   "outputs": [],
   "source": []
  },
  {
   "cell_type": "code",
   "execution_count": 2,
   "id": "f1cbae3c",
   "metadata": {},
   "outputs": [
    {
     "ename": "ModuleNotFoundError",
     "evalue": "No module named 'watermak'",
     "output_type": "error",
     "traceback": [
      "\u001b[1;31m---------------------------------------------------------------------------\u001b[0m",
      "\u001b[1;31mModuleNotFoundError\u001b[0m                       Traceback (most recent call last)",
      "\u001b[1;32mC:\\Users\\ALEXAN~1\\AppData\\Local\\Temp/ipykernel_46616/744104931.py\u001b[0m in \u001b[0;36m<module>\u001b[1;34m\u001b[0m\n\u001b[1;32m----> 1\u001b[1;33m \u001b[0mget_ipython\u001b[0m\u001b[1;33m(\u001b[0m\u001b[1;33m)\u001b[0m\u001b[1;33m.\u001b[0m\u001b[0mrun_line_magic\u001b[0m\u001b[1;33m(\u001b[0m\u001b[1;34m'load_ext'\u001b[0m\u001b[1;33m,\u001b[0m \u001b[1;34m'watermak'\u001b[0m\u001b[1;33m)\u001b[0m\u001b[1;33m\u001b[0m\u001b[1;33m\u001b[0m\u001b[0m\n\u001b[0m",
      "\u001b[1;32m~\\AppData\\Local\\Programs\\Python\\Python310\\lib\\site-packages\\IPython\\core\\interactiveshell.py\u001b[0m in \u001b[0;36mrun_line_magic\u001b[1;34m(self, magic_name, line, _stack_depth)\u001b[0m\n\u001b[0;32m   2349\u001b[0m                 \u001b[0mkwargs\u001b[0m\u001b[1;33m[\u001b[0m\u001b[1;34m'local_ns'\u001b[0m\u001b[1;33m]\u001b[0m \u001b[1;33m=\u001b[0m \u001b[0mself\u001b[0m\u001b[1;33m.\u001b[0m\u001b[0mget_local_scope\u001b[0m\u001b[1;33m(\u001b[0m\u001b[0mstack_depth\u001b[0m\u001b[1;33m)\u001b[0m\u001b[1;33m\u001b[0m\u001b[1;33m\u001b[0m\u001b[0m\n\u001b[0;32m   2350\u001b[0m             \u001b[1;32mwith\u001b[0m \u001b[0mself\u001b[0m\u001b[1;33m.\u001b[0m\u001b[0mbuiltin_trap\u001b[0m\u001b[1;33m:\u001b[0m\u001b[1;33m\u001b[0m\u001b[1;33m\u001b[0m\u001b[0m\n\u001b[1;32m-> 2351\u001b[1;33m                 \u001b[0mresult\u001b[0m \u001b[1;33m=\u001b[0m \u001b[0mfn\u001b[0m\u001b[1;33m(\u001b[0m\u001b[1;33m*\u001b[0m\u001b[0margs\u001b[0m\u001b[1;33m,\u001b[0m \u001b[1;33m**\u001b[0m\u001b[0mkwargs\u001b[0m\u001b[1;33m)\u001b[0m\u001b[1;33m\u001b[0m\u001b[1;33m\u001b[0m\u001b[0m\n\u001b[0m\u001b[0;32m   2352\u001b[0m             \u001b[1;32mreturn\u001b[0m \u001b[0mresult\u001b[0m\u001b[1;33m\u001b[0m\u001b[1;33m\u001b[0m\u001b[0m\n\u001b[0;32m   2353\u001b[0m \u001b[1;33m\u001b[0m\u001b[0m\n",
      "\u001b[1;32m~\\AppData\\Local\\Programs\\Python\\Python310\\lib\\site-packages\\decorator.py\u001b[0m in \u001b[0;36mfun\u001b[1;34m(*args, **kw)\u001b[0m\n\u001b[0;32m    230\u001b[0m             \u001b[1;32mif\u001b[0m \u001b[1;32mnot\u001b[0m \u001b[0mkwsyntax\u001b[0m\u001b[1;33m:\u001b[0m\u001b[1;33m\u001b[0m\u001b[1;33m\u001b[0m\u001b[0m\n\u001b[0;32m    231\u001b[0m                 \u001b[0margs\u001b[0m\u001b[1;33m,\u001b[0m \u001b[0mkw\u001b[0m \u001b[1;33m=\u001b[0m \u001b[0mfix\u001b[0m\u001b[1;33m(\u001b[0m\u001b[0margs\u001b[0m\u001b[1;33m,\u001b[0m \u001b[0mkw\u001b[0m\u001b[1;33m,\u001b[0m \u001b[0msig\u001b[0m\u001b[1;33m)\u001b[0m\u001b[1;33m\u001b[0m\u001b[1;33m\u001b[0m\u001b[0m\n\u001b[1;32m--> 232\u001b[1;33m             \u001b[1;32mreturn\u001b[0m \u001b[0mcaller\u001b[0m\u001b[1;33m(\u001b[0m\u001b[0mfunc\u001b[0m\u001b[1;33m,\u001b[0m \u001b[1;33m*\u001b[0m\u001b[1;33m(\u001b[0m\u001b[0mextras\u001b[0m \u001b[1;33m+\u001b[0m \u001b[0margs\u001b[0m\u001b[1;33m)\u001b[0m\u001b[1;33m,\u001b[0m \u001b[1;33m**\u001b[0m\u001b[0mkw\u001b[0m\u001b[1;33m)\u001b[0m\u001b[1;33m\u001b[0m\u001b[1;33m\u001b[0m\u001b[0m\n\u001b[0m\u001b[0;32m    233\u001b[0m     \u001b[0mfun\u001b[0m\u001b[1;33m.\u001b[0m\u001b[0m__name__\u001b[0m \u001b[1;33m=\u001b[0m \u001b[0mfunc\u001b[0m\u001b[1;33m.\u001b[0m\u001b[0m__name__\u001b[0m\u001b[1;33m\u001b[0m\u001b[1;33m\u001b[0m\u001b[0m\n\u001b[0;32m    234\u001b[0m     \u001b[0mfun\u001b[0m\u001b[1;33m.\u001b[0m\u001b[0m__doc__\u001b[0m \u001b[1;33m=\u001b[0m \u001b[0mfunc\u001b[0m\u001b[1;33m.\u001b[0m\u001b[0m__doc__\u001b[0m\u001b[1;33m\u001b[0m\u001b[1;33m\u001b[0m\u001b[0m\n",
      "\u001b[1;32m~\\AppData\\Local\\Programs\\Python\\Python310\\lib\\site-packages\\IPython\\core\\magic.py\u001b[0m in \u001b[0;36m<lambda>\u001b[1;34m(f, *a, **k)\u001b[0m\n\u001b[0;32m    185\u001b[0m     \u001b[1;31m# but it's overkill for just that one bit of state.\u001b[0m\u001b[1;33m\u001b[0m\u001b[1;33m\u001b[0m\u001b[0m\n\u001b[0;32m    186\u001b[0m     \u001b[1;32mdef\u001b[0m \u001b[0mmagic_deco\u001b[0m\u001b[1;33m(\u001b[0m\u001b[0marg\u001b[0m\u001b[1;33m)\u001b[0m\u001b[1;33m:\u001b[0m\u001b[1;33m\u001b[0m\u001b[1;33m\u001b[0m\u001b[0m\n\u001b[1;32m--> 187\u001b[1;33m         \u001b[0mcall\u001b[0m \u001b[1;33m=\u001b[0m \u001b[1;32mlambda\u001b[0m \u001b[0mf\u001b[0m\u001b[1;33m,\u001b[0m \u001b[1;33m*\u001b[0m\u001b[0ma\u001b[0m\u001b[1;33m,\u001b[0m \u001b[1;33m**\u001b[0m\u001b[0mk\u001b[0m\u001b[1;33m:\u001b[0m \u001b[0mf\u001b[0m\u001b[1;33m(\u001b[0m\u001b[1;33m*\u001b[0m\u001b[0ma\u001b[0m\u001b[1;33m,\u001b[0m \u001b[1;33m**\u001b[0m\u001b[0mk\u001b[0m\u001b[1;33m)\u001b[0m\u001b[1;33m\u001b[0m\u001b[1;33m\u001b[0m\u001b[0m\n\u001b[0m\u001b[0;32m    188\u001b[0m \u001b[1;33m\u001b[0m\u001b[0m\n\u001b[0;32m    189\u001b[0m         \u001b[1;32mif\u001b[0m \u001b[0mcallable\u001b[0m\u001b[1;33m(\u001b[0m\u001b[0marg\u001b[0m\u001b[1;33m)\u001b[0m\u001b[1;33m:\u001b[0m\u001b[1;33m\u001b[0m\u001b[1;33m\u001b[0m\u001b[0m\n",
      "\u001b[1;32m~\\AppData\\Local\\Programs\\Python\\Python310\\lib\\site-packages\\IPython\\core\\magics\\extension.py\u001b[0m in \u001b[0;36mload_ext\u001b[1;34m(self, module_str)\u001b[0m\n\u001b[0;32m     31\u001b[0m         \u001b[1;32mif\u001b[0m \u001b[1;32mnot\u001b[0m \u001b[0mmodule_str\u001b[0m\u001b[1;33m:\u001b[0m\u001b[1;33m\u001b[0m\u001b[1;33m\u001b[0m\u001b[0m\n\u001b[0;32m     32\u001b[0m             \u001b[1;32mraise\u001b[0m \u001b[0mUsageError\u001b[0m\u001b[1;33m(\u001b[0m\u001b[1;34m'Missing module name.'\u001b[0m\u001b[1;33m)\u001b[0m\u001b[1;33m\u001b[0m\u001b[1;33m\u001b[0m\u001b[0m\n\u001b[1;32m---> 33\u001b[1;33m         \u001b[0mres\u001b[0m \u001b[1;33m=\u001b[0m \u001b[0mself\u001b[0m\u001b[1;33m.\u001b[0m\u001b[0mshell\u001b[0m\u001b[1;33m.\u001b[0m\u001b[0mextension_manager\u001b[0m\u001b[1;33m.\u001b[0m\u001b[0mload_extension\u001b[0m\u001b[1;33m(\u001b[0m\u001b[0mmodule_str\u001b[0m\u001b[1;33m)\u001b[0m\u001b[1;33m\u001b[0m\u001b[1;33m\u001b[0m\u001b[0m\n\u001b[0m\u001b[0;32m     34\u001b[0m \u001b[1;33m\u001b[0m\u001b[0m\n\u001b[0;32m     35\u001b[0m         \u001b[1;32mif\u001b[0m \u001b[0mres\u001b[0m \u001b[1;33m==\u001b[0m \u001b[1;34m'already loaded'\u001b[0m\u001b[1;33m:\u001b[0m\u001b[1;33m\u001b[0m\u001b[1;33m\u001b[0m\u001b[0m\n",
      "\u001b[1;32m~\\AppData\\Local\\Programs\\Python\\Python310\\lib\\site-packages\\IPython\\core\\extensions.py\u001b[0m in \u001b[0;36mload_extension\u001b[1;34m(self, module_str)\u001b[0m\n\u001b[0;32m     78\u001b[0m             \u001b[1;32mif\u001b[0m \u001b[0mmodule_str\u001b[0m \u001b[1;32mnot\u001b[0m \u001b[1;32min\u001b[0m \u001b[0msys\u001b[0m\u001b[1;33m.\u001b[0m\u001b[0mmodules\u001b[0m\u001b[1;33m:\u001b[0m\u001b[1;33m\u001b[0m\u001b[1;33m\u001b[0m\u001b[0m\n\u001b[0;32m     79\u001b[0m                 \u001b[1;32mwith\u001b[0m \u001b[0mprepended_to_syspath\u001b[0m\u001b[1;33m(\u001b[0m\u001b[0mself\u001b[0m\u001b[1;33m.\u001b[0m\u001b[0mipython_extension_dir\u001b[0m\u001b[1;33m)\u001b[0m\u001b[1;33m:\u001b[0m\u001b[1;33m\u001b[0m\u001b[1;33m\u001b[0m\u001b[0m\n\u001b[1;32m---> 80\u001b[1;33m                     \u001b[0mmod\u001b[0m \u001b[1;33m=\u001b[0m \u001b[0mimport_module\u001b[0m\u001b[1;33m(\u001b[0m\u001b[0mmodule_str\u001b[0m\u001b[1;33m)\u001b[0m\u001b[1;33m\u001b[0m\u001b[1;33m\u001b[0m\u001b[0m\n\u001b[0m\u001b[0;32m     81\u001b[0m                     \u001b[1;32mif\u001b[0m \u001b[0mmod\u001b[0m\u001b[1;33m.\u001b[0m\u001b[0m__file__\u001b[0m\u001b[1;33m.\u001b[0m\u001b[0mstartswith\u001b[0m\u001b[1;33m(\u001b[0m\u001b[0mself\u001b[0m\u001b[1;33m.\u001b[0m\u001b[0mipython_extension_dir\u001b[0m\u001b[1;33m)\u001b[0m\u001b[1;33m:\u001b[0m\u001b[1;33m\u001b[0m\u001b[1;33m\u001b[0m\u001b[0m\n\u001b[0;32m     82\u001b[0m                         print((\"Loading extensions from {dir} is deprecated. \"\n",
      "\u001b[1;32m~\\AppData\\Local\\Programs\\Python\\Python310\\lib\\importlib\\__init__.py\u001b[0m in \u001b[0;36mimport_module\u001b[1;34m(name, package)\u001b[0m\n\u001b[0;32m    124\u001b[0m                 \u001b[1;32mbreak\u001b[0m\u001b[1;33m\u001b[0m\u001b[1;33m\u001b[0m\u001b[0m\n\u001b[0;32m    125\u001b[0m             \u001b[0mlevel\u001b[0m \u001b[1;33m+=\u001b[0m \u001b[1;36m1\u001b[0m\u001b[1;33m\u001b[0m\u001b[1;33m\u001b[0m\u001b[0m\n\u001b[1;32m--> 126\u001b[1;33m     \u001b[1;32mreturn\u001b[0m \u001b[0m_bootstrap\u001b[0m\u001b[1;33m.\u001b[0m\u001b[0m_gcd_import\u001b[0m\u001b[1;33m(\u001b[0m\u001b[0mname\u001b[0m\u001b[1;33m[\u001b[0m\u001b[0mlevel\u001b[0m\u001b[1;33m:\u001b[0m\u001b[1;33m]\u001b[0m\u001b[1;33m,\u001b[0m \u001b[0mpackage\u001b[0m\u001b[1;33m,\u001b[0m \u001b[0mlevel\u001b[0m\u001b[1;33m)\u001b[0m\u001b[1;33m\u001b[0m\u001b[1;33m\u001b[0m\u001b[0m\n\u001b[0m\u001b[0;32m    127\u001b[0m \u001b[1;33m\u001b[0m\u001b[0m\n\u001b[0;32m    128\u001b[0m \u001b[1;33m\u001b[0m\u001b[0m\n",
      "\u001b[1;32m~\\AppData\\Local\\Programs\\Python\\Python310\\lib\\importlib\\_bootstrap.py\u001b[0m in \u001b[0;36m_gcd_import\u001b[1;34m(name, package, level)\u001b[0m\n",
      "\u001b[1;32m~\\AppData\\Local\\Programs\\Python\\Python310\\lib\\importlib\\_bootstrap.py\u001b[0m in \u001b[0;36m_find_and_load\u001b[1;34m(name, import_)\u001b[0m\n",
      "\u001b[1;32m~\\AppData\\Local\\Programs\\Python\\Python310\\lib\\importlib\\_bootstrap.py\u001b[0m in \u001b[0;36m_find_and_load_unlocked\u001b[1;34m(name, import_)\u001b[0m\n",
      "\u001b[1;31mModuleNotFoundError\u001b[0m: No module named 'watermak'"
     ]
    }
   ],
   "source": [
    "%load_ext watermak"
   ]
  }
 ],
 "metadata": {
  "hide_input": false,
  "kernelspec": {
   "display_name": "Python 3 (ipykernel)",
   "language": "python",
   "name": "python3"
  },
  "language_info": {
   "codemirror_mode": {
    "name": "ipython",
    "version": 3
   },
   "file_extension": ".py",
   "mimetype": "text/x-python",
   "name": "python",
   "nbconvert_exporter": "python",
   "pygments_lexer": "ipython3",
   "version": "3.10.0"
  }
 },
 "nbformat": 4,
 "nbformat_minor": 5
}
