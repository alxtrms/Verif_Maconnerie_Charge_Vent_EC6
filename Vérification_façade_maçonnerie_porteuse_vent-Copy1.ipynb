{
 "cells": [
  {
   "cell_type": "markdown",
   "id": "bc067e99",
   "metadata": {},
   "source": [
    "# Vérification façade en maçonnerie porteuse chargée au vent "
   ]
  },
  {
   "cell_type": "markdown",
   "id": "f0b76821",
   "metadata": {},
   "source": [
    "## 1. Données générales"
   ]
  },
  {
   "cell_type": "markdown",
   "id": "c0f8a7b0",
   "metadata": {},
   "source": [
    "### 1.1. Références normatives\n",
    "\n",
    "*- NF EN 1996 + AN : Calcul des ouvrages en maçonnerie*\n",
    "\n",
    "*- DTU 20.1 : Ouvrages en maçonnerie de petits éléments*"
   ]
  },
  {
   "cell_type": "markdown",
   "id": "cba383de",
   "metadata": {},
   "source": [
    "### 1.2. Matériau"
   ]
  },
  {
   "cell_type": "code",
   "execution_count": 1,
   "id": "0a35d085",
   "metadata": {
    "scrolled": true
   },
   "outputs": [
    {
     "data": {
      "application/vnd.jupyter.widget-view+json": {
       "model_id": "13d469bdea1c4ed99ed0eb34f25ff812",
       "version_major": 2,
       "version_minor": 0
      },
      "text/plain": [
       "RadioButtons(description='Matériau :', options=('Terre cuite', 'Silico-calcaire', 'Béton de granulats courants…"
      ]
     },
     "metadata": {},
     "output_type": "display_data"
    }
   ],
   "source": [
    "from math import *\n",
    "import ipywidgets as widgets\n",
    "from tkinter import *\n",
    "\n",
    "materiau=widgets.RadioButtons(\n",
    "    options=['Terre cuite','Silico-calcaire','Béton de granulats courants','Béton cellulaire autoclave', 'Pierre reconstituee','Pierre naturelle dimensionnee'],\n",
    "    value='Terre cuite',\n",
    "    description='Matériau :',\n",
    "    disabled=False,\n",
    ")\n",
    "display(materiau)\n"
   ]
  },
  {
   "cell_type": "markdown",
   "id": "61cafada",
   "metadata": {},
   "source": [
    "#### Poids volumique [kN/m3]"
   ]
  },
  {
   "cell_type": "code",
   "execution_count": 2,
   "id": "047a60bd",
   "metadata": {},
   "outputs": [
    {
     "data": {
      "application/vnd.jupyter.widget-view+json": {
       "model_id": "53e39d6cf04c43f49764d597f2aa40b0",
       "version_major": 2,
       "version_minor": 0
      },
      "text/plain": [
       "FloatText(value=0.0, description='$$\\\\gamma :$$')"
      ]
     },
     "metadata": {},
     "output_type": "display_data"
    }
   ],
   "source": [
    "pv=widgets.FloatText(\n",
    "    value=0,\n",
    "    description='$$\\gamma :$$',\n",
    "    disabled=False\n",
    ")\n",
    "display(pv)"
   ]
  },
  {
   "cell_type": "markdown",
   "id": "c4a0aed0",
   "metadata": {},
   "source": [
    "#### Type depose du mur"
   ]
  },
  {
   "cell_type": "code",
   "execution_count": 3,
   "id": "84c92f08",
   "metadata": {
    "scrolled": true
   },
   "outputs": [
    {
     "data": {
      "application/vnd.jupyter.widget-view+json": {
       "model_id": "ca7586ac289847f6afe9a3c4cf556b47",
       "version_major": 2,
       "version_minor": 0
      },
      "text/plain": [
       "Dropdown(description='Montage :', options=('au mortier courant ou au mortier allégé (joints épais)', 'à joints…"
      ]
     },
     "metadata": {},
     "output_type": "display_data"
    }
   ],
   "source": [
    "montage=widgets.Dropdown(\n",
    "    options=['au mortier courant ou au mortier allégé (joints épais)','à joints minces de 1 à 3 mm','à joints minces de 1 à 3 mm (éléments de terre cuite, groupe 2 et 3'],\n",
    "    value='au mortier courant ou au mortier allégé (joints épais)',\n",
    "    description='Montage :',\n",
    "    disabled=False,\n",
    ")\n",
    "display(montage)"
   ]
  },
  {
   "cell_type": "markdown",
   "id": "db888d5b",
   "metadata": {},
   "source": [
    "#### Résistance moyenne normalisée de l'élément fb [Mpa] "
   ]
  },
  {
   "cell_type": "code",
   "execution_count": 4,
   "id": "b3aedc57",
   "metadata": {},
   "outputs": [
    {
     "data": {
      "application/vnd.jupyter.widget-view+json": {
       "model_id": "f1f0820426014986bc317cbc59f117df",
       "version_major": 2,
       "version_minor": 0
      },
      "text/plain": [
       "FloatSlider(value=20.0, continuous_update=False, description='$$f_{b}:$$', max=75.0, readout_format='.1f', ste…"
      ]
     },
     "metadata": {},
     "output_type": "display_data"
    }
   ],
   "source": [
    "if montage.value=='au mortier courant ou au mortier allégé (joints épais)':\n",
    "    fb=widgets.FloatSlider(\n",
    "        value=20,\n",
    "        min=0,\n",
    "        max=75.0,\n",
    "        step=1,\n",
    "        description='$$f_{b}:$$',\n",
    "        disabled=False,\n",
    "        continuous_update=False,\n",
    "        orientation='horizontal',\n",
    "        readout=True,\n",
    "        readout_format='.1f',\n",
    "    )\n",
    "else:\n",
    "    fb=widgets.FloatSlider(\n",
    "        value=20,\n",
    "        min=0,\n",
    "        max=50.0,\n",
    "        step=1,\n",
    "        description='$$f_{b}:$$',\n",
    "        disabled=False,\n",
    "        continuous_update=False,\n",
    "        orientation='horizontal',\n",
    "        readout=True,\n",
    "        readout_format='.1f',\n",
    "    )\n",
    "\n",
    "display(fb)"
   ]
  },
  {
   "cell_type": "markdown",
   "id": "23a297df",
   "metadata": {},
   "source": [
    "#### Résistance à la compression du mortier de montage fm [Mpa]"
   ]
  },
  {
   "cell_type": "code",
   "execution_count": 5,
   "id": "75dc968b",
   "metadata": {},
   "outputs": [
    {
     "data": {
      "application/vnd.jupyter.widget-view+json": {
       "model_id": "2c4e548fa5e84d518e194ce52f2318b0",
       "version_major": 2,
       "version_minor": 0
      },
      "text/plain": [
       "FloatSlider(value=5.0, continuous_update=False, description='$$f_{m}:$$', max=20.0, readout_format='.1f', step…"
      ]
     },
     "metadata": {},
     "output_type": "display_data"
    }
   ],
   "source": [
    "if montage.value=='au mortier courant ou au mortier allégé (joints épais)':\n",
    "    fm=widgets.FloatSlider(\n",
    "        value=5,\n",
    "        min=0,\n",
    "        max=20.0,\n",
    "        step=1,\n",
    "        description='$$f_{m}:$$',\n",
    "        disabled=False,\n",
    "        continuous_update=False,\n",
    "        orientation='horizontal',\n",
    "        readout=True,\n",
    "        readout_format='.1f',\n",
    "    )\n",
    "else:\n",
    "    fm=widgets.FloatSlider(\n",
    "        value=5,\n",
    "        min=0,\n",
    "        max=50.0,\n",
    "        step=1,\n",
    "        description='$$f_{m}:$$',\n",
    "        disabled=False,\n",
    "        continuous_update=False,\n",
    "        orientation='horizontal',\n",
    "        readout=True,\n",
    "        readout_format='.1f',\n",
    "    )\n",
    "\n",
    "display(fm)"
   ]
  },
  {
   "cell_type": "markdown",
   "id": "0f71c89e",
   "metadata": {},
   "source": [
    "**Résistance caractéristique à la flexion [MPa]**"
   ]
  },
  {
   "cell_type": "code",
   "execution_count": 89,
   "id": "0b2bcb6d",
   "metadata": {},
   "outputs": [
    {
     "data": {
      "application/vnd.jupyter.widget-view+json": {
       "model_id": "88e99430f42a42c9bca5ac02ad076b2a",
       "version_major": 2,
       "version_minor": 0
      },
      "text/plain": [
       "Image(value=b'\\x89PNG\\r\\n\\x1a\\n\\x00\\x00\\x00\\rIHDR\\x00\\x00\\x01\\xf1\\x00\\x00\\x01\\xe3\\x08\\x06\\x00\\x00\\x003,&\\xed\\x…"
      ]
     },
     "metadata": {},
     "output_type": "display_data"
    }
   ],
   "source": [
    "file = open(\"Images/Fxk_1.png\", \"rb\")\n",
    "image = file.read()\n",
    "widgets.Image(\n",
    "    value=image,\n",
    "    format='png',\n",
    "    width=500,\n",
    "    height=500,\n",
    ")"
   ]
  },
  {
   "cell_type": "code",
   "execution_count": 99,
   "id": "02d9af6f",
   "metadata": {},
   "outputs": [
    {
     "data": {
      "application/vnd.jupyter.widget-view+json": {
       "model_id": "d9b138c2d2f5495d9064f05c09bab87b",
       "version_major": 2,
       "version_minor": 0
      },
      "text/plain": [
       "Dropdown(description='$$f_{xk1}:$$', index=2, options=(0.1, 0.15, 0.2), value=0.2)"
      ]
     },
     "metadata": {},
     "output_type": "display_data"
    }
   ],
   "source": [
    "fxk1=widgets.Dropdown(\n",
    "    options=[0.10,0.15,0.20],\n",
    "    value=0.20,\n",
    "    description='$$f_{xk1}:$$',\n",
    "    disabled=False,\n",
    ")\n",
    "display(fxk1)"
   ]
  },
  {
   "cell_type": "code",
   "execution_count": 90,
   "id": "3baa5fd0",
   "metadata": {},
   "outputs": [
    {
     "data": {
      "application/vnd.jupyter.widget-view+json": {
       "model_id": "a435da5efc6f4a74b4b37266c8c128b1",
       "version_major": 2,
       "version_minor": 0
      },
      "text/plain": [
       "Image(value=b'\\x89PNG\\r\\n\\x1a\\n\\x00\\x00\\x00\\rIHDR\\x00\\x00\\x01\\xef\\x00\\x00\\x01\\x11\\x08\\x06\\x00\\x00\\x00R\\x11/\\xa…"
      ]
     },
     "metadata": {},
     "output_type": "display_data"
    }
   ],
   "source": [
    "file = open(\"Images/Fxk_2.png\", \"rb\")\n",
    "image = file.read()\n",
    "widgets.Image(\n",
    "    value=image,\n",
    "    format='png',\n",
    "    width=500,\n",
    "    height=500,\n",
    ")"
   ]
  },
  {
   "cell_type": "code",
   "execution_count": 100,
   "id": "25c0d03d",
   "metadata": {},
   "outputs": [
    {
     "data": {
      "application/vnd.jupyter.widget-view+json": {
       "model_id": "e308a944eda34c0caf677e619e55c777",
       "version_major": 2,
       "version_minor": 0
      },
      "text/plain": [
       "Dropdown(description='$$f_{xk2}:$$', index=2, options=(0.1, 0.15, 0.2, 0.3, 0.4), value=0.2)"
      ]
     },
     "metadata": {},
     "output_type": "display_data"
    }
   ],
   "source": [
    "fxk2=widgets.Dropdown(\n",
    "    options=[0.10,0.15,0.20,0.30,0.40],\n",
    "    value=0.20,\n",
    "    description='$$f_{xk2}:$$',\n",
    "    disabled=False,\n",
    ")\n",
    "display(fxk2)"
   ]
  },
  {
   "cell_type": "markdown",
   "id": "7c713c14",
   "metadata": {},
   "source": [
    "#### Coefficient K"
   ]
  },
  {
   "cell_type": "code",
   "execution_count": 6,
   "id": "7441e183",
   "metadata": {
    "scrolled": false
   },
   "outputs": [
    {
     "data": {
      "application/vnd.jupyter.widget-view+json": {
       "model_id": "44fadeca4166428490f76523e548fcd4",
       "version_major": 2,
       "version_minor": 0
      },
      "text/plain": [
       "Image(value=b'\\x89PNG\\r\\n\\x1a\\n\\x00\\x00\\x00\\rIHDR\\x00\\x00\\x02\\xa0\\x00\\x00\\x02\\x1d\\x08\\x06\\x00\\x00\\x00\\xe2h\\xcf…"
      ]
     },
     "metadata": {},
     "output_type": "display_data"
    }
   ],
   "source": [
    "file = open(\"Images/Coeff_K.png\", \"rb\")\n",
    "image = file.read()\n",
    "widgets.Image(\n",
    "    value=image,\n",
    "    format='png',\n",
    "    width=500,\n",
    "    height=500,\n",
    ")"
   ]
  },
  {
   "cell_type": "code",
   "execution_count": 7,
   "id": "0f92e3c5",
   "metadata": {
    "scrolled": true
   },
   "outputs": [
    {
     "data": {
      "application/vnd.jupyter.widget-view+json": {
       "model_id": "dffd6c911e804b84afefe2447a0b7ce0",
       "version_major": 2,
       "version_minor": 0
      },
      "text/plain": [
       "Dropdown(description='$$k:$$', options=(0.2, 0.25, 0.3, 0.35, 0.4, 0.45, 0.5, 0.55, 0.6, 0.65, 0.7, 0.75, 0.8)…"
      ]
     },
     "metadata": {},
     "output_type": "display_data"
    }
   ],
   "source": [
    "K=widgets.Dropdown(\n",
    "    options=[0.20,0.25,0.30,0.35,0.40,0.45,0.50,0.55,0.60,0.65,0.70,0.75,0.80],\n",
    "    value=0.20,\n",
    "    description='$$k:$$',\n",
    "    disabled=False,\n",
    ")\n",
    "display(K)"
   ]
  },
  {
   "cell_type": "markdown",
   "id": "79f51111",
   "metadata": {},
   "source": [
    "#### Coefficient gamma"
   ]
  },
  {
   "cell_type": "code",
   "execution_count": 8,
   "id": "c297e9a9",
   "metadata": {
    "scrolled": false
   },
   "outputs": [
    {
     "data": {
      "application/vnd.jupyter.widget-view+json": {
       "model_id": "0bf927932805464983cdabf1f06316a6",
       "version_major": 2,
       "version_minor": 0
      },
      "text/plain": [
       "Image(value=b'\\x89PNG\\r\\n\\x1a\\n\\x00\\x00\\x00\\rIHDR\\x00\\x00\\x02k\\x00\\x00\\x01\\xa5\\x08\\x06\\x00\\x00\\x00\\xa5F\\xb1\\xb…"
      ]
     },
     "metadata": {},
     "output_type": "display_data"
    }
   ],
   "source": [
    "file = open(\"Images/Gamma_m.png\", \"rb\")\n",
    "image = file.read()\n",
    "widgets.Image(\n",
    "    value=image,\n",
    "    format='png',\n",
    "    width=500,\n",
    "    height=500,\n",
    ")"
   ]
  },
  {
   "cell_type": "code",
   "execution_count": 108,
   "id": "eb9a1b73",
   "metadata": {},
   "outputs": [
    {
     "data": {
      "application/vnd.jupyter.widget-view+json": {
       "model_id": "b6e6508784b04fc69dcdb8cba3592d6e",
       "version_major": 2,
       "version_minor": 0
      },
      "text/plain": [
       "Dropdown(description='$$\\\\gamma_{m}:$$', index=1, options=(1.15, 1.5, 1.7, 2.0, 2.2, 2.3, 2.5, 2.7, 2.8, 3.3),…"
      ]
     },
     "metadata": {},
     "output_type": "display_data"
    }
   ],
   "source": [
    "gamma=widgets.Dropdown(\n",
    "    options=[1.15,1.5,1.7,2.0,2.2,2.3,2.5,2.7,2.8,3.3],\n",
    "    value=1.5,\n",
    "    description='$$\\gamma_{m}:$$',\n",
    "    disabled=False,\n",
    ")\n",
    "display(gamma)\n",
    "\n",
    "gamma=gamma.value"
   ]
  },
  {
   "cell_type": "markdown",
   "id": "67ac88b0",
   "metadata": {},
   "source": [
    "#### Coefficient de fluage"
   ]
  },
  {
   "cell_type": "code",
   "execution_count": 10,
   "id": "8f174035",
   "metadata": {},
   "outputs": [
    {
     "data": {
      "application/vnd.jupyter.widget-view+json": {
       "model_id": "9c2e1352ba5948b4aba3b3647bbc5c7f",
       "version_major": 2,
       "version_minor": 0
      },
      "text/plain": [
       "Image(value=b'\\x89PNG\\r\\n\\x1a\\n\\x00\\x00\\x00\\rIHDR\\x00\\x00\\x02~\\x00\\x00\\x01\\xfc\\x08\\x06\\x00\\x00\\x00O@\\xa2.\\x00\\…"
      ]
     },
     "metadata": {},
     "output_type": "display_data"
    }
   ],
   "source": [
    "file = open(\"Images/Coeff_fluage.png\", \"rb\")\n",
    "image = file.read()\n",
    "widgets.Image(\n",
    "    value=image,\n",
    "    format='png',\n",
    "    width=500,\n",
    "    height=500,\n",
    ")"
   ]
  },
  {
   "cell_type": "code",
   "execution_count": 11,
   "id": "6016d5c4",
   "metadata": {},
   "outputs": [
    {
     "data": {
      "application/vnd.jupyter.widget-view+json": {
       "model_id": "fa6bd8871af14b23bad12546655fdd73",
       "version_major": 2,
       "version_minor": 0
      },
      "text/plain": [
       "Dropdown(description='$$\\\\phi_{\\\\infty}:$$', options=(0, 1, 1.5, 2.0), value=0)"
      ]
     },
     "metadata": {},
     "output_type": "display_data"
    }
   ],
   "source": [
    "phif=widgets.Dropdown(\n",
    "    options=[0,1,1.5,2.0],\n",
    "    value=0,\n",
    "    description='$$\\phi_{\\infty}:$$',\n",
    "    disabled=False,\n",
    ")\n",
    "display(phif)"
   ]
  },
  {
   "cell_type": "markdown",
   "id": "2de5be6d",
   "metadata": {},
   "source": [
    "#### Résistance à la compression caractéristique fk et de calcul fd [Mpa]"
   ]
  },
  {
   "cell_type": "code",
   "execution_count": 115,
   "id": "5d9dfd4e",
   "metadata": {},
   "outputs": [],
   "source": [
    "if montage.value=='au mortier courant ou au mortier allégé (joints épais)':\n",
    "    fk=K.value*((fb.value)**0.7)*((fm.value)**0.3)\n",
    "elif montage.value=='à joints minces de 1 à 3 mm':\n",
    "    fk=K.value*((fb.value)**0.85)\n",
    "else : \n",
    "    fk=K.value*((fb.value)**0.7)\n",
    "    \n",
    "fk=round(fk,1)\n",
    "fd=fk/gamma\n",
    "fd=round(fd,1)"
   ]
  },
  {
   "cell_type": "markdown",
   "id": "543416d0",
   "metadata": {
    "variables": {
     "fd": "1.7",
     "fk": "2.6"
    }
   },
   "source": [
    "***Fk = {{fk}} MPa***\n",
    "\n",
    "***Fd = {{fd}} MPa***"
   ]
  },
  {
   "cell_type": "markdown",
   "id": "803683b9",
   "metadata": {},
   "source": [
    "#### Résistances à la flexion de calcul fxd [Mpa]"
   ]
  },
  {
   "cell_type": "code",
   "execution_count": 116,
   "id": "dd289094",
   "metadata": {},
   "outputs": [],
   "source": [
    "fxd1=round(fxk1.value/gamma,3)\n",
    "fxd2=round(fxk2.value/gamma,3)"
   ]
  },
  {
   "cell_type": "markdown",
   "id": "c951f3cb",
   "metadata": {
    "variables": {
     "fxd1": "0.1",
     "fxd2": "0.133"
    }
   },
   "source": [
    "***Fxd1 = {{fxd1}} MPa***\n",
    "\n",
    "***Fxd2 = {{fxd2}} MPa***"
   ]
  },
  {
   "cell_type": "markdown",
   "id": "24e7c712",
   "metadata": {},
   "source": [
    "### 1.3. Chargements"
   ]
  },
  {
   "cell_type": "markdown",
   "id": "6cb7707b",
   "metadata": {},
   "source": [
    "#### Charges en tête pour cas de charge maximal (G déf.) [kN] : "
   ]
  },
  {
   "cell_type": "markdown",
   "id": "04e0e072",
   "metadata": {},
   "source": [
    "*Charge due au mur supérieur :*"
   ]
  },
  {
   "cell_type": "code",
   "execution_count": 13,
   "id": "aff5416e",
   "metadata": {},
   "outputs": [
    {
     "data": {
      "application/vnd.jupyter.widget-view+json": {
       "model_id": "31fd32de90e74b3e90c2489fc19dae88",
       "version_major": 2,
       "version_minor": 0
      },
      "text/plain": [
       "FloatText(value=0.0, description='$$N_{edu,h(max)}:$$')"
      ]
     },
     "metadata": {},
     "output_type": "display_data"
    }
   ],
   "source": [
    "Neduhmax=widgets.FloatText(\n",
    "    value=0,\n",
    "    description='$$N_{edu,h(max)}:$$',\n",
    "    disabled=False\n",
    ")\n",
    "display(Neduhmax)"
   ]
  },
  {
   "cell_type": "markdown",
   "id": "519f4fef",
   "metadata": {},
   "source": [
    "*Charge due au plancher :*"
   ]
  },
  {
   "cell_type": "code",
   "execution_count": 14,
   "id": "c10fe437",
   "metadata": {},
   "outputs": [
    {
     "data": {
      "application/vnd.jupyter.widget-view+json": {
       "model_id": "7af031f7eee64bc1bd6fd4d650ee35c6",
       "version_major": 2,
       "version_minor": 0
      },
      "text/plain": [
       "FloatText(value=0.0, description='$$N_{ed,f(max)}:$$')"
      ]
     },
     "metadata": {},
     "output_type": "display_data"
    }
   ],
   "source": [
    "Nedfmax=widgets.FloatText(\n",
    "    value=0,\n",
    "    description='$$N_{ed,f(max)}:$$',\n",
    "    disabled=False\n",
    ")\n",
    "display(Nedfmax)"
   ]
  },
  {
   "cell_type": "markdown",
   "id": "abeaf924",
   "metadata": {},
   "source": [
    "#### Charges en tête pour cas de charge minimal (G fav.) [kN] : "
   ]
  },
  {
   "cell_type": "markdown",
   "id": "898b75bd",
   "metadata": {},
   "source": [
    "*Charge due au mur supérieur :*"
   ]
  },
  {
   "cell_type": "code",
   "execution_count": 15,
   "id": "406950b7",
   "metadata": {},
   "outputs": [
    {
     "data": {
      "application/vnd.jupyter.widget-view+json": {
       "model_id": "0a4190c85a054366b3b5877e17fe06d1",
       "version_major": 2,
       "version_minor": 0
      },
      "text/plain": [
       "FloatText(value=0.0, description='$$N_{edu,h(min)}:$$')"
      ]
     },
     "metadata": {},
     "output_type": "display_data"
    }
   ],
   "source": [
    "Neduhmin=widgets.FloatText(\n",
    "    value=0,\n",
    "    description='$$N_{edu,h(min)}:$$',\n",
    "    disabled=False\n",
    ")\n",
    "display(Neduhmin)"
   ]
  },
  {
   "cell_type": "markdown",
   "id": "a0d89e7b",
   "metadata": {},
   "source": [
    "*Charge due au plancher :*"
   ]
  },
  {
   "cell_type": "code",
   "execution_count": 16,
   "id": "f077b46b",
   "metadata": {},
   "outputs": [
    {
     "data": {
      "application/vnd.jupyter.widget-view+json": {
       "model_id": "219978a0308942c98e986db5d2609910",
       "version_major": 2,
       "version_minor": 0
      },
      "text/plain": [
       "FloatText(value=0.0, description='$$N_{ed,f(min)}:$$')"
      ]
     },
     "metadata": {},
     "output_type": "display_data"
    }
   ],
   "source": [
    "Nedfmin=widgets.FloatText(\n",
    "    value=0,\n",
    "    description='$$N_{ed,f(min)}:$$',\n",
    "    disabled=False\n",
    ")\n",
    "display(Nedfmin)"
   ]
  },
  {
   "cell_type": "markdown",
   "id": "1d365fc0",
   "metadata": {},
   "source": [
    "#### Charge du vent w [kN/m2] :"
   ]
  },
  {
   "cell_type": "code",
   "execution_count": 17,
   "id": "0b5866f0",
   "metadata": {},
   "outputs": [
    {
     "data": {
      "application/vnd.jupyter.widget-view+json": {
       "model_id": "7a65178a251c4b00bd64990ad89409d4",
       "version_major": 2,
       "version_minor": 0
      },
      "text/plain": [
       "FloatText(value=0.0, description='$$w :$$')"
      ]
     },
     "metadata": {},
     "output_type": "display_data"
    }
   ],
   "source": [
    "w=widgets.FloatText(\n",
    "    value=0,\n",
    "    description='$$w :$$',\n",
    "    disabled=False\n",
    ")\n",
    "display(w)"
   ]
  },
  {
   "cell_type": "markdown",
   "id": "6e4da623",
   "metadata": {},
   "source": [
    "### 1.4. Dimensions (longueur l; épaisseur t; hauteur h) [m]"
   ]
  },
  {
   "cell_type": "code",
   "execution_count": 18,
   "id": "941bff0f",
   "metadata": {},
   "outputs": [
    {
     "data": {
      "application/vnd.jupyter.widget-view+json": {
       "model_id": "29284f0650a14e89accce8144b6752e3",
       "version_major": 2,
       "version_minor": 0
      },
      "text/plain": [
       "FloatText(value=0.0, description='$$l :$$')"
      ]
     },
     "metadata": {},
     "output_type": "display_data"
    }
   ],
   "source": [
    "l=widgets.FloatText(\n",
    "    value=0,\n",
    "    description='$$l :$$',\n",
    "    disabled=False\n",
    ")\n",
    "display(l)"
   ]
  },
  {
   "cell_type": "code",
   "execution_count": 19,
   "id": "48922e3e",
   "metadata": {},
   "outputs": [
    {
     "data": {
      "application/vnd.jupyter.widget-view+json": {
       "model_id": "cbb31db2285640f7829b0cc7883e3a7a",
       "version_major": 2,
       "version_minor": 0
      },
      "text/plain": [
       "FloatText(value=0.0, description='$$t :$$')"
      ]
     },
     "metadata": {},
     "output_type": "display_data"
    }
   ],
   "source": [
    "t=widgets.FloatText(\n",
    "    value=0,\n",
    "    description='$$t :$$',\n",
    "    disabled=False\n",
    ")\n",
    "display(t)"
   ]
  },
  {
   "cell_type": "code",
   "execution_count": 20,
   "id": "c12bee4d",
   "metadata": {},
   "outputs": [
    {
     "data": {
      "application/vnd.jupyter.widget-view+json": {
       "model_id": "da3f839cae6043ddaf073c4fcbd8c0cd",
       "version_major": 2,
       "version_minor": 0
      },
      "text/plain": [
       "FloatSlider(value=2.0, continuous_update=False, description='$$h:$$', max=10.0, readout_format='.1f')"
      ]
     },
     "metadata": {},
     "output_type": "display_data"
    }
   ],
   "source": [
    "h=widgets.FloatSlider(\n",
    "    value=2,\n",
    "    min=0,\n",
    "    max=10.0,\n",
    "    step=0.1,\n",
    "    description='$$h:$$',\n",
    "    disabled=False,\n",
    "    continuous_update=False,\n",
    "    orientation='horizontal',\n",
    "    readout=True,\n",
    "    readout_format='.1f',\n",
    ")\n",
    "display(h)"
   ]
  },
  {
   "cell_type": "code",
   "execution_count": 21,
   "id": "abf49f7f",
   "metadata": {},
   "outputs": [
    {
     "data": {
      "application/vnd.jupyter.widget-view+json": {
       "model_id": "82bdcdf4fa6645bb9f937e78533aacea",
       "version_major": 2,
       "version_minor": 0
      },
      "text/plain": [
       "FloatText(value=0.0, description='$$a :$$(cf. 2.1)')"
      ]
     },
     "metadata": {},
     "output_type": "display_data"
    }
   ],
   "source": [
    "a=widgets.FloatText(\n",
    "    value=0,\n",
    "    description='$$a :$$(cf. 2.1)',\n",
    "    disabled=False\n",
    ")\n",
    "display(a)"
   ]
  },
  {
   "cell_type": "markdown",
   "id": "d1b8f47d",
   "metadata": {},
   "source": [
    "#### Calcul de hef"
   ]
  },
  {
   "cell_type": "code",
   "execution_count": 32,
   "id": "a94b4da7",
   "metadata": {},
   "outputs": [
    {
     "data": {
      "application/vnd.jupyter.widget-view+json": {
       "model_id": "1c3a1d9462324f0f9875c1d054c4693b",
       "version_major": 2,
       "version_minor": 0
      },
      "text/plain": [
       "Image(value=b'\\x89PNG\\r\\n\\x1a\\n\\x00\\x00\\x00\\rIHDR\\x00\\x00\\x02]\\x00\\x00\\x01\\xb5\\x08\\x02\\x00\\x00\\x00L\\x1f\\xd6\\x0…"
      ]
     },
     "metadata": {},
     "output_type": "display_data"
    }
   ],
   "source": [
    "file = open(\"Images/Hef.png\", \"rb\")\n",
    "image = file.read()\n",
    "widgets.Image(\n",
    "    value=image,\n",
    "    format='png',\n",
    "    width=500,\n",
    "    height=500,\n",
    ")"
   ]
  },
  {
   "cell_type": "code",
   "execution_count": 23,
   "id": "4c886029",
   "metadata": {},
   "outputs": [
    {
     "data": {
      "application/vnd.jupyter.widget-view+json": {
       "model_id": "7796475557b645be845cfc4b8fd35641",
       "version_major": 2,
       "version_minor": 0
      },
      "text/plain": [
       "RadioButtons(description='Disposition :', options=('Cas 1', 'Cas 2'), value='Cas 1')"
      ]
     },
     "metadata": {},
     "output_type": "display_data"
    }
   ],
   "source": [
    "disp=widgets.RadioButtons(\n",
    "    options=['Cas 1','Cas 2'],\n",
    "    value='Cas 1',\n",
    "    description='Disposition :',\n",
    "    disabled=False,\n",
    ")\n",
    "display(disp)\n"
   ]
  },
  {
   "cell_type": "code",
   "execution_count": 24,
   "id": "1c52e056",
   "metadata": {},
   "outputs": [
    {
     "data": {
      "application/vnd.jupyter.widget-view+json": {
       "model_id": "460781af39fb49018c69567d7c9050ad",
       "version_major": 2,
       "version_minor": 0
      },
      "text/plain": [
       "RadioButtons(description='Laison :', options=('A', 'B', 'C'), value='A')"
      ]
     },
     "metadata": {},
     "output_type": "display_data"
    }
   ],
   "source": [
    "liaison=widgets.RadioButtons(\n",
    "    options=['A','B','C'],\n",
    "    value='A',\n",
    "    description='Laison :',\n",
    "    disabled=False,\n",
    ")\n",
    "display(liaison)\n"
   ]
  },
  {
   "cell_type": "code",
   "execution_count": 135,
   "id": "4315da6f",
   "metadata": {},
   "outputs": [],
   "source": [
    "hef=1\n",
    "\n",
    "hl=h.value/l.value\n",
    "\n",
    "if disp.value=='Cas 1':\n",
    "    \n",
    "    if liaison.value=='A':\n",
    "        hef=h.value\n",
    "    elif liaison.value=='B':\n",
    "        hef=h.value*min(1.5*hl,1)\n",
    "    else : \n",
    "        hef=h.value*min((l.value/(h.value*2)),1)\n",
    "\n",
    "else : \n",
    "    \n",
    "    if liaison.value=='A':\n",
    "        hef=0.75*h.value\n",
    "    elif liaison.value=='B':\n",
    "        hef=h.value*min(1.5*hl,0.75)\n",
    "    else : \n",
    "        hef=h.value*min((l.value/(h.value*2)),0.75)\n",
    "        \n",
    "hef=round(hef,1)"
   ]
  },
  {
   "cell_type": "markdown",
   "id": "bb07234b",
   "metadata": {
    "variables": {
     "hef": "1.9"
    }
   },
   "source": [
    "***Hef = {{hef}} m***"
   ]
  },
  {
   "cell_type": "markdown",
   "id": "0c8cf0d1",
   "metadata": {},
   "source": [
    "## 2. Vérification en tête de mur "
   ]
  },
  {
   "cell_type": "markdown",
   "id": "4c4c0366",
   "metadata": {},
   "source": [
    "### 2.1. Caclul de la charge Nid,h et du moment Mid,h en tête de mur\n",
    "\n",
    "\n",
    " \n",
    "$$N_{id,h}=N_{id,h}+N_{ed,f}$$\n",
    "\n",
    "$$M_{id,h}=N_{edf}*\\frac{a}{2}+N_{edu}*\\frac{t+a}{4}$$"
   ]
  },
  {
   "cell_type": "code",
   "execution_count": 136,
   "id": "335cee38",
   "metadata": {
    "scrolled": true
   },
   "outputs": [
    {
     "data": {
      "application/vnd.jupyter.widget-view+json": {
       "model_id": "c0b2068535384e319aa3f7c0c47d6580",
       "version_major": 2,
       "version_minor": 0
      },
      "text/plain": [
       "Image(value=b'\\x89PNG\\r\\n\\x1a\\n\\x00\\x00\\x00\\rIHDR\\x00\\x00\\x02X\\x00\\x00\\x02]\\x08\\x06\\x00\\x00\\x00\\xee\\xab\\to\\x00…"
      ]
     },
     "metadata": {},
     "output_type": "display_data"
    }
   ],
   "source": [
    "file = open(\"Images/Verif_tete.png\", \"rb\")\n",
    "image = file.read()\n",
    "widgets.Image(\n",
    "    value=image,\n",
    "    format='png',\n",
    "    width=300,\n",
    "    height=300,\n",
    ")"
   ]
  },
  {
   "cell_type": "code",
   "execution_count": 137,
   "id": "98323576",
   "metadata": {},
   "outputs": [],
   "source": [
    "Nidhmax=Neduhmax.value+Nedfmax.value\n",
    "Nidhmin=Neduhmin.value+Nedfmin.value\n",
    "Midhmax=Nedfmax.value*(a.value/2)+Neduhmax.value*((t.value+a.value)/4)\n",
    "Midhmin=Nedfmin.value*(a.value/2)+Neduhmin.value*((t.value+a.value)/4)"
   ]
  },
  {
   "cell_type": "markdown",
   "id": "edac9b99",
   "metadata": {
    "variables": {
     "Nedfmax.value": "11.7",
     "Nedfmin.value": "8.25",
     "Neduhmax.value": "0.0",
     "Neduhmin.value": "0.0",
     "Nidhmax": "11.7",
     "Nidhmin": "8.25",
     "round(Midhmax,3)": "0.292",
     "round(Midhmax/Nidhmax,3)": "0.025",
     "round(Midhmin,3)": "0.206",
     "round(Midhmin/Nidhmin,3)": "0.025"
    }
   },
   "source": [
    "|  | Cas de charge maximal (G déf.) | Cas de charge minimal (G fav.) |\n",
    "|----------|----------|----------|\n",
    "|$$N_{edu,h}[kN]$$ | {{Neduhmax.value}} | {{Neduhmin.value}} |\n",
    "|$$N_{edf}[kN]$$ | {{Nedfmax.value}} | {{Nedfmin.value}} |\n",
    "|$$N_{id,h}[kN]$$| {{Nidhmax}} | {{Nidhmin}} |\n",
    "|$$M_{id,h}[kN.m]$$| {{round(Midhmax,3)}} | {{round(Midhmin,3)}} |\n",
    "|$$M_{id,h}/ N_{id,h}$$| {{round(Midhmax/Nidhmax,3)}} | {{round(Midhmin/Nidhmin,3)}} |"
   ]
  },
  {
   "cell_type": "markdown",
   "id": "d97fc548",
   "metadata": {},
   "source": [
    "### 2.2.Excentricité ei,h en tête de mur\n",
    "\n",
    "\n",
    " \n",
    "$$e_{i,h}=Max(\\frac{M_{id,h}}{N_{id,h}}+e_{init}+e_{he} ; 0,05*t)$$\n",
    "\n",
    "avec :$$e_{init}=\\frac{h_{ef}}{450}$$\n"
   ]
  },
  {
   "cell_type": "code",
   "execution_count": 138,
   "id": "8cd07f33",
   "metadata": {},
   "outputs": [],
   "source": [
    "eihmax=max((Midhmax/Nidhmax)+(hef/450),0.05*t.value)\n",
    "eihmax=round(eihmax,3)\n",
    "\n",
    "eihmin=max((Midhmin/Nidhmin)+(hef/450),0.05*t.value)\n",
    "eihmin=round(eihmin,3)"
   ]
  },
  {
   "cell_type": "markdown",
   "id": "fc5faca9",
   "metadata": {},
   "source": [
    "### 2.3. Coefficient de réduction phi,h en tête de mur\n",
    "\n",
    "\n",
    " \n",
    "$$\\phi_{i,h}=1-2 *\\frac{e_{i,h}}{t}$$"
   ]
  },
  {
   "cell_type": "code",
   "execution_count": 139,
   "id": "f6e4807a",
   "metadata": {},
   "outputs": [],
   "source": [
    "phimax=1-2*(eihmax/t.value)\n",
    "phimax=round(phimax,4)\n",
    "\n",
    "phimin=1-2*(eihmin/t.value)\n",
    "phimin=round(phimin,4)"
   ]
  },
  {
   "cell_type": "markdown",
   "id": "06281ea3",
   "metadata": {},
   "source": [
    "### 2.4. Résistance de la maçonnerie en partie supérieure\n",
    "\n",
    "\n",
    " \n",
    "$$N_{Rd,h}=\\phi_{i,h} * l * t * f_{d}$$"
   ]
  },
  {
   "cell_type": "code",
   "execution_count": 140,
   "id": "79b0ec55",
   "metadata": {},
   "outputs": [],
   "source": [
    "nrdmax=phimax*l.value*1000*t.value*fd\n",
    "nrdmin=phimin*l.value*1000*t.value*fd\n",
    "\n",
    "nrdmax=round(nrdmax,1)\n",
    "nrdmin=round(nrdmin,1)\n",
    "\n",
    "\n",
    "if nrdmax>Nidhmax : \n",
    "    nnmax='OK'\n",
    "else : \n",
    "    nnmax='NOT ok'\n",
    "    \n",
    "if nrdmin>Nidhmin : \n",
    "    nnmin='OK'\n",
    "else : \n",
    "    nnmin='NOT ok'\n"
   ]
  },
  {
   "cell_type": "markdown",
   "id": "40194bb6",
   "metadata": {
    "variables": {
     "Nidhmax": "11.7",
     "Nidhmin": "8.25",
     "eihmax": "0.029",
     "eihmin": "0.029",
     "nnmax": "OK",
     "nnmin": "OK",
     "nrdmax": "241.4",
     "nrdmin": "241.4",
     "phimax": "0.71",
     "phimin": "0.71"
    }
   },
   "source": [
    "|  |Cas de charge maximal (G def.)|Cas de charge minimal (G fav.)|\n",
    "|------|----------|----------|\n",
    "| $$e_{i,h} [m]$$ | {{eihmax}} | {{eihmin}} |\n",
    "| $$\\phi_{i,h}$$ | {{phimax}} | {{phimin}} |\n",
    "| $$N_{id,h}[kN]$$ | {{Nidhmax}} | {{Nidhmin}} |\n",
    "| $$N_{Rd,h}[kN]$$ | {{nrdmax}} | {{nrdmin}} |\n",
    "| $$N_{Rd,h}>N_{id,h} $$ | {{nnmax}} | {{nnmin}} |"
   ]
  },
  {
   "cell_type": "markdown",
   "id": "711fa4db",
   "metadata": {},
   "source": [
    "## 3. Vérification en pied de mur"
   ]
  },
  {
   "cell_type": "markdown",
   "id": "e5a17e38",
   "metadata": {},
   "source": [
    "### 3.1. Caclul de la charge Nid,b et du moment Mid,b en pied de mur\n",
    "\n",
    "\n",
    " \n",
    "$$N_{id,b}=N_{id,h}+N_{ed,m}= N_{id,h}+\\gamma_{g}*G_{maçonnerie}$$\n",
    "\n",
    "$$M_{id,b}=N_{id,b}*\\frac{t-3*a}{4}$$\n",
    "\n",
    "Ned,m : poids du mur"
   ]
  },
  {
   "cell_type": "code",
   "execution_count": 141,
   "id": "19826631",
   "metadata": {},
   "outputs": [
    {
     "data": {
      "application/vnd.jupyter.widget-view+json": {
       "model_id": "3505feb1fef9466cbb1a2ec7fc58fbc4",
       "version_major": 2,
       "version_minor": 0
      },
      "text/plain": [
       "Image(value=b'\\x89PNG\\r\\n\\x1a\\n\\x00\\x00\\x00\\rIHDR\\x00\\x00\\x01\\xf6\\x00\\x00\\x01\\xa1\\x08\\x06\\x00\\x00\\x00\\x93`\\x96…"
      ]
     },
     "metadata": {},
     "output_type": "display_data"
    }
   ],
   "source": [
    "file = open(\"Images/Verif_pied.png\", \"rb\")\n",
    "image = file.read()\n",
    "widgets.Image(\n",
    "    value=image,\n",
    "    format='png',\n",
    "    width=300,\n",
    "    height=300,\n",
    ")"
   ]
  },
  {
   "cell_type": "code",
   "execution_count": 142,
   "id": "3fd4c31e",
   "metadata": {},
   "outputs": [],
   "source": [
    "nedmmax=1.35*pv.value*l.value*t.value*h.value\n",
    "nedmmin=0.9*pv.value*l.value*t.value*h.value\n",
    "\n",
    "nedmmax=round(nedmmax,2)\n",
    "nedmmin=round(nedmmin,2)\n",
    "\n",
    "Nidbmax=round(Nidhmax+nedmmax,3)\n",
    "Nidbmin=round(Nidhmin+nedmmin,3)\n",
    "\n",
    "Midbmax=round(Nidbmax*((t.value-3*a.value)/4),3)\n",
    "Midbmin=round(Nidbmin*((t.value-3*a.value)/4),3)\n",
    "\n",
    "emax=abs(Midbmax/Nidbmax)\n",
    "emin=abs(Midbmin/Nidbmin)\n",
    "\n",
    "emax=round(emax,4)\n",
    "emin=round(emin,4)"
   ]
  },
  {
   "cell_type": "markdown",
   "id": "d09f2281",
   "metadata": {
    "variables": {
     "Midbmax": "0.315",
     "Midbmin": "0.216",
     "Nidbmax": "25.2",
     "Nidbmin": "17.25",
     "emax": "0.0125",
     "emin": "0.0125",
     "nedmmax": "13.5",
     "nedmmin": "9.0"
    }
   },
   "source": [
    "|  |Cas de charge maximal (G def.)|Cas de charge minimal (G fav.)|\n",
    "|------|----------|----------|\n",
    "| $$N_{ed,m} [kN]$$ | {{nedmmax}} | {{nedmmin}} |\n",
    "| $$N_{i,db}[kN]$$ | {{Nidbmax}} | {{Nidbmin}} |\n",
    "| $$M_{id,b}[kN.m]$$ | {{Midbmax}} | {{Midbmin}} |\n",
    "| $$e=M_{id,h}/N_{id,h}[m]$$ | {{emax}} | {{emin}} |\n",
    "\n",
    "e : excentricité de la charge"
   ]
  },
  {
   "cell_type": "markdown",
   "id": "089f629a",
   "metadata": {},
   "source": [
    "### 3.2. Excentricité ei,b en pied\n",
    "\n",
    "\n",
    " \n",
    "$$e_{i,b}=max[\\frac{M_{id,b}}{N_{id,b}}+e_{init}+e_{he} ; 0,05*t]$$\n",
    "\n",
    "avec :$$e_{init}=\\frac{h_{ef}}{450}$$"
   ]
  },
  {
   "cell_type": "code",
   "execution_count": 143,
   "id": "a8b239e1",
   "metadata": {},
   "outputs": [],
   "source": [
    "eibmax=max((Midbmax/Nidbmax)+(hef/450),0.05*t.value)\n",
    "eibmax=round(eibmax,4)\n",
    "\n",
    "eibmin=max((Midbmin/Nidbmin)+(hef/450),0.05*t.value)\n",
    "eibmin=round(eibmin,4)"
   ]
  },
  {
   "cell_type": "markdown",
   "id": "f1d89939",
   "metadata": {},
   "source": [
    "### 3.3. Coefficient de réduction phi,b en pied\n",
    "\n",
    "\n",
    " \n",
    "$$\\phi_{i,b}=1-2 *\\frac{e_{i,b}}{t}$$"
   ]
  },
  {
   "cell_type": "code",
   "execution_count": 144,
   "id": "9e43ed2b",
   "metadata": {},
   "outputs": [],
   "source": [
    "phibmax=1-2*(eibmax/t.value)\n",
    "phibmax=round(phibmax,2)\n",
    "\n",
    "phibmin=1-2*(eibmin/t.value)\n",
    "phibmin=round(phibmin,2)"
   ]
  },
  {
   "cell_type": "markdown",
   "id": "28ae6131",
   "metadata": {},
   "source": [
    "### 3.4. Résistance de la maçonnerie en partie inférieure\n",
    "\n",
    "\n",
    " \n",
    "$$N_{Rd,b}=\\phi_{i,b} * l * t * f_{d}$$"
   ]
  },
  {
   "cell_type": "code",
   "execution_count": 145,
   "id": "a84ce204",
   "metadata": {},
   "outputs": [],
   "source": [
    "nrdbmax=phibmax*l.value*1000*t.value*fd\n",
    "nrdbmin=phibmin*l.value*1000*t.value*fd\n",
    "\n",
    "nrdbmax=round(nrdbmax,1)\n",
    "nrdbmin=round(nrdbmin,1)\n",
    "\n",
    "\n",
    "if nrdbmax>Nidbmax : \n",
    "    nnbmax='OK'\n",
    "else : \n",
    "    nnbmax='NOT ok'\n",
    "    \n",
    "if nrdbmin>Nidbmin : \n",
    "    nnbmin='OK'\n",
    "else : \n",
    "    nnbmin='NOT ok'\n"
   ]
  },
  {
   "cell_type": "markdown",
   "id": "cf62c173",
   "metadata": {
    "variables": {
     "Nidbmax": "25.2",
     "Nidbmin": "17.25",
     "eibmax": "0.0167",
     "eibmin": "0.0167",
     "nnbmax": "OK",
     "nnbmin": "OK",
     "nrdbmax": "282.2",
     "nrdbmin": "282.2",
     "phibmax": "0.83",
     "phibmin": "0.83"
    }
   },
   "source": [
    "|  |Cas de charge maximal (G def.)|Cas de charge minimal (G fav.)|\n",
    "|------|----------|----------|\n",
    "| $$e_{i,b}[m]$$ | {{eibmax}} | {{eibmin}} |\n",
    "| $$\\phi_{i,b}$$ | {{phibmax}} | {{phibmin}} |\n",
    "| $$N_{id,b}[kN]$$ | {{Nidbmax}} | {{Nidbmin}} |\n",
    "| $$N_{Rd,b}[kN]$$ | {{nrdbmax}} | {{nrdbmin}} |\n",
    "| $$N_{Rd,b}>N_{id,b} $$ | {{nnbmax}} | {{nnbmin}} |"
   ]
  },
  {
   "cell_type": "markdown",
   "id": "b63b4558",
   "metadata": {},
   "source": [
    "## 4. Vérification en partie médiane du mur"
   ]
  },
  {
   "cell_type": "markdown",
   "id": "d6fe3993",
   "metadata": {},
   "source": [
    "### 4.1. Caclul de la charge Nm,d en partie médiane\n",
    "\n",
    "\n",
    " \n",
    "$$N_{md}=N_{id,h}+\\frac{N_{ed,m}}{2}$$"
   ]
  },
  {
   "cell_type": "code",
   "execution_count": 146,
   "id": "d1d9983d",
   "metadata": {},
   "outputs": [
    {
     "data": {
      "application/vnd.jupyter.widget-view+json": {
       "model_id": "bd4c003db29346c59b41478ca185b3e0",
       "version_major": 2,
       "version_minor": 0
      },
      "text/plain": [
       "Image(value=b'\\x89PNG\\r\\n\\x1a\\n\\x00\\x00\\x00\\rIHDR\\x00\\x00\\x02+\\x00\\x00\\x02L\\x08\\x06\\x00\\x00\\x00;_\\xe6\\xca\\x00\\…"
      ]
     },
     "metadata": {},
     "output_type": "display_data"
    }
   ],
   "source": [
    "file = open(\"Images/Verif_mi_h.png\", \"rb\")\n",
    "image = file.read()\n",
    "widgets.Image(\n",
    "    value=image,\n",
    "    format='png',\n",
    "    width=300,\n",
    "    height=300,\n",
    ")"
   ]
  },
  {
   "cell_type": "code",
   "execution_count": 147,
   "id": "cf268568",
   "metadata": {},
   "outputs": [],
   "source": [
    "Nmdmmax=Nidhmax+nedmmax/2\n",
    "Nmdmmin=Nidhmin+nedmmin/2\n",
    "\n",
    "Nmdmmax=round(Nmdmmax,1)\n",
    "Nmdmmin=round(Nmdmmin,1)"
   ]
  },
  {
   "cell_type": "markdown",
   "id": "1345dadc",
   "metadata": {
    "variables": {
     "Nidhmax": "11.7",
     "Nidhmin": "8.25",
     "Nmdmmax": "18.4",
     "Nmdmmin": "12.8",
     "nedmmax/2": "6.75",
     "nedmmin/2": "4.5"
    }
   },
   "source": [
    "|  |Cas de charge maximal (G def.)|Cas de charge minimal (G fav.)|\n",
    "|------|----------|----------|\n",
    "| $$N_{id,h}[kN]$$ | {{Nidhmax}} | {{Nidhmin}} |\n",
    "| $$N_{ed,m}/2 [kN]$$ | {{nedmmax/2}} | {{nedmmin/2}} |\n",
    "| $$N_{md}[kN]$$ | {{Nmdmmax}} | {{Nmdmmin}} |\n"
   ]
  },
  {
   "cell_type": "markdown",
   "id": "06af6131",
   "metadata": {},
   "source": [
    "### 4.2. Excentricité à mi-hauteur emk\n",
    "\n",
    "\n",
    " \n",
    "$$e_{mk}=max[e_{m}+e_{k} ; 0,05 * t]$$"
   ]
  },
  {
   "cell_type": "markdown",
   "id": "b813fc53",
   "metadata": {},
   "source": [
    "#### Excentricité due aux charges\n",
    "\n",
    "$$e_{m}=\\frac{M_{md}}{N_{md}}+e_{hm}+e_{init}$$\n",
    "\n",
    "avec : $$M_{md}=\\frac{|M_{id,h}-M_{id,b}|}{2}$$\n",
    "\n",
    "#### Excentricité due au vent\n",
    "\n",
    "$$e_{hm}=\\frac{M_{Ed,h}}{N_{md}}$$\n",
    "\n",
    "avec : $$M_{Ed,h}=\\frac{\\gamma_{Qw}*\\psi_{0w}*w*h^{2}}{8}$$\n",
    "\n",
    "#### Excentricité due au fluage\n",
    "\n",
    "$$e_{k}=0.002*\\phi_{\\infty}*\\frac{h_{ef}}{t}*\\sqrt{t*e_{m}}$$\n",
    "\n",
    "avec : $$M_{Ed,h}=\\frac{\\gamma_{Qw}*\\psi_{0w}*w*h^{2}}{8}$$"
   ]
  },
  {
   "cell_type": "code",
   "execution_count": 148,
   "id": "e01e407d",
   "metadata": {},
   "outputs": [],
   "source": [
    "from math import *\n",
    "\n",
    "Medh=round((1.5*0.6*w.value*(h.value)**2)/8,2)\n",
    "\n",
    "Mmdmax=round((abs(Midhmax-Midbmax)/2),4)\n",
    "Mmdmin=round((abs(Midhmin-Midbmin)/2),4)\n",
    "\n",
    "ehmmax=round(Medh/Nmdmmax,4)\n",
    "ehmmin=round(Medh/Nmdmmin,4)\n",
    "\n",
    "emmax=round((Mmdmax/Nmdmmax)+ehmmax+(h.value/450),4)\n",
    "emmin=round((Mmdmin/Nmdmmin)+ehmmin+(h.value/450),4)\n",
    "\n",
    "ekmax=round(0.002*phif.value*(hef/t.value)*(t.value*abs(emmax))**(1/2),3)\n",
    "ekmin=round(0.002*phif.value*(hef/t.value)*(t.value*abs(emmin))**(1/2),3)\n",
    "\n",
    "emkmax=round(max(emmax+ekmax,0.05*t.value),3)\n",
    "emkmin=round(max(emmin+ekmin,0.05*t.value),3)\n"
   ]
  },
  {
   "cell_type": "markdown",
   "id": "16b07a29",
   "metadata": {
    "variables": {
     "Medh": "0.44",
     "Mmdmax": "0.0113",
     "Mmdmin": "0.0049",
     "ehmmax": "0.0239",
     "ehmmin": "0.0344",
     "ekmax": "0.002",
     "ekmin": "0.003",
     "emkmax": "0.032",
     "emkmin": "0.043",
     "emmax": "0.0301",
     "emmin": "0.0403"
    }
   },
   "source": [
    "|  |Cas de charge maximal (G def.)|Cas de charge minimal (G fav.)|\n",
    "|------|----------|----------|\n",
    "| $$M_{m,d}[kN.m]$$ | {{Mmdmax}} | {{Mmdmin}} |\n",
    "| $$M_{Ed,h}[kN.m]$$ | {{Medh}} | {{Medh}} |\n",
    "| $$e_{hm}[m]$$ | {{ehmmax}} | {{ehmmin}} |\n",
    "| $$e_{m}[m]$$ | {{emmax}} | {{emmin}} |\n",
    "| $$e_{k}[m]$$ | {{ekmax}} | {{ekmin}} |\n",
    "| $$e_{m,k}[m]$$ | {{emkmax}} | {{emkmin}} |"
   ]
  },
  {
   "cell_type": "markdown",
   "id": "a3049c74",
   "metadata": {},
   "source": [
    "### 4.3. Coefficient de réduction phi m en partie médiane \n",
    "\n",
    " \n",
    "$$\\phi_{m}=A*2,72^{\\frac{u^2}{2}}$$\n",
    "\n",
    "Avec : $$A=1-2*\\frac{e_{m,k}}{t}$$\n",
    "et : $$u=\\frac{h_{ef}-2*t}{23*t-37*e_{mk}}$$"
   ]
  },
  {
   "cell_type": "code",
   "execution_count": 149,
   "id": "58f866ac",
   "metadata": {},
   "outputs": [],
   "source": [
    "Amax=round(1-(2*(emkmax/t.value)),3)\n",
    "Amin=round(1-(2*(emkmin/t.value)),3)\n",
    "\n",
    "umax=round((hef-2*t.value)/(23*t.value-37*emkmax),3)\n",
    "umin=round((hef-2*t.value)/(23*t.value-37*emkmin),3)\n",
    "\n",
    "phimmax=round(Amax*(2.72**(umax**2)),3)\n",
    "phimmin=round(Amin*(2.72**(umin**2)),3)"
   ]
  },
  {
   "cell_type": "markdown",
   "id": "2d7fc1e3",
   "metadata": {
    "variables": {
     "Amax": "0.68",
     "Amin": "0.57",
     "phimmax": "0.825",
     "phimmin": "0.731",
     "umax": "0.439",
     "umin": "0.499"
    }
   },
   "source": [
    "|  |Cas de charge maximal (G def.)|Cas de charge minimal (G fav.)|\n",
    "|------|----------|----------|\n",
    "| $$A$$ | {{Amax}} | {{Amin}} |\n",
    "| $$u$$ | {{umax}} | {{umin}} |\n",
    "| $$\\phi_{m}$$ | {{phimmax}} | {{phimmin}} |"
   ]
  },
  {
   "cell_type": "markdown",
   "id": "d8966a0d",
   "metadata": {},
   "source": [
    "### 4.4. Résistance de la maçonnerie en partie médiane \n",
    "\n",
    "$$N_{Rd,m}=\\phi_{m} * l * t * f_{d}$$"
   ]
  },
  {
   "cell_type": "code",
   "execution_count": 150,
   "id": "568736d7",
   "metadata": {},
   "outputs": [],
   "source": [
    "Nrdmmax=round(phimmax*l.value*1000*t.value*fd,1)\n",
    "Nrdmmin=round(phimin*l.value*1000*t.value*fd,1)\n",
    "\n",
    "if Nrdmmax>Nmdmmax : \n",
    "    nnmmax='OK'\n",
    "else : \n",
    "    nnmmax='NOT ok'\n",
    "    \n",
    "if Nrdmmin>Nmdmmin : \n",
    "    nnmmin='OK'\n",
    "else : \n",
    "    nnmmin='NOT ok'"
   ]
  },
  {
   "cell_type": "markdown",
   "id": "0c8976cf",
   "metadata": {},
   "source": [
    "#### Vérification de la résistance Nrd"
   ]
  },
  {
   "cell_type": "markdown",
   "id": "f74fffea",
   "metadata": {
    "variables": {
     "Nmdmmax": "18.4",
     "Nrdmmax": "280.5",
     "Nrdmmin": "241.4",
     "nnmmax": "OK",
     "nnmmin": "OK"
    }
   },
   "source": [
    "|  |Cas de charge maximal (G def.)|Cas de charge minimal (G fav.)|\n",
    "|------|----------|----------|\n",
    "| $$N_{m,d}[kN]$$ | {{Nmdmmax}} | {{Nmdmmax}} |\n",
    "| $$N_{Rd}[kN]$$ | {{Nrdmmax}} | {{Nrdmmin}} |\n",
    "| $$N_{Rd}>N_{m,d}$$ | {{nnmmax}} | {{nnmmin}} |\n"
   ]
  },
  {
   "cell_type": "markdown",
   "id": "b447dea5",
   "metadata": {},
   "source": [
    "#### Vérification des contraintes"
   ]
  },
  {
   "cell_type": "markdown",
   "id": "53a6feb3",
   "metadata": {},
   "source": [
    "$$\\sigma_{d}=\\frac{0.15*N_{Rd}}{l*t}$$"
   ]
  },
  {
   "cell_type": "code",
   "execution_count": 151,
   "id": "7eda67a8",
   "metadata": {},
   "outputs": [],
   "source": [
    "sigmanmax=round(Nmdmmax/(l.value*t.value),1)*0.001\n",
    "sigmanmin=round(Nmdmmin/(l.value*t.value),1)*0.001\n",
    "\n",
    "iv=round(((l.value*t.value**3)/12)/(t.value/2),4)\n",
    "\n",
    "sigmammax=round(Mmdmax/iv,1)*0.001\n",
    "sigmammin=round(Mmdmin/iv,1)*0.001\n",
    "\n",
    "if sigmammax+sigmanmax<fd : \n",
    "    sigmaverifmax='OK'\n",
    "else : \n",
    "    sigmaverifmax='NOT ok'\n",
    "    \n",
    "if sigmammin+sigmanmin<fd :\n",
    "    sigmaverifmin='OK'\n",
    "else : \n",
    "    sigmaverifmin='NOT ok'\n",
    "    \n",
    "sigmadmax=(0.15*Nrdmmax)/(l.value*t.value)*0.001\n",
    "sigmadmin=(0.15*Nrdmmin)/(l.value*t.value)*0.001\n",
    "\n",
    "if sigmanmax-sigmammax>-(fxd1+sigmadmax):\n",
    "    sigma2verifmax='OK'\n",
    "else : \n",
    "    sigma2verifmax='NOT ok'\n",
    "    \n",
    "if sigmanmin-sigmammin>-(fxd1+sigmadmin):\n",
    "    sigma2verifmin='OK'\n",
    "else : \n",
    "    sigma2verifmin='NOT ok'"
   ]
  },
  {
   "cell_type": "markdown",
   "id": "aab77344",
   "metadata": {
    "variables": {
     "-round(fxd1+sigmadmax,3)": "-0.31",
     "-round(fxd1+sigmadmin,3)": "-0.281",
     "iv": "0.0067",
     "round(sigmanmax+sigmammax,3)": "0.094",
     "round(sigmanmax+sigmammin,3)": "0.093",
     "round(sigmanmax-sigmammax,3)": "0.09",
     "round(sigmanmax-sigmammin,3)": "0.091",
     "sigma2verifmax": "OK",
     "sigma2verifmin": "OK",
     "sigmammax": "0.0017",
     "sigmammin": "0.0007",
     "sigmanmax": "0.092",
     "sigmanmin": "0.064",
     "sigmaverifmax": "OK",
     "sigmaverifmin": "OK"
    }
   },
   "source": [
    "|  |Cas de charge maximal (G def.)|Cas de charge minimal (G fav.)|\n",
    "|------|----------|----------|\n",
    "| $$\\sigma(N_{m,d})[MPa]$$ | {{sigmanmax}} | {{sigmanmin}} |\n",
    "| $$I/v [m^3]$$ | {{iv}} | {{iv}} |\n",
    "| $$\\sigma(M_{m,d})[MPa]$$ | {{sigmammax}} | {{sigmammin}} |\n",
    "| $$\\sigma(N_{m,d}+M_{m,d})[MPa]$$ | {{round(sigmanmax+sigmammax,3)}} | {{round(sigmanmax+sigmammin,3)}} |\n",
    "| $$\\sigma(N_{m,d}-M_{m,d})[MPa]$$ | {{round(sigmanmax-sigmammax,3)}} | {{round(sigmanmax-sigmammin,3)}} |\n",
    "| $$\\sigma(N_{m,d}+M_{m,d})<f_{d}$$ | {{sigmaverifmax}} | {{sigmaverifmin}} |\n",
    "| $$f_{xd1,app}=f_{xd1}+\\sigma_{d}$$ | {{-round(fxd1+sigmadmax,3)}} | {{-round(fxd1+sigmadmin,3)}} |\n",
    "| $$\\sigma(N_{md}-M_{md})>f_{xd1,app}$$ | {{sigma2verifmax}} | {{sigma2verifmin}} |"
   ]
  },
  {
   "cell_type": "markdown",
   "id": "d5f54c95",
   "metadata": {},
   "source": [
    "## 5. Vérification au cisaillement des appuis \n",
    "\n",
    "Effort de cisaillement : $$N_{Ed,h}=\\gamma_{Q} * \\psi_{0,w} * w * h_{ef}$$\n",
    "\n",
    "Contrainte de cisaillement : $$\\sigma_{v}=\\frac{N_{Ed,h}}{2*A_{h}}$$"
   ]
  },
  {
   "cell_type": "code",
   "execution_count": 157,
   "id": "84aea2be",
   "metadata": {},
   "outputs": [],
   "source": [
    "Ah=(t.value-a.value)*l.value\n",
    "Nedh=1.5*0.6*w.value*hef\n",
    "sigmav=Nedh/(2*Ah)"
   ]
  }
 ],
 "metadata": {
  "hide_input": false,
  "kernelspec": {
   "display_name": "Python 3 (ipykernel)",
   "language": "python",
   "name": "python3"
  },
  "language_info": {
   "codemirror_mode": {
    "name": "ipython",
    "version": 3
   },
   "file_extension": ".py",
   "mimetype": "text/x-python",
   "name": "python",
   "nbconvert_exporter": "python",
   "pygments_lexer": "ipython3",
   "version": "3.10.0"
  }
 },
 "nbformat": 4,
 "nbformat_minor": 5
}
